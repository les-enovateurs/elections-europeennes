{
 "cells": [
  {
   "cell_type": "code",
   "execution_count": 75,
   "metadata": {},
   "outputs": [],
   "source": [
    "import pandas as pd\n",
    "import plotly.graph_objects as go\n",
    "import plotly.express as px\n",
    "import json"
   ]
  },
  {
   "cell_type": "code",
   "execution_count": 66,
   "metadata": {},
   "outputs": [],
   "source": [
    "df = pd.read_csv(\"./data/raw/candidats-eur-2024.csv\", delimiter=\";\")"
   ]
  },
  {
   "cell_type": "code",
   "execution_count": 67,
   "metadata": {},
   "outputs": [
    {
     "data": {
      "text/html": [
       "<div>\n",
       "<style scoped>\n",
       "    .dataframe tbody tr th:only-of-type {\n",
       "        vertical-align: middle;\n",
       "    }\n",
       "\n",
       "    .dataframe tbody tr th {\n",
       "        vertical-align: top;\n",
       "    }\n",
       "\n",
       "    .dataframe thead th {\n",
       "        text-align: right;\n",
       "    }\n",
       "</style>\n",
       "<table border=\"1\" class=\"dataframe\">\n",
       "  <thead>\n",
       "    <tr style=\"text-align: right;\">\n",
       "      <th></th>\n",
       "      <th>Code circonscription</th>\n",
       "      <th>Circonscription</th>\n",
       "      <th>Numéro de panneau</th>\n",
       "      <th>Libellé de la liste</th>\n",
       "      <th>Tête de liste</th>\n",
       "      <th>Ordre</th>\n",
       "      <th>Sexe</th>\n",
       "      <th>Nom sur le bulletin de vote</th>\n",
       "      <th>Prénom sur le bulletin de vote</th>\n",
       "      <th>Date de naissance</th>\n",
       "      <th>Profession</th>\n",
       "      <th>Code personnalité</th>\n",
       "      <th>Sortant</th>\n",
       "    </tr>\n",
       "  </thead>\n",
       "  <tbody>\n",
       "    <tr>\n",
       "      <th>count</th>\n",
       "      <td>3078</td>\n",
       "      <td>3078</td>\n",
       "      <td>3078.000000</td>\n",
       "      <td>3078</td>\n",
       "      <td>38</td>\n",
       "      <td>3078.000000</td>\n",
       "      <td>3078</td>\n",
       "      <td>3078</td>\n",
       "      <td>3078</td>\n",
       "      <td>3078</td>\n",
       "      <td>3078</td>\n",
       "      <td>73</td>\n",
       "      <td>52</td>\n",
       "    </tr>\n",
       "    <tr>\n",
       "      <th>unique</th>\n",
       "      <td>1</td>\n",
       "      <td>1</td>\n",
       "      <td>NaN</td>\n",
       "      <td>38</td>\n",
       "      <td>1</td>\n",
       "      <td>NaN</td>\n",
       "      <td>2</td>\n",
       "      <td>2756</td>\n",
       "      <td>1068</td>\n",
       "      <td>2861</td>\n",
       "      <td>41</td>\n",
       "      <td>7</td>\n",
       "      <td>1</td>\n",
       "    </tr>\n",
       "    <tr>\n",
       "      <th>top</th>\n",
       "      <td>FE</td>\n",
       "      <td>France entière</td>\n",
       "      <td>NaN</td>\n",
       "      <td>POUR UNE HUMANITE SOUVERAINE</td>\n",
       "      <td>OUI</td>\n",
       "      <td>NaN</td>\n",
       "      <td>M</td>\n",
       "      <td>MARTIN</td>\n",
       "      <td>Pierre</td>\n",
       "      <td>10/02/1989</td>\n",
       "      <td>(33) - Cadre de la fonction publique</td>\n",
       "      <td>RPE</td>\n",
       "      <td>OUI</td>\n",
       "    </tr>\n",
       "    <tr>\n",
       "      <th>freq</th>\n",
       "      <td>3078</td>\n",
       "      <td>3078</td>\n",
       "      <td>NaN</td>\n",
       "      <td>81</td>\n",
       "      <td>38</td>\n",
       "      <td>NaN</td>\n",
       "      <td>1546</td>\n",
       "      <td>9</td>\n",
       "      <td>35</td>\n",
       "      <td>3</td>\n",
       "      <td>247</td>\n",
       "      <td>52</td>\n",
       "      <td>52</td>\n",
       "    </tr>\n",
       "    <tr>\n",
       "      <th>mean</th>\n",
       "      <td>NaN</td>\n",
       "      <td>NaN</td>\n",
       "      <td>19.500000</td>\n",
       "      <td>NaN</td>\n",
       "      <td>NaN</td>\n",
       "      <td>41.000000</td>\n",
       "      <td>NaN</td>\n",
       "      <td>NaN</td>\n",
       "      <td>NaN</td>\n",
       "      <td>NaN</td>\n",
       "      <td>NaN</td>\n",
       "      <td>NaN</td>\n",
       "      <td>NaN</td>\n",
       "    </tr>\n",
       "    <tr>\n",
       "      <th>std</th>\n",
       "      <td>NaN</td>\n",
       "      <td>NaN</td>\n",
       "      <td>10.967638</td>\n",
       "      <td>NaN</td>\n",
       "      <td>NaN</td>\n",
       "      <td>23.384703</td>\n",
       "      <td>NaN</td>\n",
       "      <td>NaN</td>\n",
       "      <td>NaN</td>\n",
       "      <td>NaN</td>\n",
       "      <td>NaN</td>\n",
       "      <td>NaN</td>\n",
       "      <td>NaN</td>\n",
       "    </tr>\n",
       "    <tr>\n",
       "      <th>min</th>\n",
       "      <td>NaN</td>\n",
       "      <td>NaN</td>\n",
       "      <td>1.000000</td>\n",
       "      <td>NaN</td>\n",
       "      <td>NaN</td>\n",
       "      <td>1.000000</td>\n",
       "      <td>NaN</td>\n",
       "      <td>NaN</td>\n",
       "      <td>NaN</td>\n",
       "      <td>NaN</td>\n",
       "      <td>NaN</td>\n",
       "      <td>NaN</td>\n",
       "      <td>NaN</td>\n",
       "    </tr>\n",
       "    <tr>\n",
       "      <th>25%</th>\n",
       "      <td>NaN</td>\n",
       "      <td>NaN</td>\n",
       "      <td>10.000000</td>\n",
       "      <td>NaN</td>\n",
       "      <td>NaN</td>\n",
       "      <td>21.000000</td>\n",
       "      <td>NaN</td>\n",
       "      <td>NaN</td>\n",
       "      <td>NaN</td>\n",
       "      <td>NaN</td>\n",
       "      <td>NaN</td>\n",
       "      <td>NaN</td>\n",
       "      <td>NaN</td>\n",
       "    </tr>\n",
       "    <tr>\n",
       "      <th>50%</th>\n",
       "      <td>NaN</td>\n",
       "      <td>NaN</td>\n",
       "      <td>19.500000</td>\n",
       "      <td>NaN</td>\n",
       "      <td>NaN</td>\n",
       "      <td>41.000000</td>\n",
       "      <td>NaN</td>\n",
       "      <td>NaN</td>\n",
       "      <td>NaN</td>\n",
       "      <td>NaN</td>\n",
       "      <td>NaN</td>\n",
       "      <td>NaN</td>\n",
       "      <td>NaN</td>\n",
       "    </tr>\n",
       "    <tr>\n",
       "      <th>75%</th>\n",
       "      <td>NaN</td>\n",
       "      <td>NaN</td>\n",
       "      <td>29.000000</td>\n",
       "      <td>NaN</td>\n",
       "      <td>NaN</td>\n",
       "      <td>61.000000</td>\n",
       "      <td>NaN</td>\n",
       "      <td>NaN</td>\n",
       "      <td>NaN</td>\n",
       "      <td>NaN</td>\n",
       "      <td>NaN</td>\n",
       "      <td>NaN</td>\n",
       "      <td>NaN</td>\n",
       "    </tr>\n",
       "    <tr>\n",
       "      <th>max</th>\n",
       "      <td>NaN</td>\n",
       "      <td>NaN</td>\n",
       "      <td>38.000000</td>\n",
       "      <td>NaN</td>\n",
       "      <td>NaN</td>\n",
       "      <td>81.000000</td>\n",
       "      <td>NaN</td>\n",
       "      <td>NaN</td>\n",
       "      <td>NaN</td>\n",
       "      <td>NaN</td>\n",
       "      <td>NaN</td>\n",
       "      <td>NaN</td>\n",
       "      <td>NaN</td>\n",
       "    </tr>\n",
       "  </tbody>\n",
       "</table>\n",
       "</div>"
      ],
      "text/plain": [
       "       Code circonscription Circonscription  Numéro de panneau  \\\n",
       "count                  3078            3078        3078.000000   \n",
       "unique                    1               1                NaN   \n",
       "top                      FE  France entière                NaN   \n",
       "freq                   3078            3078                NaN   \n",
       "mean                    NaN             NaN          19.500000   \n",
       "std                     NaN             NaN          10.967638   \n",
       "min                     NaN             NaN           1.000000   \n",
       "25%                     NaN             NaN          10.000000   \n",
       "50%                     NaN             NaN          19.500000   \n",
       "75%                     NaN             NaN          29.000000   \n",
       "max                     NaN             NaN          38.000000   \n",
       "\n",
       "                 Libellé de la liste Tête de liste        Ordre  Sexe  \\\n",
       "count                           3078            38  3078.000000  3078   \n",
       "unique                            38             1          NaN     2   \n",
       "top     POUR UNE HUMANITE SOUVERAINE           OUI          NaN     M   \n",
       "freq                              81            38          NaN  1546   \n",
       "mean                             NaN           NaN    41.000000   NaN   \n",
       "std                              NaN           NaN    23.384703   NaN   \n",
       "min                              NaN           NaN     1.000000   NaN   \n",
       "25%                              NaN           NaN    21.000000   NaN   \n",
       "50%                              NaN           NaN    41.000000   NaN   \n",
       "75%                              NaN           NaN    61.000000   NaN   \n",
       "max                              NaN           NaN    81.000000   NaN   \n",
       "\n",
       "       Nom sur le bulletin de vote Prénom sur le bulletin de vote  \\\n",
       "count                         3078                           3078   \n",
       "unique                        2756                           1068   \n",
       "top                         MARTIN                         Pierre   \n",
       "freq                             9                             35   \n",
       "mean                           NaN                            NaN   \n",
       "std                            NaN                            NaN   \n",
       "min                            NaN                            NaN   \n",
       "25%                            NaN                            NaN   \n",
       "50%                            NaN                            NaN   \n",
       "75%                            NaN                            NaN   \n",
       "max                            NaN                            NaN   \n",
       "\n",
       "       Date de naissance                            Profession  \\\n",
       "count               3078                                  3078   \n",
       "unique              2861                                    41   \n",
       "top           10/02/1989  (33) - Cadre de la fonction publique   \n",
       "freq                   3                                   247   \n",
       "mean                 NaN                                   NaN   \n",
       "std                  NaN                                   NaN   \n",
       "min                  NaN                                   NaN   \n",
       "25%                  NaN                                   NaN   \n",
       "50%                  NaN                                   NaN   \n",
       "75%                  NaN                                   NaN   \n",
       "max                  NaN                                   NaN   \n",
       "\n",
       "       Code personnalité Sortant  \n",
       "count                 73      52  \n",
       "unique                 7       1  \n",
       "top                  RPE     OUI  \n",
       "freq                  52      52  \n",
       "mean                 NaN     NaN  \n",
       "std                  NaN     NaN  \n",
       "min                  NaN     NaN  \n",
       "25%                  NaN     NaN  \n",
       "50%                  NaN     NaN  \n",
       "75%                  NaN     NaN  \n",
       "max                  NaN     NaN  "
      ]
     },
     "execution_count": 67,
     "metadata": {},
     "output_type": "execute_result"
    }
   ],
   "source": [
    "df.describe(include=\"all\")"
   ]
  },
  {
   "cell_type": "code",
   "execution_count": 68,
   "metadata": {},
   "outputs": [
    {
     "data": {
      "text/html": [
       "<div>\n",
       "<style scoped>\n",
       "    .dataframe tbody tr th:only-of-type {\n",
       "        vertical-align: middle;\n",
       "    }\n",
       "\n",
       "    .dataframe tbody tr th {\n",
       "        vertical-align: top;\n",
       "    }\n",
       "\n",
       "    .dataframe thead th {\n",
       "        text-align: right;\n",
       "    }\n",
       "</style>\n",
       "<table border=\"1\" class=\"dataframe\">\n",
       "  <thead>\n",
       "    <tr style=\"text-align: right;\">\n",
       "      <th></th>\n",
       "      <th>Code circonscription</th>\n",
       "      <th>Circonscription</th>\n",
       "      <th>Numéro de panneau</th>\n",
       "      <th>Libellé de la liste</th>\n",
       "      <th>Tête de liste</th>\n",
       "      <th>Ordre</th>\n",
       "      <th>Sexe</th>\n",
       "      <th>Nom sur le bulletin de vote</th>\n",
       "      <th>Prénom sur le bulletin de vote</th>\n",
       "      <th>Date de naissance</th>\n",
       "      <th>Profession</th>\n",
       "      <th>Code personnalité</th>\n",
       "      <th>Sortant</th>\n",
       "    </tr>\n",
       "  </thead>\n",
       "  <tbody>\n",
       "    <tr>\n",
       "      <th>0</th>\n",
       "      <td>FE</td>\n",
       "      <td>France entière</td>\n",
       "      <td>1</td>\n",
       "      <td>POUR UNE HUMANITE SOUVERAINE</td>\n",
       "      <td>OUI</td>\n",
       "      <td>1</td>\n",
       "      <td>M</td>\n",
       "      <td>DEHER-LESAINT</td>\n",
       "      <td>Léopold-Edouard</td>\n",
       "      <td>16/10/1947</td>\n",
       "      <td>(35) - Profession de l'information, des arts e...</td>\n",
       "      <td>NaN</td>\n",
       "      <td>NaN</td>\n",
       "    </tr>\n",
       "    <tr>\n",
       "      <th>1</th>\n",
       "      <td>FE</td>\n",
       "      <td>France entière</td>\n",
       "      <td>1</td>\n",
       "      <td>POUR UNE HUMANITE SOUVERAINE</td>\n",
       "      <td>NaN</td>\n",
       "      <td>2</td>\n",
       "      <td>F</td>\n",
       "      <td>BOULOGNE</td>\n",
       "      <td>Sandra</td>\n",
       "      <td>22/06/1976</td>\n",
       "      <td>(22) - Commerçant et assimilé</td>\n",
       "      <td>NaN</td>\n",
       "      <td>NaN</td>\n",
       "    </tr>\n",
       "    <tr>\n",
       "      <th>2</th>\n",
       "      <td>FE</td>\n",
       "      <td>France entière</td>\n",
       "      <td>1</td>\n",
       "      <td>POUR UNE HUMANITE SOUVERAINE</td>\n",
       "      <td>NaN</td>\n",
       "      <td>3</td>\n",
       "      <td>M</td>\n",
       "      <td>AJ</td>\n",
       "      <td>Rodrigue</td>\n",
       "      <td>23/05/1981</td>\n",
       "      <td>(47) - Technicien</td>\n",
       "      <td>NaN</td>\n",
       "      <td>NaN</td>\n",
       "    </tr>\n",
       "    <tr>\n",
       "      <th>3</th>\n",
       "      <td>FE</td>\n",
       "      <td>France entière</td>\n",
       "      <td>1</td>\n",
       "      <td>POUR UNE HUMANITE SOUVERAINE</td>\n",
       "      <td>NaN</td>\n",
       "      <td>4</td>\n",
       "      <td>F</td>\n",
       "      <td>JOBY</td>\n",
       "      <td>Valente</td>\n",
       "      <td>20/07/1939</td>\n",
       "      <td>(75) - Ancienne profession intermédiaire</td>\n",
       "      <td>NaN</td>\n",
       "      <td>NaN</td>\n",
       "    </tr>\n",
       "    <tr>\n",
       "      <th>4</th>\n",
       "      <td>FE</td>\n",
       "      <td>France entière</td>\n",
       "      <td>1</td>\n",
       "      <td>POUR UNE HUMANITE SOUVERAINE</td>\n",
       "      <td>NaN</td>\n",
       "      <td>5</td>\n",
       "      <td>M</td>\n",
       "      <td>MAYOUTE</td>\n",
       "      <td>Richard</td>\n",
       "      <td>21/12/1966</td>\n",
       "      <td>(22) - Commerçant et assimilé</td>\n",
       "      <td>NaN</td>\n",
       "      <td>NaN</td>\n",
       "    </tr>\n",
       "  </tbody>\n",
       "</table>\n",
       "</div>"
      ],
      "text/plain": [
       "  Code circonscription Circonscription  Numéro de panneau  \\\n",
       "0                   FE  France entière                  1   \n",
       "1                   FE  France entière                  1   \n",
       "2                   FE  France entière                  1   \n",
       "3                   FE  France entière                  1   \n",
       "4                   FE  France entière                  1   \n",
       "\n",
       "            Libellé de la liste Tête de liste  Ordre Sexe  \\\n",
       "0  POUR UNE HUMANITE SOUVERAINE           OUI      1    M   \n",
       "1  POUR UNE HUMANITE SOUVERAINE           NaN      2    F   \n",
       "2  POUR UNE HUMANITE SOUVERAINE           NaN      3    M   \n",
       "3  POUR UNE HUMANITE SOUVERAINE           NaN      4    F   \n",
       "4  POUR UNE HUMANITE SOUVERAINE           NaN      5    M   \n",
       "\n",
       "  Nom sur le bulletin de vote Prénom sur le bulletin de vote  \\\n",
       "0               DEHER-LESAINT                Léopold-Edouard   \n",
       "1                    BOULOGNE                         Sandra   \n",
       "2                          AJ                       Rodrigue   \n",
       "3                        JOBY                        Valente   \n",
       "4                     MAYOUTE                        Richard   \n",
       "\n",
       "  Date de naissance                                         Profession  \\\n",
       "0        16/10/1947  (35) - Profession de l'information, des arts e...   \n",
       "1        22/06/1976                      (22) - Commerçant et assimilé   \n",
       "2        23/05/1981                                  (47) - Technicien   \n",
       "3        20/07/1939           (75) - Ancienne profession intermédiaire   \n",
       "4        21/12/1966                      (22) - Commerçant et assimilé   \n",
       "\n",
       "  Code personnalité Sortant  \n",
       "0               NaN     NaN  \n",
       "1               NaN     NaN  \n",
       "2               NaN     NaN  \n",
       "3               NaN     NaN  \n",
       "4               NaN     NaN  "
      ]
     },
     "execution_count": 68,
     "metadata": {},
     "output_type": "execute_result"
    }
   ],
   "source": [
    "df.head()"
   ]
  },
  {
   "cell_type": "code",
   "execution_count": 69,
   "metadata": {},
   "outputs": [],
   "source": [
    "df_sex_by_list = df.groupby([\"Libellé de la liste\"])[\"Sexe\"].value_counts(\n",
    "    normalize=True\n",
    ")"
   ]
  },
  {
   "cell_type": "code",
   "execution_count": 70,
   "metadata": {},
   "outputs": [
    {
     "data": {
      "text/plain": [
       "Libellé de la liste                                                            Sexe\n",
       "\"POUR LE PAIN, LA PAIX, LA LIBERTÉ !\" PRÉSENTÉE PAR LE PARTI DES TRAVAILLEURS  F       0.506173\n",
       "                                                                               M       0.493827\n",
       "ALLIANCE RURALE                                                                M       0.506173\n",
       "                                                                               F       0.493827\n",
       "BESOIN D'EUROPE                                                                F       0.506173\n",
       "                                                                                         ...   \n",
       "RÉVEILLER L'EUROPE                                                             F       0.493827\n",
       "ÉCOLOGIE AU CENTRE                                                             M       0.506173\n",
       "                                                                               F       0.493827\n",
       "ÉQUINOXE : ÉCOLOGIE PRATIQUE ET RENOUVEAU DÉMOCRATIQUE                         F       0.506173\n",
       "                                                                               M       0.493827\n",
       "Name: proportion, Length: 76, dtype: float64"
      ]
     },
     "execution_count": 70,
     "metadata": {},
     "output_type": "execute_result"
    }
   ],
   "source": [
    "df_sex_by_list"
   ]
  },
  {
   "cell_type": "code",
   "execution_count": 71,
   "metadata": {},
   "outputs": [
    {
     "data": {
      "application/vnd.plotly.v1+json": {
       "config": {
        "plotlyServerURL": "https://plot.ly"
       },
       "data": [
        {
         "marker": {
          "color": "#ee5a45"
         },
         "name": "Masculin",
         "orientation": "h",
         "type": "bar",
         "x": [
          49.382716049382715,
          50.617283950617285,
          49.382716049382715,
          50.617283950617285,
          50.617283950617285,
          50.617283950617285,
          50.617283950617285,
          49.382716049382715,
          50.617283950617285,
          49.382716049382715,
          50.617283950617285,
          50.617283950617285,
          50.617283950617285,
          50.617283950617285,
          50.617283950617285,
          50.617283950617285,
          49.382716049382715,
          49.382716049382715,
          50.617283950617285,
          49.382716049382715,
          50.617283950617285,
          50.617283950617285,
          49.382716049382715,
          50.617283950617285,
          50.617283950617285,
          50.617283950617285,
          50.617283950617285,
          50.617283950617285,
          49.382716049382715,
          49.382716049382715,
          50.617283950617285,
          49.382716049382715,
          50.617283950617285,
          50.617283950617285,
          50.617283950617285,
          50.617283950617285,
          50.617283950617285,
          49.382716049382715
         ],
         "y": [
          "\"POUR LE PAIN, LA PAIX, LA LIBERTÉ !\" PRÉSENTÉE PAR LE PARTI DES TRAVAILLEURS",
          "ALLIANCE RURALE",
          "BESOIN D'EUROPE",
          "CHANGER L'EUROPE",
          "DEFENDRE LES ENFANTS",
          "DEMOCRATIE REPRESENTATIVE",
          "ECOLOGIE POSITIVE ET TERRITOIRES",
          "ESPERANTO LANGUE COMMUNE",
          "EUROPE TERRITOIRES ÉCOLOGIE",
          "EUROPE ÉCOLOGIE",
          "FORTERESSE EUROPE - LISTE D'UNITE NATIONALISTE",
          "FRANCE LIBRE",
          "FREE PALESTINE",
          "GAUCHE UNIE POUR LE MONDE DU TRAVAIL SOUTENUE PAR FABIEN ROUSSEL",
          "L'EUROPE CA SUFFIT !",
          "LA DROITE POUR FAIRE ENTENDRE LA VOIX DE LA FRANCE EN EUROPE",
          "LA FRANCE FIERE, MENEE PAR MARION MARECHAL ET SOUTENUE PAR ÉRIC ZEMMOUR",
          "LA FRANCE INSOUMISE - UNION POPULAIRE",
          "LA FRANCE REVIENT ! AVEC JORDAN BARDELLA ET MARINE LE PEN",
          "LA RUCHE CITOYENNE",
          "LIBERTÉ DÉMOCRATIQUE FRANÇAISE",
          "LISTE ASSELINEAU-FREXIT, POUR LE POUVOIR D'ACHAT ET POUR LA PAIX",
          "LUTTE OUVRIERE - LE CAMP DES TRAVAILLEURS",
          "NON ! PRENONS-NOUS EN MAINS",
          "NON À L'UE ET À L'OTAN, COMMUNISTES POUR LA PAIX ET LE PROGRÈS SOCIAL",
          "NOUS LE PEUPLE",
          "PACE - PARTI DES CITOYENS EUROPÉENS, POUR L'ARMÉE EUROPÉENNE, POUR L'EUROPE SOCIALE , POUR LA PLANÈTE !",
          "PAIX ET DECROISSANCE",
          "PARTI ANIMALISTE - LES ANIMAUX COMPTENT, VOTRE VOIX AUSSI",
          "PARTI PIRATE",
          "PARTI REVOLUTIONNAIRE COMMUNISTES",
          "POUR UN MONDE SANS FRONTIERES NI PATRONS, URGENCE REVOLUTION !",
          "POUR UNE AUTRE EUROPE",
          "POUR UNE DEMOCRATIE REELLE : DECIDONS NOUS-MEMES !",
          "POUR UNE HUMANITE SOUVERAINE",
          "RÉVEILLER L'EUROPE",
          "ÉCOLOGIE AU CENTRE",
          "ÉQUINOXE : ÉCOLOGIE PRATIQUE ET RENOUVEAU DÉMOCRATIQUE"
         ]
        },
        {
         "marker": {
          "color": "#1e8f89"
         },
         "name": "Féminin",
         "orientation": "h",
         "type": "bar",
         "x": [
          50.617283950617285,
          49.382716049382715,
          50.617283950617285,
          49.382716049382715,
          49.382716049382715,
          49.382716049382715,
          49.382716049382715,
          50.617283950617285,
          49.382716049382715,
          50.617283950617285,
          49.382716049382715,
          49.382716049382715,
          49.382716049382715,
          49.382716049382715,
          49.382716049382715,
          49.382716049382715,
          50.617283950617285,
          50.617283950617285,
          49.382716049382715,
          50.617283950617285,
          49.382716049382715,
          49.382716049382715,
          50.617283950617285,
          49.382716049382715,
          49.382716049382715,
          49.382716049382715,
          49.382716049382715,
          49.382716049382715,
          50.617283950617285,
          50.617283950617285,
          49.382716049382715,
          50.617283950617285,
          49.382716049382715,
          49.382716049382715,
          49.382716049382715,
          49.382716049382715,
          49.382716049382715,
          50.617283950617285
         ],
         "y": [
          "\"POUR LE PAIN, LA PAIX, LA LIBERTÉ !\" PRÉSENTÉE PAR LE PARTI DES TRAVAILLEURS",
          "ALLIANCE RURALE",
          "BESOIN D'EUROPE",
          "CHANGER L'EUROPE",
          "DEFENDRE LES ENFANTS",
          "DEMOCRATIE REPRESENTATIVE",
          "ECOLOGIE POSITIVE ET TERRITOIRES",
          "ESPERANTO LANGUE COMMUNE",
          "EUROPE TERRITOIRES ÉCOLOGIE",
          "EUROPE ÉCOLOGIE",
          "FORTERESSE EUROPE - LISTE D'UNITE NATIONALISTE",
          "FRANCE LIBRE",
          "FREE PALESTINE",
          "GAUCHE UNIE POUR LE MONDE DU TRAVAIL SOUTENUE PAR FABIEN ROUSSEL",
          "L'EUROPE CA SUFFIT !",
          "LA DROITE POUR FAIRE ENTENDRE LA VOIX DE LA FRANCE EN EUROPE",
          "LA FRANCE FIERE, MENEE PAR MARION MARECHAL ET SOUTENUE PAR ÉRIC ZEMMOUR",
          "LA FRANCE INSOUMISE - UNION POPULAIRE",
          "LA FRANCE REVIENT ! AVEC JORDAN BARDELLA ET MARINE LE PEN",
          "LA RUCHE CITOYENNE",
          "LIBERTÉ DÉMOCRATIQUE FRANÇAISE",
          "LISTE ASSELINEAU-FREXIT, POUR LE POUVOIR D'ACHAT ET POUR LA PAIX",
          "LUTTE OUVRIERE - LE CAMP DES TRAVAILLEURS",
          "NON ! PRENONS-NOUS EN MAINS",
          "NON À L'UE ET À L'OTAN, COMMUNISTES POUR LA PAIX ET LE PROGRÈS SOCIAL",
          "NOUS LE PEUPLE",
          "PACE - PARTI DES CITOYENS EUROPÉENS, POUR L'ARMÉE EUROPÉENNE, POUR L'EUROPE SOCIALE , POUR LA PLANÈTE !",
          "PAIX ET DECROISSANCE",
          "PARTI ANIMALISTE - LES ANIMAUX COMPTENT, VOTRE VOIX AUSSI",
          "PARTI PIRATE",
          "PARTI REVOLUTIONNAIRE COMMUNISTES",
          "POUR UN MONDE SANS FRONTIERES NI PATRONS, URGENCE REVOLUTION !",
          "POUR UNE AUTRE EUROPE",
          "POUR UNE DEMOCRATIE REELLE : DECIDONS NOUS-MEMES !",
          "POUR UNE HUMANITE SOUVERAINE",
          "RÉVEILLER L'EUROPE",
          "ÉCOLOGIE AU CENTRE",
          "ÉQUINOXE : ÉCOLOGIE PRATIQUE ET RENOUVEAU DÉMOCRATIQUE"
         ]
        }
       ],
       "layout": {
        "annotations": [
         {
          "showarrow": false,
          "text": "50%",
          "x": 50,
          "xanchor": "center",
          "xref": "x",
          "y": 1,
          "yanchor": "bottom",
          "yref": "y domain"
         }
        ],
        "barmode": "stack",
        "height": 1000,
        "plot_bgcolor": "white",
        "shapes": [
         {
          "type": "line",
          "x0": 50,
          "x1": 50,
          "xref": "x",
          "y0": 0,
          "y1": 1,
          "yref": "y domain"
         }
        ],
        "template": {
         "data": {
          "bar": [
           {
            "error_x": {
             "color": "#2a3f5f"
            },
            "error_y": {
             "color": "#2a3f5f"
            },
            "marker": {
             "line": {
              "color": "#E5ECF6",
              "width": 0.5
             },
             "pattern": {
              "fillmode": "overlay",
              "size": 10,
              "solidity": 0.2
             }
            },
            "type": "bar"
           }
          ],
          "barpolar": [
           {
            "marker": {
             "line": {
              "color": "#E5ECF6",
              "width": 0.5
             },
             "pattern": {
              "fillmode": "overlay",
              "size": 10,
              "solidity": 0.2
             }
            },
            "type": "barpolar"
           }
          ],
          "carpet": [
           {
            "aaxis": {
             "endlinecolor": "#2a3f5f",
             "gridcolor": "white",
             "linecolor": "white",
             "minorgridcolor": "white",
             "startlinecolor": "#2a3f5f"
            },
            "baxis": {
             "endlinecolor": "#2a3f5f",
             "gridcolor": "white",
             "linecolor": "white",
             "minorgridcolor": "white",
             "startlinecolor": "#2a3f5f"
            },
            "type": "carpet"
           }
          ],
          "choropleth": [
           {
            "colorbar": {
             "outlinewidth": 0,
             "ticks": ""
            },
            "type": "choropleth"
           }
          ],
          "contour": [
           {
            "colorbar": {
             "outlinewidth": 0,
             "ticks": ""
            },
            "colorscale": [
             [
              0,
              "#0d0887"
             ],
             [
              0.1111111111111111,
              "#46039f"
             ],
             [
              0.2222222222222222,
              "#7201a8"
             ],
             [
              0.3333333333333333,
              "#9c179e"
             ],
             [
              0.4444444444444444,
              "#bd3786"
             ],
             [
              0.5555555555555556,
              "#d8576b"
             ],
             [
              0.6666666666666666,
              "#ed7953"
             ],
             [
              0.7777777777777778,
              "#fb9f3a"
             ],
             [
              0.8888888888888888,
              "#fdca26"
             ],
             [
              1,
              "#f0f921"
             ]
            ],
            "type": "contour"
           }
          ],
          "contourcarpet": [
           {
            "colorbar": {
             "outlinewidth": 0,
             "ticks": ""
            },
            "type": "contourcarpet"
           }
          ],
          "heatmap": [
           {
            "colorbar": {
             "outlinewidth": 0,
             "ticks": ""
            },
            "colorscale": [
             [
              0,
              "#0d0887"
             ],
             [
              0.1111111111111111,
              "#46039f"
             ],
             [
              0.2222222222222222,
              "#7201a8"
             ],
             [
              0.3333333333333333,
              "#9c179e"
             ],
             [
              0.4444444444444444,
              "#bd3786"
             ],
             [
              0.5555555555555556,
              "#d8576b"
             ],
             [
              0.6666666666666666,
              "#ed7953"
             ],
             [
              0.7777777777777778,
              "#fb9f3a"
             ],
             [
              0.8888888888888888,
              "#fdca26"
             ],
             [
              1,
              "#f0f921"
             ]
            ],
            "type": "heatmap"
           }
          ],
          "heatmapgl": [
           {
            "colorbar": {
             "outlinewidth": 0,
             "ticks": ""
            },
            "colorscale": [
             [
              0,
              "#0d0887"
             ],
             [
              0.1111111111111111,
              "#46039f"
             ],
             [
              0.2222222222222222,
              "#7201a8"
             ],
             [
              0.3333333333333333,
              "#9c179e"
             ],
             [
              0.4444444444444444,
              "#bd3786"
             ],
             [
              0.5555555555555556,
              "#d8576b"
             ],
             [
              0.6666666666666666,
              "#ed7953"
             ],
             [
              0.7777777777777778,
              "#fb9f3a"
             ],
             [
              0.8888888888888888,
              "#fdca26"
             ],
             [
              1,
              "#f0f921"
             ]
            ],
            "type": "heatmapgl"
           }
          ],
          "histogram": [
           {
            "marker": {
             "pattern": {
              "fillmode": "overlay",
              "size": 10,
              "solidity": 0.2
             }
            },
            "type": "histogram"
           }
          ],
          "histogram2d": [
           {
            "colorbar": {
             "outlinewidth": 0,
             "ticks": ""
            },
            "colorscale": [
             [
              0,
              "#0d0887"
             ],
             [
              0.1111111111111111,
              "#46039f"
             ],
             [
              0.2222222222222222,
              "#7201a8"
             ],
             [
              0.3333333333333333,
              "#9c179e"
             ],
             [
              0.4444444444444444,
              "#bd3786"
             ],
             [
              0.5555555555555556,
              "#d8576b"
             ],
             [
              0.6666666666666666,
              "#ed7953"
             ],
             [
              0.7777777777777778,
              "#fb9f3a"
             ],
             [
              0.8888888888888888,
              "#fdca26"
             ],
             [
              1,
              "#f0f921"
             ]
            ],
            "type": "histogram2d"
           }
          ],
          "histogram2dcontour": [
           {
            "colorbar": {
             "outlinewidth": 0,
             "ticks": ""
            },
            "colorscale": [
             [
              0,
              "#0d0887"
             ],
             [
              0.1111111111111111,
              "#46039f"
             ],
             [
              0.2222222222222222,
              "#7201a8"
             ],
             [
              0.3333333333333333,
              "#9c179e"
             ],
             [
              0.4444444444444444,
              "#bd3786"
             ],
             [
              0.5555555555555556,
              "#d8576b"
             ],
             [
              0.6666666666666666,
              "#ed7953"
             ],
             [
              0.7777777777777778,
              "#fb9f3a"
             ],
             [
              0.8888888888888888,
              "#fdca26"
             ],
             [
              1,
              "#f0f921"
             ]
            ],
            "type": "histogram2dcontour"
           }
          ],
          "mesh3d": [
           {
            "colorbar": {
             "outlinewidth": 0,
             "ticks": ""
            },
            "type": "mesh3d"
           }
          ],
          "parcoords": [
           {
            "line": {
             "colorbar": {
              "outlinewidth": 0,
              "ticks": ""
             }
            },
            "type": "parcoords"
           }
          ],
          "pie": [
           {
            "automargin": true,
            "type": "pie"
           }
          ],
          "scatter": [
           {
            "fillpattern": {
             "fillmode": "overlay",
             "size": 10,
             "solidity": 0.2
            },
            "type": "scatter"
           }
          ],
          "scatter3d": [
           {
            "line": {
             "colorbar": {
              "outlinewidth": 0,
              "ticks": ""
             }
            },
            "marker": {
             "colorbar": {
              "outlinewidth": 0,
              "ticks": ""
             }
            },
            "type": "scatter3d"
           }
          ],
          "scattercarpet": [
           {
            "marker": {
             "colorbar": {
              "outlinewidth": 0,
              "ticks": ""
             }
            },
            "type": "scattercarpet"
           }
          ],
          "scattergeo": [
           {
            "marker": {
             "colorbar": {
              "outlinewidth": 0,
              "ticks": ""
             }
            },
            "type": "scattergeo"
           }
          ],
          "scattergl": [
           {
            "marker": {
             "colorbar": {
              "outlinewidth": 0,
              "ticks": ""
             }
            },
            "type": "scattergl"
           }
          ],
          "scattermapbox": [
           {
            "marker": {
             "colorbar": {
              "outlinewidth": 0,
              "ticks": ""
             }
            },
            "type": "scattermapbox"
           }
          ],
          "scatterpolar": [
           {
            "marker": {
             "colorbar": {
              "outlinewidth": 0,
              "ticks": ""
             }
            },
            "type": "scatterpolar"
           }
          ],
          "scatterpolargl": [
           {
            "marker": {
             "colorbar": {
              "outlinewidth": 0,
              "ticks": ""
             }
            },
            "type": "scatterpolargl"
           }
          ],
          "scatterternary": [
           {
            "marker": {
             "colorbar": {
              "outlinewidth": 0,
              "ticks": ""
             }
            },
            "type": "scatterternary"
           }
          ],
          "surface": [
           {
            "colorbar": {
             "outlinewidth": 0,
             "ticks": ""
            },
            "colorscale": [
             [
              0,
              "#0d0887"
             ],
             [
              0.1111111111111111,
              "#46039f"
             ],
             [
              0.2222222222222222,
              "#7201a8"
             ],
             [
              0.3333333333333333,
              "#9c179e"
             ],
             [
              0.4444444444444444,
              "#bd3786"
             ],
             [
              0.5555555555555556,
              "#d8576b"
             ],
             [
              0.6666666666666666,
              "#ed7953"
             ],
             [
              0.7777777777777778,
              "#fb9f3a"
             ],
             [
              0.8888888888888888,
              "#fdca26"
             ],
             [
              1,
              "#f0f921"
             ]
            ],
            "type": "surface"
           }
          ],
          "table": [
           {
            "cells": {
             "fill": {
              "color": "#EBF0F8"
             },
             "line": {
              "color": "white"
             }
            },
            "header": {
             "fill": {
              "color": "#C8D4E3"
             },
             "line": {
              "color": "white"
             }
            },
            "type": "table"
           }
          ]
         },
         "layout": {
          "annotationdefaults": {
           "arrowcolor": "#2a3f5f",
           "arrowhead": 0,
           "arrowwidth": 1
          },
          "autotypenumbers": "strict",
          "coloraxis": {
           "colorbar": {
            "outlinewidth": 0,
            "ticks": ""
           }
          },
          "colorscale": {
           "diverging": [
            [
             0,
             "#8e0152"
            ],
            [
             0.1,
             "#c51b7d"
            ],
            [
             0.2,
             "#de77ae"
            ],
            [
             0.3,
             "#f1b6da"
            ],
            [
             0.4,
             "#fde0ef"
            ],
            [
             0.5,
             "#f7f7f7"
            ],
            [
             0.6,
             "#e6f5d0"
            ],
            [
             0.7,
             "#b8e186"
            ],
            [
             0.8,
             "#7fbc41"
            ],
            [
             0.9,
             "#4d9221"
            ],
            [
             1,
             "#276419"
            ]
           ],
           "sequential": [
            [
             0,
             "#0d0887"
            ],
            [
             0.1111111111111111,
             "#46039f"
            ],
            [
             0.2222222222222222,
             "#7201a8"
            ],
            [
             0.3333333333333333,
             "#9c179e"
            ],
            [
             0.4444444444444444,
             "#bd3786"
            ],
            [
             0.5555555555555556,
             "#d8576b"
            ],
            [
             0.6666666666666666,
             "#ed7953"
            ],
            [
             0.7777777777777778,
             "#fb9f3a"
            ],
            [
             0.8888888888888888,
             "#fdca26"
            ],
            [
             1,
             "#f0f921"
            ]
           ],
           "sequentialminus": [
            [
             0,
             "#0d0887"
            ],
            [
             0.1111111111111111,
             "#46039f"
            ],
            [
             0.2222222222222222,
             "#7201a8"
            ],
            [
             0.3333333333333333,
             "#9c179e"
            ],
            [
             0.4444444444444444,
             "#bd3786"
            ],
            [
             0.5555555555555556,
             "#d8576b"
            ],
            [
             0.6666666666666666,
             "#ed7953"
            ],
            [
             0.7777777777777778,
             "#fb9f3a"
            ],
            [
             0.8888888888888888,
             "#fdca26"
            ],
            [
             1,
             "#f0f921"
            ]
           ]
          },
          "colorway": [
           "#636efa",
           "#EF553B",
           "#00cc96",
           "#ab63fa",
           "#FFA15A",
           "#19d3f3",
           "#FF6692",
           "#B6E880",
           "#FF97FF",
           "#FECB52"
          ],
          "font": {
           "color": "#2a3f5f"
          },
          "geo": {
           "bgcolor": "white",
           "lakecolor": "white",
           "landcolor": "#E5ECF6",
           "showlakes": true,
           "showland": true,
           "subunitcolor": "white"
          },
          "hoverlabel": {
           "align": "left"
          },
          "hovermode": "closest",
          "mapbox": {
           "style": "light"
          },
          "paper_bgcolor": "white",
          "plot_bgcolor": "#E5ECF6",
          "polar": {
           "angularaxis": {
            "gridcolor": "white",
            "linecolor": "white",
            "ticks": ""
           },
           "bgcolor": "#E5ECF6",
           "radialaxis": {
            "gridcolor": "white",
            "linecolor": "white",
            "ticks": ""
           }
          },
          "scene": {
           "xaxis": {
            "backgroundcolor": "#E5ECF6",
            "gridcolor": "white",
            "gridwidth": 2,
            "linecolor": "white",
            "showbackground": true,
            "ticks": "",
            "zerolinecolor": "white"
           },
           "yaxis": {
            "backgroundcolor": "#E5ECF6",
            "gridcolor": "white",
            "gridwidth": 2,
            "linecolor": "white",
            "showbackground": true,
            "ticks": "",
            "zerolinecolor": "white"
           },
           "zaxis": {
            "backgroundcolor": "#E5ECF6",
            "gridcolor": "white",
            "gridwidth": 2,
            "linecolor": "white",
            "showbackground": true,
            "ticks": "",
            "zerolinecolor": "white"
           }
          },
          "shapedefaults": {
           "line": {
            "color": "#2a3f5f"
           }
          },
          "ternary": {
           "aaxis": {
            "gridcolor": "white",
            "linecolor": "white",
            "ticks": ""
           },
           "baxis": {
            "gridcolor": "white",
            "linecolor": "white",
            "ticks": ""
           },
           "bgcolor": "#E5ECF6",
           "caxis": {
            "gridcolor": "white",
            "linecolor": "white",
            "ticks": ""
           }
          },
          "title": {
           "x": 0.05
          },
          "xaxis": {
           "automargin": true,
           "gridcolor": "white",
           "linecolor": "white",
           "ticks": "",
           "title": {
            "standoff": 15
           },
           "zerolinecolor": "white",
           "zerolinewidth": 2
          },
          "yaxis": {
           "automargin": true,
           "gridcolor": "white",
           "linecolor": "white",
           "ticks": "",
           "title": {
            "standoff": 15
           },
           "zerolinecolor": "white",
           "zerolinewidth": 2
          }
         }
        },
        "title": {
         "font": {
          "family": "Segoe UI"
         },
         "text": "La parité est elle respectée au sein des listes ?",
         "x": 0.5,
         "xanchor": "center"
        },
        "xaxis": {
         "ticksuffix": "%"
        }
       }
      }
     },
     "metadata": {},
     "output_type": "display_data"
    }
   ],
   "source": [
    "traces = []\n",
    "for data_config in [\n",
    "    {\"cat\": \"M\", \"color\": \"#ee5a45\", \"name\": \"Masculin\"},\n",
    "    {\"cat\": \"F\", \"color\": \"#1e8f89\", \"name\": \"Féminin\"},\n",
    "]:\n",
    "    data = df_sex_by_list[:, data_config[\"cat\"]].sort_index() * 100\n",
    "    trace = go.Bar(\n",
    "        y=data.index,\n",
    "        x=data,\n",
    "        orientation=\"h\",\n",
    "        marker_color=data_config[\"color\"],\n",
    "        name=data_config[\"name\"],\n",
    "    )\n",
    "    traces.append(trace)\n",
    "fig = go.Figure(traces)\n",
    "fig.update_layout(\n",
    "    barmode=\"stack\",\n",
    "    plot_bgcolor=\"white\",\n",
    "    height=1000,\n",
    "    title=\"La parité est elle respectée au sein des listes ?\",\n",
    "    title_font_family=\"Segoe UI\",\n",
    "    title_x=0.5,\n",
    "    title_xanchor=\"center\",\n",
    ")\n",
    "fig.add_vline(x=50, annotation_text=\"50%\", annotation_position=\"top\")\n",
    "fig.update_xaxes(ticksuffix=\"%\")\n",
    "fig.show()"
   ]
  },
  {
   "cell_type": "code",
   "execution_count": 41,
   "metadata": {},
   "outputs": [],
   "source": [
    "df[\"age\"] = (\n",
    "    pd.Timestamp.now() - pd.to_datetime(df[\"Date de naissance\"], format=\"%d/%m/%Y\")\n",
    ").dt.components.days // 365"
   ]
  },
  {
   "cell_type": "code",
   "execution_count": 63,
   "metadata": {},
   "outputs": [
    {
     "data": {
      "text/plain": [
       "49.82033788174139"
      ]
     },
     "execution_count": 63,
     "metadata": {},
     "output_type": "execute_result"
    }
   ],
   "source": [
    "df[\"age\"].mean()"
   ]
  },
  {
   "cell_type": "code",
   "execution_count": 42,
   "metadata": {},
   "outputs": [],
   "source": [
    "bins = [18, 30, 40, 50, 60, 70, 120]\n",
    "labels = [\"18-29\", \"30-39\", \"40-49\", \"50-59\", \"60-69\", \"70+\"]\n",
    "\n",
    "# Ajouter une colonne pour les tranches d'âges\n",
    "df[\"Tranche d'âge\"] = pd.cut(df[\"age\"], bins=bins, labels=labels, right=False)"
   ]
  },
  {
   "cell_type": "code",
   "execution_count": 44,
   "metadata": {},
   "outputs": [
    {
     "data": {
      "text/plain": [
       "Tranche d'âge\n",
       "50-59    759\n",
       "60-69    594\n",
       "40-49    592\n",
       "30-39    484\n",
       "18-29    355\n",
       "70+      294\n",
       "Name: count, dtype: int64"
      ]
     },
     "execution_count": 44,
     "metadata": {},
     "output_type": "execute_result"
    }
   ],
   "source": [
    "df[\"Tranche d'âge\"].value_counts()"
   ]
  },
  {
   "cell_type": "code",
   "execution_count": 45,
   "metadata": {},
   "outputs": [],
   "source": [
    "df_age_by_list = df.groupby([\"Libellé de la liste\"])[\"Tranche d'âge\"].value_counts(\n",
    "    normalize=True\n",
    ")"
   ]
  },
  {
   "cell_type": "code",
   "execution_count": 46,
   "metadata": {},
   "outputs": [
    {
     "data": {
      "text/plain": [
       "Libellé de la liste                                                            Tranche d'âge\n",
       "\"POUR LE PAIN, LA PAIX, LA LIBERTÉ !\" PRÉSENTÉE PAR LE PARTI DES TRAVAILLEURS  18-29            0.308642\n",
       "                                                                               30-39            0.172840\n",
       "                                                                               40-49            0.172840\n",
       "                                                                               60-69            0.160494\n",
       "                                                                               50-59            0.148148\n",
       "                                                                                                  ...   \n",
       "ÉQUINOXE : ÉCOLOGIE PRATIQUE ET RENOUVEAU DÉMOCRATIQUE                         30-39            0.271605\n",
       "                                                                               50-59            0.185185\n",
       "                                                                               40-49            0.061728\n",
       "                                                                               60-69            0.061728\n",
       "                                                                               70+              0.012346\n",
       "Name: proportion, Length: 228, dtype: float64"
      ]
     },
     "execution_count": 46,
     "metadata": {},
     "output_type": "execute_result"
    }
   ],
   "source": [
    "df_age_by_list"
   ]
  },
  {
   "cell_type": "code",
   "execution_count": 62,
   "metadata": {},
   "outputs": [
    {
     "data": {
      "application/vnd.plotly.v1+json": {
       "config": {
        "plotlyServerURL": "https://plot.ly"
       },
       "data": [
        {
         "name": "18-29 ans",
         "type": "bar",
         "x": [
          "\"POUR LE PAIN, LA PAIX, LA LIBERTÉ !\" PRÉSENTÉE PAR LE PARTI DES TRAVAILLEURS",
          "ALLIANCE RURALE",
          "BESOIN D'EUROPE",
          "CHANGER L'EUROPE",
          "DEFENDRE LES ENFANTS",
          "DEMOCRATIE REPRESENTATIVE",
          "ECOLOGIE POSITIVE ET TERRITOIRES",
          "ESPERANTO LANGUE COMMUNE",
          "EUROPE TERRITOIRES ÉCOLOGIE",
          "EUROPE ÉCOLOGIE",
          "FORTERESSE EUROPE - LISTE D'UNITE NATIONALISTE",
          "FRANCE LIBRE",
          "FREE PALESTINE",
          "GAUCHE UNIE POUR LE MONDE DU TRAVAIL SOUTENUE PAR FABIEN ROUSSEL",
          "L'EUROPE CA SUFFIT !",
          "LA DROITE POUR FAIRE ENTENDRE LA VOIX DE LA FRANCE EN EUROPE",
          "LA FRANCE FIERE, MENEE PAR MARION MARECHAL ET SOUTENUE PAR ÉRIC ZEMMOUR",
          "LA FRANCE INSOUMISE - UNION POPULAIRE",
          "LA FRANCE REVIENT ! AVEC JORDAN BARDELLA ET MARINE LE PEN",
          "LA RUCHE CITOYENNE",
          "LIBERTÉ DÉMOCRATIQUE FRANÇAISE",
          "LISTE ASSELINEAU-FREXIT, POUR LE POUVOIR D'ACHAT ET POUR LA PAIX",
          "LUTTE OUVRIERE - LE CAMP DES TRAVAILLEURS",
          "NON ! PRENONS-NOUS EN MAINS",
          "NON À L'UE ET À L'OTAN, COMMUNISTES POUR LA PAIX ET LE PROGRÈS SOCIAL",
          "NOUS LE PEUPLE",
          "PACE - PARTI DES CITOYENS EUROPÉENS, POUR L'ARMÉE EUROPÉENNE, POUR L'EUROPE SOCIALE , POUR LA PLANÈTE !",
          "PAIX ET DECROISSANCE",
          "PARTI ANIMALISTE - LES ANIMAUX COMPTENT, VOTRE VOIX AUSSI",
          "PARTI PIRATE",
          "PARTI REVOLUTIONNAIRE COMMUNISTES",
          "POUR UN MONDE SANS FRONTIERES NI PATRONS, URGENCE REVOLUTION !",
          "POUR UNE AUTRE EUROPE",
          "POUR UNE DEMOCRATIE REELLE : DECIDONS NOUS-MEMES !",
          "POUR UNE HUMANITE SOUVERAINE",
          "RÉVEILLER L'EUROPE",
          "ÉCOLOGIE AU CENTRE",
          "ÉQUINOXE : ÉCOLOGIE PRATIQUE ET RENOUVEAU DÉMOCRATIQUE"
         ],
         "y": [
          30.864197530864196,
          3.7037037037037033,
          4.938271604938271,
          33.33333333333333,
          1.2345679012345678,
          22.22222222222222,
          4.938271604938271,
          4.938271604938271,
          11.11111111111111,
          20.98765432098765,
          9.876543209876543,
          6.172839506172839,
          18.51851851851852,
          6.172839506172839,
          8.641975308641975,
          14.814814814814813,
          7.4074074074074066,
          16.049382716049383,
          14.814814814814813,
          2.4691358024691357,
          14.814814814814813,
          1.2345679012345678,
          0,
          1.2345679012345678,
          4.938271604938271,
          11.11111111111111,
          13.580246913580247,
          3.7037037037037033,
          12.345679012345679,
          18.51851851851852,
          0,
          25.925925925925924,
          6.172839506172839,
          0,
          17.28395061728395,
          17.28395061728395,
          6.172839506172839,
          40.74074074074074
         ]
        },
        {
         "name": "30-39 ans",
         "type": "bar",
         "x": [
          "\"POUR LE PAIN, LA PAIX, LA LIBERTÉ !\" PRÉSENTÉE PAR LE PARTI DES TRAVAILLEURS",
          "ALLIANCE RURALE",
          "BESOIN D'EUROPE",
          "CHANGER L'EUROPE",
          "DEFENDRE LES ENFANTS",
          "DEMOCRATIE REPRESENTATIVE",
          "ECOLOGIE POSITIVE ET TERRITOIRES",
          "ESPERANTO LANGUE COMMUNE",
          "EUROPE TERRITOIRES ÉCOLOGIE",
          "EUROPE ÉCOLOGIE",
          "FORTERESSE EUROPE - LISTE D'UNITE NATIONALISTE",
          "FRANCE LIBRE",
          "FREE PALESTINE",
          "GAUCHE UNIE POUR LE MONDE DU TRAVAIL SOUTENUE PAR FABIEN ROUSSEL",
          "L'EUROPE CA SUFFIT !",
          "LA DROITE POUR FAIRE ENTENDRE LA VOIX DE LA FRANCE EN EUROPE",
          "LA FRANCE FIERE, MENEE PAR MARION MARECHAL ET SOUTENUE PAR ÉRIC ZEMMOUR",
          "LA FRANCE INSOUMISE - UNION POPULAIRE",
          "LA FRANCE REVIENT ! AVEC JORDAN BARDELLA ET MARINE LE PEN",
          "LA RUCHE CITOYENNE",
          "LIBERTÉ DÉMOCRATIQUE FRANÇAISE",
          "LISTE ASSELINEAU-FREXIT, POUR LE POUVOIR D'ACHAT ET POUR LA PAIX",
          "LUTTE OUVRIERE - LE CAMP DES TRAVAILLEURS",
          "NON ! PRENONS-NOUS EN MAINS",
          "NON À L'UE ET À L'OTAN, COMMUNISTES POUR LA PAIX ET LE PROGRÈS SOCIAL",
          "NOUS LE PEUPLE",
          "PACE - PARTI DES CITOYENS EUROPÉENS, POUR L'ARMÉE EUROPÉENNE, POUR L'EUROPE SOCIALE , POUR LA PLANÈTE !",
          "PAIX ET DECROISSANCE",
          "PARTI ANIMALISTE - LES ANIMAUX COMPTENT, VOTRE VOIX AUSSI",
          "PARTI PIRATE",
          "PARTI REVOLUTIONNAIRE COMMUNISTES",
          "POUR UN MONDE SANS FRONTIERES NI PATRONS, URGENCE REVOLUTION !",
          "POUR UNE AUTRE EUROPE",
          "POUR UNE DEMOCRATIE REELLE : DECIDONS NOUS-MEMES !",
          "POUR UNE HUMANITE SOUVERAINE",
          "RÉVEILLER L'EUROPE",
          "ÉCOLOGIE AU CENTRE",
          "ÉQUINOXE : ÉCOLOGIE PRATIQUE ET RENOUVEAU DÉMOCRATIQUE"
         ],
         "y": [
          17.28395061728395,
          11.11111111111111,
          27.160493827160494,
          12.345679012345679,
          12.345679012345679,
          34.5679012345679,
          16.049382716049383,
          6.172839506172839,
          14.814814814814813,
          23.456790123456788,
          11.11111111111111,
          3.7037037037037033,
          18.51851851851852,
          9.876543209876543,
          9.876543209876543,
          16.049382716049383,
          22.22222222222222,
          32.098765432098766,
          22.22222222222222,
          4.938271604938271,
          9.876543209876543,
          11.11111111111111,
          6.172839506172839,
          1.2345679012345678,
          11.11111111111111,
          11.11111111111111,
          22.22222222222222,
          14.814814814814813,
          14.814814814814813,
          34.5679012345679,
          4.938271604938271,
          33.33333333333333,
          11.11111111111111,
          14.814814814814813,
          18.51851851851852,
          18.51851851851852,
          6.172839506172839,
          27.160493827160494
         ]
        },
        {
         "name": "40-49 ans",
         "type": "bar",
         "x": [
          "\"POUR LE PAIN, LA PAIX, LA LIBERTÉ !\" PRÉSENTÉE PAR LE PARTI DES TRAVAILLEURS",
          "ALLIANCE RURALE",
          "BESOIN D'EUROPE",
          "CHANGER L'EUROPE",
          "DEFENDRE LES ENFANTS",
          "DEMOCRATIE REPRESENTATIVE",
          "ECOLOGIE POSITIVE ET TERRITOIRES",
          "ESPERANTO LANGUE COMMUNE",
          "EUROPE TERRITOIRES ÉCOLOGIE",
          "EUROPE ÉCOLOGIE",
          "FORTERESSE EUROPE - LISTE D'UNITE NATIONALISTE",
          "FRANCE LIBRE",
          "FREE PALESTINE",
          "GAUCHE UNIE POUR LE MONDE DU TRAVAIL SOUTENUE PAR FABIEN ROUSSEL",
          "L'EUROPE CA SUFFIT !",
          "LA DROITE POUR FAIRE ENTENDRE LA VOIX DE LA FRANCE EN EUROPE",
          "LA FRANCE FIERE, MENEE PAR MARION MARECHAL ET SOUTENUE PAR ÉRIC ZEMMOUR",
          "LA FRANCE INSOUMISE - UNION POPULAIRE",
          "LA FRANCE REVIENT ! AVEC JORDAN BARDELLA ET MARINE LE PEN",
          "LA RUCHE CITOYENNE",
          "LIBERTÉ DÉMOCRATIQUE FRANÇAISE",
          "LISTE ASSELINEAU-FREXIT, POUR LE POUVOIR D'ACHAT ET POUR LA PAIX",
          "LUTTE OUVRIERE - LE CAMP DES TRAVAILLEURS",
          "NON ! PRENONS-NOUS EN MAINS",
          "NON À L'UE ET À L'OTAN, COMMUNISTES POUR LA PAIX ET LE PROGRÈS SOCIAL",
          "NOUS LE PEUPLE",
          "PACE - PARTI DES CITOYENS EUROPÉENS, POUR L'ARMÉE EUROPÉENNE, POUR L'EUROPE SOCIALE , POUR LA PLANÈTE !",
          "PAIX ET DECROISSANCE",
          "PARTI ANIMALISTE - LES ANIMAUX COMPTENT, VOTRE VOIX AUSSI",
          "PARTI PIRATE",
          "PARTI REVOLUTIONNAIRE COMMUNISTES",
          "POUR UN MONDE SANS FRONTIERES NI PATRONS, URGENCE REVOLUTION !",
          "POUR UNE AUTRE EUROPE",
          "POUR UNE DEMOCRATIE REELLE : DECIDONS NOUS-MEMES !",
          "POUR UNE HUMANITE SOUVERAINE",
          "RÉVEILLER L'EUROPE",
          "ÉCOLOGIE AU CENTRE",
          "ÉQUINOXE : ÉCOLOGIE PRATIQUE ET RENOUVEAU DÉMOCRATIQUE"
         ],
         "y": [
          17.28395061728395,
          19.753086419753085,
          18.51851851851852,
          4.938271604938271,
          37.03703703703704,
          30.864197530864196,
          9.876543209876543,
          11.11111111111111,
          20.98765432098765,
          24.691358024691358,
          16.049382716049383,
          27.160493827160494,
          32.098765432098766,
          24.691358024691358,
          11.11111111111111,
          27.160493827160494,
          22.22222222222222,
          18.51851851851852,
          12.345679012345679,
          32.098765432098766,
          22.22222222222222,
          18.51851851851852,
          19.753086419753085,
          13.580246913580247,
          22.22222222222222,
          18.51851851851852,
          9.876543209876543,
          17.28395061728395,
          17.28395061728395,
          27.160493827160494,
          16.049382716049383,
          23.456790123456788,
          8.641975308641975,
          12.345679012345679,
          17.28395061728395,
          28.39506172839506,
          13.580246913580247,
          6.172839506172839
         ]
        },
        {
         "name": "50-59 ans",
         "type": "bar",
         "x": [
          "\"POUR LE PAIN, LA PAIX, LA LIBERTÉ !\" PRÉSENTÉE PAR LE PARTI DES TRAVAILLEURS",
          "ALLIANCE RURALE",
          "BESOIN D'EUROPE",
          "CHANGER L'EUROPE",
          "DEFENDRE LES ENFANTS",
          "DEMOCRATIE REPRESENTATIVE",
          "ECOLOGIE POSITIVE ET TERRITOIRES",
          "ESPERANTO LANGUE COMMUNE",
          "EUROPE TERRITOIRES ÉCOLOGIE",
          "EUROPE ÉCOLOGIE",
          "FORTERESSE EUROPE - LISTE D'UNITE NATIONALISTE",
          "FRANCE LIBRE",
          "FREE PALESTINE",
          "GAUCHE UNIE POUR LE MONDE DU TRAVAIL SOUTENUE PAR FABIEN ROUSSEL",
          "L'EUROPE CA SUFFIT !",
          "LA DROITE POUR FAIRE ENTENDRE LA VOIX DE LA FRANCE EN EUROPE",
          "LA FRANCE FIERE, MENEE PAR MARION MARECHAL ET SOUTENUE PAR ÉRIC ZEMMOUR",
          "LA FRANCE INSOUMISE - UNION POPULAIRE",
          "LA FRANCE REVIENT ! AVEC JORDAN BARDELLA ET MARINE LE PEN",
          "LA RUCHE CITOYENNE",
          "LIBERTÉ DÉMOCRATIQUE FRANÇAISE",
          "LISTE ASSELINEAU-FREXIT, POUR LE POUVOIR D'ACHAT ET POUR LA PAIX",
          "LUTTE OUVRIERE - LE CAMP DES TRAVAILLEURS",
          "NON ! PRENONS-NOUS EN MAINS",
          "NON À L'UE ET À L'OTAN, COMMUNISTES POUR LA PAIX ET LE PROGRÈS SOCIAL",
          "NOUS LE PEUPLE",
          "PACE - PARTI DES CITOYENS EUROPÉENS, POUR L'ARMÉE EUROPÉENNE, POUR L'EUROPE SOCIALE , POUR LA PLANÈTE !",
          "PAIX ET DECROISSANCE",
          "PARTI ANIMALISTE - LES ANIMAUX COMPTENT, VOTRE VOIX AUSSI",
          "PARTI PIRATE",
          "PARTI REVOLUTIONNAIRE COMMUNISTES",
          "POUR UN MONDE SANS FRONTIERES NI PATRONS, URGENCE REVOLUTION !",
          "POUR UNE AUTRE EUROPE",
          "POUR UNE DEMOCRATIE REELLE : DECIDONS NOUS-MEMES !",
          "POUR UNE HUMANITE SOUVERAINE",
          "RÉVEILLER L'EUROPE",
          "ÉCOLOGIE AU CENTRE",
          "ÉQUINOXE : ÉCOLOGIE PRATIQUE ET RENOUVEAU DÉMOCRATIQUE"
         ],
         "y": [
          14.814814814814813,
          22.22222222222222,
          34.5679012345679,
          12.345679012345679,
          28.39506172839506,
          7.4074074074074066,
          29.629629629629626,
          11.11111111111111,
          25.925925925925924,
          14.814814814814813,
          27.160493827160494,
          28.39506172839506,
          19.753086419753085,
          30.864197530864196,
          27.160493827160494,
          27.160493827160494,
          27.160493827160494,
          23.456790123456788,
          25.925925925925924,
          35.80246913580247,
          28.39506172839506,
          11.11111111111111,
          53.086419753086425,
          33.33333333333333,
          24.691358024691358,
          27.160493827160494,
          16.049382716049383,
          28.39506172839506,
          25.925925925925924,
          13.580246913580247,
          33.33333333333333,
          11.11111111111111,
          23.456790123456788,
          29.629629629629626,
          24.691358024691358,
          25.925925925925924,
          34.5679012345679,
          18.51851851851852
         ]
        },
        {
         "name": "60-69 ans",
         "type": "bar",
         "x": [
          "\"POUR LE PAIN, LA PAIX, LA LIBERTÉ !\" PRÉSENTÉE PAR LE PARTI DES TRAVAILLEURS",
          "ALLIANCE RURALE",
          "BESOIN D'EUROPE",
          "CHANGER L'EUROPE",
          "DEFENDRE LES ENFANTS",
          "DEMOCRATIE REPRESENTATIVE",
          "ECOLOGIE POSITIVE ET TERRITOIRES",
          "ESPERANTO LANGUE COMMUNE",
          "EUROPE TERRITOIRES ÉCOLOGIE",
          "EUROPE ÉCOLOGIE",
          "FORTERESSE EUROPE - LISTE D'UNITE NATIONALISTE",
          "FRANCE LIBRE",
          "FREE PALESTINE",
          "GAUCHE UNIE POUR LE MONDE DU TRAVAIL SOUTENUE PAR FABIEN ROUSSEL",
          "L'EUROPE CA SUFFIT !",
          "LA DROITE POUR FAIRE ENTENDRE LA VOIX DE LA FRANCE EN EUROPE",
          "LA FRANCE FIERE, MENEE PAR MARION MARECHAL ET SOUTENUE PAR ÉRIC ZEMMOUR",
          "LA FRANCE INSOUMISE - UNION POPULAIRE",
          "LA FRANCE REVIENT ! AVEC JORDAN BARDELLA ET MARINE LE PEN",
          "LA RUCHE CITOYENNE",
          "LIBERTÉ DÉMOCRATIQUE FRANÇAISE",
          "LISTE ASSELINEAU-FREXIT, POUR LE POUVOIR D'ACHAT ET POUR LA PAIX",
          "LUTTE OUVRIERE - LE CAMP DES TRAVAILLEURS",
          "NON ! PRENONS-NOUS EN MAINS",
          "NON À L'UE ET À L'OTAN, COMMUNISTES POUR LA PAIX ET LE PROGRÈS SOCIAL",
          "NOUS LE PEUPLE",
          "PACE - PARTI DES CITOYENS EUROPÉENS, POUR L'ARMÉE EUROPÉENNE, POUR L'EUROPE SOCIALE , POUR LA PLANÈTE !",
          "PAIX ET DECROISSANCE",
          "PARTI ANIMALISTE - LES ANIMAUX COMPTENT, VOTRE VOIX AUSSI",
          "PARTI PIRATE",
          "PARTI REVOLUTIONNAIRE COMMUNISTES",
          "POUR UN MONDE SANS FRONTIERES NI PATRONS, URGENCE REVOLUTION !",
          "POUR UNE AUTRE EUROPE",
          "POUR UNE DEMOCRATIE REELLE : DECIDONS NOUS-MEMES !",
          "POUR UNE HUMANITE SOUVERAINE",
          "RÉVEILLER L'EUROPE",
          "ÉCOLOGIE AU CENTRE",
          "ÉQUINOXE : ÉCOLOGIE PRATIQUE ET RENOUVEAU DÉMOCRATIQUE"
         ],
         "y": [
          16.049382716049383,
          32.098765432098766,
          8.641975308641975,
          23.456790123456788,
          13.580246913580247,
          2.4691358024691357,
          22.22222222222222,
          32.098765432098766,
          23.456790123456788,
          11.11111111111111,
          18.51851851851852,
          25.925925925925924,
          6.172839506172839,
          23.456790123456788,
          27.160493827160494,
          13.580246913580247,
          16.049382716049383,
          4.938271604938271,
          24.691358024691358,
          19.753086419753085,
          20.98765432098765,
          43.20987654320987,
          19.753086419753085,
          37.03703703703704,
          23.456790123456788,
          19.753086419753085,
          17.28395061728395,
          22.22222222222222,
          22.22222222222222,
          3.7037037037037033,
          22.22222222222222,
          2.4691358024691357,
          35.80246913580247,
          22.22222222222222,
          13.580246913580247,
          7.4074074074074066,
          28.39506172839506,
          6.172839506172839
         ]
        },
        {
         "name": "70 ans et plus",
         "type": "bar",
         "x": [
          "\"POUR LE PAIN, LA PAIX, LA LIBERTÉ !\" PRÉSENTÉE PAR LE PARTI DES TRAVAILLEURS",
          "ALLIANCE RURALE",
          "BESOIN D'EUROPE",
          "CHANGER L'EUROPE",
          "DEFENDRE LES ENFANTS",
          "DEMOCRATIE REPRESENTATIVE",
          "ECOLOGIE POSITIVE ET TERRITOIRES",
          "ESPERANTO LANGUE COMMUNE",
          "EUROPE TERRITOIRES ÉCOLOGIE",
          "EUROPE ÉCOLOGIE",
          "FORTERESSE EUROPE - LISTE D'UNITE NATIONALISTE",
          "FRANCE LIBRE",
          "FREE PALESTINE",
          "GAUCHE UNIE POUR LE MONDE DU TRAVAIL SOUTENUE PAR FABIEN ROUSSEL",
          "L'EUROPE CA SUFFIT !",
          "LA DROITE POUR FAIRE ENTENDRE LA VOIX DE LA FRANCE EN EUROPE",
          "LA FRANCE FIERE, MENEE PAR MARION MARECHAL ET SOUTENUE PAR ÉRIC ZEMMOUR",
          "LA FRANCE INSOUMISE - UNION POPULAIRE",
          "LA FRANCE REVIENT ! AVEC JORDAN BARDELLA ET MARINE LE PEN",
          "LA RUCHE CITOYENNE",
          "LIBERTÉ DÉMOCRATIQUE FRANÇAISE",
          "LISTE ASSELINEAU-FREXIT, POUR LE POUVOIR D'ACHAT ET POUR LA PAIX",
          "LUTTE OUVRIERE - LE CAMP DES TRAVAILLEURS",
          "NON ! PRENONS-NOUS EN MAINS",
          "NON À L'UE ET À L'OTAN, COMMUNISTES POUR LA PAIX ET LE PROGRÈS SOCIAL",
          "NOUS LE PEUPLE",
          "PACE - PARTI DES CITOYENS EUROPÉENS, POUR L'ARMÉE EUROPÉENNE, POUR L'EUROPE SOCIALE , POUR LA PLANÈTE !",
          "PAIX ET DECROISSANCE",
          "PARTI ANIMALISTE - LES ANIMAUX COMPTENT, VOTRE VOIX AUSSI",
          "PARTI PIRATE",
          "PARTI REVOLUTIONNAIRE COMMUNISTES",
          "POUR UN MONDE SANS FRONTIERES NI PATRONS, URGENCE REVOLUTION !",
          "POUR UNE AUTRE EUROPE",
          "POUR UNE DEMOCRATIE REELLE : DECIDONS NOUS-MEMES !",
          "POUR UNE HUMANITE SOUVERAINE",
          "RÉVEILLER L'EUROPE",
          "ÉCOLOGIE AU CENTRE",
          "ÉQUINOXE : ÉCOLOGIE PRATIQUE ET RENOUVEAU DÉMOCRATIQUE"
         ],
         "y": [
          3.7037037037037033,
          11.11111111111111,
          6.172839506172839,
          13.580246913580247,
          7.4074074074074066,
          2.4691358024691357,
          17.28395061728395,
          34.5679012345679,
          3.7037037037037033,
          4.938271604938271,
          17.28395061728395,
          8.641975308641975,
          4.938271604938271,
          4.938271604938271,
          16.049382716049383,
          1.2345679012345678,
          4.938271604938271,
          4.938271604938271,
          0,
          4.938271604938271,
          3.7037037037037033,
          14.814814814814813,
          1.2345679012345678,
          13.580246913580247,
          13.580246913580247,
          12.345679012345679,
          20.98765432098765,
          13.580246913580247,
          7.4074074074074066,
          2.4691358024691357,
          23.456790123456788,
          3.7037037037037033,
          14.814814814814813,
          20.98765432098765,
          8.641975308641975,
          2.4691358024691357,
          11.11111111111111,
          1.2345679012345678
         ]
        }
       ],
       "layout": {
        "barmode": "stack",
        "height": 1000,
        "legend": {
         "orientation": "h",
         "y": 1.2
        },
        "plot_bgcolor": "white",
        "template": {
         "data": {
          "bar": [
           {
            "error_x": {
             "color": "#2a3f5f"
            },
            "error_y": {
             "color": "#2a3f5f"
            },
            "marker": {
             "line": {
              "color": "#E5ECF6",
              "width": 0.5
             },
             "pattern": {
              "fillmode": "overlay",
              "size": 10,
              "solidity": 0.2
             }
            },
            "type": "bar"
           }
          ],
          "barpolar": [
           {
            "marker": {
             "line": {
              "color": "#E5ECF6",
              "width": 0.5
             },
             "pattern": {
              "fillmode": "overlay",
              "size": 10,
              "solidity": 0.2
             }
            },
            "type": "barpolar"
           }
          ],
          "carpet": [
           {
            "aaxis": {
             "endlinecolor": "#2a3f5f",
             "gridcolor": "white",
             "linecolor": "white",
             "minorgridcolor": "white",
             "startlinecolor": "#2a3f5f"
            },
            "baxis": {
             "endlinecolor": "#2a3f5f",
             "gridcolor": "white",
             "linecolor": "white",
             "minorgridcolor": "white",
             "startlinecolor": "#2a3f5f"
            },
            "type": "carpet"
           }
          ],
          "choropleth": [
           {
            "colorbar": {
             "outlinewidth": 0,
             "ticks": ""
            },
            "type": "choropleth"
           }
          ],
          "contour": [
           {
            "colorbar": {
             "outlinewidth": 0,
             "ticks": ""
            },
            "colorscale": [
             [
              0,
              "#0d0887"
             ],
             [
              0.1111111111111111,
              "#46039f"
             ],
             [
              0.2222222222222222,
              "#7201a8"
             ],
             [
              0.3333333333333333,
              "#9c179e"
             ],
             [
              0.4444444444444444,
              "#bd3786"
             ],
             [
              0.5555555555555556,
              "#d8576b"
             ],
             [
              0.6666666666666666,
              "#ed7953"
             ],
             [
              0.7777777777777778,
              "#fb9f3a"
             ],
             [
              0.8888888888888888,
              "#fdca26"
             ],
             [
              1,
              "#f0f921"
             ]
            ],
            "type": "contour"
           }
          ],
          "contourcarpet": [
           {
            "colorbar": {
             "outlinewidth": 0,
             "ticks": ""
            },
            "type": "contourcarpet"
           }
          ],
          "heatmap": [
           {
            "colorbar": {
             "outlinewidth": 0,
             "ticks": ""
            },
            "colorscale": [
             [
              0,
              "#0d0887"
             ],
             [
              0.1111111111111111,
              "#46039f"
             ],
             [
              0.2222222222222222,
              "#7201a8"
             ],
             [
              0.3333333333333333,
              "#9c179e"
             ],
             [
              0.4444444444444444,
              "#bd3786"
             ],
             [
              0.5555555555555556,
              "#d8576b"
             ],
             [
              0.6666666666666666,
              "#ed7953"
             ],
             [
              0.7777777777777778,
              "#fb9f3a"
             ],
             [
              0.8888888888888888,
              "#fdca26"
             ],
             [
              1,
              "#f0f921"
             ]
            ],
            "type": "heatmap"
           }
          ],
          "heatmapgl": [
           {
            "colorbar": {
             "outlinewidth": 0,
             "ticks": ""
            },
            "colorscale": [
             [
              0,
              "#0d0887"
             ],
             [
              0.1111111111111111,
              "#46039f"
             ],
             [
              0.2222222222222222,
              "#7201a8"
             ],
             [
              0.3333333333333333,
              "#9c179e"
             ],
             [
              0.4444444444444444,
              "#bd3786"
             ],
             [
              0.5555555555555556,
              "#d8576b"
             ],
             [
              0.6666666666666666,
              "#ed7953"
             ],
             [
              0.7777777777777778,
              "#fb9f3a"
             ],
             [
              0.8888888888888888,
              "#fdca26"
             ],
             [
              1,
              "#f0f921"
             ]
            ],
            "type": "heatmapgl"
           }
          ],
          "histogram": [
           {
            "marker": {
             "pattern": {
              "fillmode": "overlay",
              "size": 10,
              "solidity": 0.2
             }
            },
            "type": "histogram"
           }
          ],
          "histogram2d": [
           {
            "colorbar": {
             "outlinewidth": 0,
             "ticks": ""
            },
            "colorscale": [
             [
              0,
              "#0d0887"
             ],
             [
              0.1111111111111111,
              "#46039f"
             ],
             [
              0.2222222222222222,
              "#7201a8"
             ],
             [
              0.3333333333333333,
              "#9c179e"
             ],
             [
              0.4444444444444444,
              "#bd3786"
             ],
             [
              0.5555555555555556,
              "#d8576b"
             ],
             [
              0.6666666666666666,
              "#ed7953"
             ],
             [
              0.7777777777777778,
              "#fb9f3a"
             ],
             [
              0.8888888888888888,
              "#fdca26"
             ],
             [
              1,
              "#f0f921"
             ]
            ],
            "type": "histogram2d"
           }
          ],
          "histogram2dcontour": [
           {
            "colorbar": {
             "outlinewidth": 0,
             "ticks": ""
            },
            "colorscale": [
             [
              0,
              "#0d0887"
             ],
             [
              0.1111111111111111,
              "#46039f"
             ],
             [
              0.2222222222222222,
              "#7201a8"
             ],
             [
              0.3333333333333333,
              "#9c179e"
             ],
             [
              0.4444444444444444,
              "#bd3786"
             ],
             [
              0.5555555555555556,
              "#d8576b"
             ],
             [
              0.6666666666666666,
              "#ed7953"
             ],
             [
              0.7777777777777778,
              "#fb9f3a"
             ],
             [
              0.8888888888888888,
              "#fdca26"
             ],
             [
              1,
              "#f0f921"
             ]
            ],
            "type": "histogram2dcontour"
           }
          ],
          "mesh3d": [
           {
            "colorbar": {
             "outlinewidth": 0,
             "ticks": ""
            },
            "type": "mesh3d"
           }
          ],
          "parcoords": [
           {
            "line": {
             "colorbar": {
              "outlinewidth": 0,
              "ticks": ""
             }
            },
            "type": "parcoords"
           }
          ],
          "pie": [
           {
            "automargin": true,
            "type": "pie"
           }
          ],
          "scatter": [
           {
            "fillpattern": {
             "fillmode": "overlay",
             "size": 10,
             "solidity": 0.2
            },
            "type": "scatter"
           }
          ],
          "scatter3d": [
           {
            "line": {
             "colorbar": {
              "outlinewidth": 0,
              "ticks": ""
             }
            },
            "marker": {
             "colorbar": {
              "outlinewidth": 0,
              "ticks": ""
             }
            },
            "type": "scatter3d"
           }
          ],
          "scattercarpet": [
           {
            "marker": {
             "colorbar": {
              "outlinewidth": 0,
              "ticks": ""
             }
            },
            "type": "scattercarpet"
           }
          ],
          "scattergeo": [
           {
            "marker": {
             "colorbar": {
              "outlinewidth": 0,
              "ticks": ""
             }
            },
            "type": "scattergeo"
           }
          ],
          "scattergl": [
           {
            "marker": {
             "colorbar": {
              "outlinewidth": 0,
              "ticks": ""
             }
            },
            "type": "scattergl"
           }
          ],
          "scattermapbox": [
           {
            "marker": {
             "colorbar": {
              "outlinewidth": 0,
              "ticks": ""
             }
            },
            "type": "scattermapbox"
           }
          ],
          "scatterpolar": [
           {
            "marker": {
             "colorbar": {
              "outlinewidth": 0,
              "ticks": ""
             }
            },
            "type": "scatterpolar"
           }
          ],
          "scatterpolargl": [
           {
            "marker": {
             "colorbar": {
              "outlinewidth": 0,
              "ticks": ""
             }
            },
            "type": "scatterpolargl"
           }
          ],
          "scatterternary": [
           {
            "marker": {
             "colorbar": {
              "outlinewidth": 0,
              "ticks": ""
             }
            },
            "type": "scatterternary"
           }
          ],
          "surface": [
           {
            "colorbar": {
             "outlinewidth": 0,
             "ticks": ""
            },
            "colorscale": [
             [
              0,
              "#0d0887"
             ],
             [
              0.1111111111111111,
              "#46039f"
             ],
             [
              0.2222222222222222,
              "#7201a8"
             ],
             [
              0.3333333333333333,
              "#9c179e"
             ],
             [
              0.4444444444444444,
              "#bd3786"
             ],
             [
              0.5555555555555556,
              "#d8576b"
             ],
             [
              0.6666666666666666,
              "#ed7953"
             ],
             [
              0.7777777777777778,
              "#fb9f3a"
             ],
             [
              0.8888888888888888,
              "#fdca26"
             ],
             [
              1,
              "#f0f921"
             ]
            ],
            "type": "surface"
           }
          ],
          "table": [
           {
            "cells": {
             "fill": {
              "color": "#EBF0F8"
             },
             "line": {
              "color": "white"
             }
            },
            "header": {
             "fill": {
              "color": "#C8D4E3"
             },
             "line": {
              "color": "white"
             }
            },
            "type": "table"
           }
          ]
         },
         "layout": {
          "annotationdefaults": {
           "arrowcolor": "#2a3f5f",
           "arrowhead": 0,
           "arrowwidth": 1
          },
          "autotypenumbers": "strict",
          "coloraxis": {
           "colorbar": {
            "outlinewidth": 0,
            "ticks": ""
           }
          },
          "colorscale": {
           "diverging": [
            [
             0,
             "#8e0152"
            ],
            [
             0.1,
             "#c51b7d"
            ],
            [
             0.2,
             "#de77ae"
            ],
            [
             0.3,
             "#f1b6da"
            ],
            [
             0.4,
             "#fde0ef"
            ],
            [
             0.5,
             "#f7f7f7"
            ],
            [
             0.6,
             "#e6f5d0"
            ],
            [
             0.7,
             "#b8e186"
            ],
            [
             0.8,
             "#7fbc41"
            ],
            [
             0.9,
             "#4d9221"
            ],
            [
             1,
             "#276419"
            ]
           ],
           "sequential": [
            [
             0,
             "#0d0887"
            ],
            [
             0.1111111111111111,
             "#46039f"
            ],
            [
             0.2222222222222222,
             "#7201a8"
            ],
            [
             0.3333333333333333,
             "#9c179e"
            ],
            [
             0.4444444444444444,
             "#bd3786"
            ],
            [
             0.5555555555555556,
             "#d8576b"
            ],
            [
             0.6666666666666666,
             "#ed7953"
            ],
            [
             0.7777777777777778,
             "#fb9f3a"
            ],
            [
             0.8888888888888888,
             "#fdca26"
            ],
            [
             1,
             "#f0f921"
            ]
           ],
           "sequentialminus": [
            [
             0,
             "#0d0887"
            ],
            [
             0.1111111111111111,
             "#46039f"
            ],
            [
             0.2222222222222222,
             "#7201a8"
            ],
            [
             0.3333333333333333,
             "#9c179e"
            ],
            [
             0.4444444444444444,
             "#bd3786"
            ],
            [
             0.5555555555555556,
             "#d8576b"
            ],
            [
             0.6666666666666666,
             "#ed7953"
            ],
            [
             0.7777777777777778,
             "#fb9f3a"
            ],
            [
             0.8888888888888888,
             "#fdca26"
            ],
            [
             1,
             "#f0f921"
            ]
           ]
          },
          "colorway": [
           "#636efa",
           "#EF553B",
           "#00cc96",
           "#ab63fa",
           "#FFA15A",
           "#19d3f3",
           "#FF6692",
           "#B6E880",
           "#FF97FF",
           "#FECB52"
          ],
          "font": {
           "color": "#2a3f5f"
          },
          "geo": {
           "bgcolor": "white",
           "lakecolor": "white",
           "landcolor": "#E5ECF6",
           "showlakes": true,
           "showland": true,
           "subunitcolor": "white"
          },
          "hoverlabel": {
           "align": "left"
          },
          "hovermode": "closest",
          "mapbox": {
           "style": "light"
          },
          "paper_bgcolor": "white",
          "plot_bgcolor": "#E5ECF6",
          "polar": {
           "angularaxis": {
            "gridcolor": "white",
            "linecolor": "white",
            "ticks": ""
           },
           "bgcolor": "#E5ECF6",
           "radialaxis": {
            "gridcolor": "white",
            "linecolor": "white",
            "ticks": ""
           }
          },
          "scene": {
           "xaxis": {
            "backgroundcolor": "#E5ECF6",
            "gridcolor": "white",
            "gridwidth": 2,
            "linecolor": "white",
            "showbackground": true,
            "ticks": "",
            "zerolinecolor": "white"
           },
           "yaxis": {
            "backgroundcolor": "#E5ECF6",
            "gridcolor": "white",
            "gridwidth": 2,
            "linecolor": "white",
            "showbackground": true,
            "ticks": "",
            "zerolinecolor": "white"
           },
           "zaxis": {
            "backgroundcolor": "#E5ECF6",
            "gridcolor": "white",
            "gridwidth": 2,
            "linecolor": "white",
            "showbackground": true,
            "ticks": "",
            "zerolinecolor": "white"
           }
          },
          "shapedefaults": {
           "line": {
            "color": "#2a3f5f"
           }
          },
          "ternary": {
           "aaxis": {
            "gridcolor": "white",
            "linecolor": "white",
            "ticks": ""
           },
           "baxis": {
            "gridcolor": "white",
            "linecolor": "white",
            "ticks": ""
           },
           "bgcolor": "#E5ECF6",
           "caxis": {
            "gridcolor": "white",
            "linecolor": "white",
            "ticks": ""
           }
          },
          "title": {
           "x": 0.05
          },
          "xaxis": {
           "automargin": true,
           "gridcolor": "white",
           "linecolor": "white",
           "ticks": "",
           "title": {
            "standoff": 15
           },
           "zerolinecolor": "white",
           "zerolinewidth": 2
          },
          "yaxis": {
           "automargin": true,
           "gridcolor": "white",
           "linecolor": "white",
           "ticks": "",
           "title": {
            "standoff": 15
           },
           "zerolinecolor": "white",
           "zerolinewidth": 2
          }
         }
        },
        "title": {
         "font": {
          "family": "Segoe UI"
         },
         "text": "Distribution das ages",
         "x": 0.5,
         "xanchor": "center"
        },
        "yaxis": {
         "ticksuffix": "%"
        }
       }
      }
     },
     "metadata": {},
     "output_type": "display_data"
    }
   ],
   "source": [
    "traces = []\n",
    "for data_config in [\n",
    "    {\"cat\": \"18-29\", \"color\": \"#ee5a45\", \"name\": \"18-29 ans\"},\n",
    "    {\"cat\": \"30-39\", \"color\": \"#1e8f89\", \"name\": \"30-39 ans\"},\n",
    "    {\"cat\": \"40-49\", \"color\": \"#1e8f89\", \"name\": \"40-49 ans\"},\n",
    "    {\"cat\": \"50-59\", \"color\": \"#1e8f89\", \"name\": \"50-59 ans\"},\n",
    "    {\"cat\": \"60-69\", \"color\": \"#1e8f89\", \"name\": \"60-69 ans\"},\n",
    "    {\"cat\": \"70+\", \"color\": \"#1e8f89\", \"name\": \"70 ans et plus\"},\n",
    "]:\n",
    "    data = df_age_by_list[:, data_config[\"cat\"]].sort_index() * 100\n",
    "    trace = go.Bar(\n",
    "        x=data.index,\n",
    "        y=data,\n",
    "        name=data_config[\"name\"],\n",
    "    )\n",
    "    traces.append(trace)\n",
    "fig = go.Figure(traces)\n",
    "fig.update_layout(\n",
    "    barmode=\"stack\",\n",
    "    plot_bgcolor=\"white\",\n",
    "    height=1000,\n",
    "    title=\"Distribution das ages\",\n",
    "    title_font_family=\"Segoe UI\",\n",
    "    title_x=0.5,\n",
    "    title_xanchor=\"center\",\n",
    "    legend_orientation=\"h\",\n",
    "    legend_y=1.2,\n",
    ")\n",
    "fig.update_yaxes(ticksuffix=\"%\")\n",
    "fig.show()"
   ]
  },
  {
   "cell_type": "markdown",
   "metadata": {},
   "source": [
    "# Données accessibilité-RGPD-Eco-Index\n"
   ]
  },
  {
   "cell_type": "code",
   "execution_count": 76,
   "metadata": {},
   "outputs": [],
   "source": [
    "data = json.load(open(\"data/complete/program-accessibilite-rgpd-ecoindex.json\"))"
   ]
  },
  {
   "cell_type": "code",
   "execution_count": 97,
   "metadata": {},
   "outputs": [],
   "source": [
    "df = pd.DataFrame(data[\"data\"])"
   ]
  },
  {
   "cell_type": "code",
   "execution_count": 98,
   "metadata": {},
   "outputs": [],
   "source": [
    "df_clean = df.drop_duplicates(\"nomListe\").sort_values(\n",
    "    \"emicentre_position\", ascending=False\n",
    ")"
   ]
  },
  {
   "cell_type": "code",
   "execution_count": 107,
   "metadata": {},
   "outputs": [
    {
     "data": {
      "text/html": [
       "<div>\n",
       "<style scoped>\n",
       "    .dataframe tbody tr th:only-of-type {\n",
       "        vertical-align: middle;\n",
       "    }\n",
       "\n",
       "    .dataframe tbody tr th {\n",
       "        vertical-align: top;\n",
       "    }\n",
       "\n",
       "    .dataframe thead th {\n",
       "        text-align: right;\n",
       "    }\n",
       "</style>\n",
       "<table border=\"1\" class=\"dataframe\">\n",
       "  <thead>\n",
       "    <tr style=\"text-align: right;\">\n",
       "      <th></th>\n",
       "      <th>nomListe</th>\n",
       "      <th>website_url</th>\n",
       "      <th>numPanneau</th>\n",
       "      <th>has_pdf</th>\n",
       "      <th>has_falc</th>\n",
       "      <th>has_falc_acc</th>\n",
       "      <th>has_pdf_acc</th>\n",
       "      <th>pdf</th>\n",
       "      <th>falc_acc</th>\n",
       "      <th>pdf_acc</th>\n",
       "      <th>falc</th>\n",
       "      <th>lighthouse_acc</th>\n",
       "      <th>rgpd_mentions_legales</th>\n",
       "      <th>rgpd_politiques_confidentialite</th>\n",
       "      <th>ecoindex_score</th>\n",
       "      <th>ecoindex_grade</th>\n",
       "      <th>ecoindex_ges</th>\n",
       "      <th>color</th>\n",
       "      <th>emicentre_position</th>\n",
       "    </tr>\n",
       "  </thead>\n",
       "  <tbody>\n",
       "    <tr>\n",
       "      <th>30</th>\n",
       "      <td>LIBERTÉ DÉMOCRATIQUE FRANÇAISE</td>\n",
       "      <td>https://www.groupe-ldf.fr/</td>\n",
       "      <td>38</td>\n",
       "      <td>True</td>\n",
       "      <td>False</td>\n",
       "      <td>False</td>\n",
       "      <td>True</td>\n",
       "      <td>0</td>\n",
       "      <td>0</td>\n",
       "      <td>1-liste-38-acc</td>\n",
       "      <td>0</td>\n",
       "      <td>0.91</td>\n",
       "      <td>1</td>\n",
       "      <td>1</td>\n",
       "      <td>37.0</td>\n",
       "      <td>E</td>\n",
       "      <td>2.26</td>\n",
       "      <td>#404040</td>\n",
       "      <td>100</td>\n",
       "    </tr>\n",
       "    <tr>\n",
       "      <th>23</th>\n",
       "      <td>FRANCE LIBRE</td>\n",
       "      <td>https://francelibre-2024.fr</td>\n",
       "      <td>30</td>\n",
       "      <td>True</td>\n",
       "      <td>True</td>\n",
       "      <td>False</td>\n",
       "      <td>False</td>\n",
       "      <td>1-liste-30</td>\n",
       "      <td>0</td>\n",
       "      <td>0</td>\n",
       "      <td>1-liste-30-falc</td>\n",
       "      <td>0.89</td>\n",
       "      <td>1</td>\n",
       "      <td>1</td>\n",
       "      <td>12.0</td>\n",
       "      <td>F</td>\n",
       "      <td>2.76</td>\n",
       "      <td>#404040</td>\n",
       "      <td>100</td>\n",
       "    </tr>\n",
       "    <tr>\n",
       "      <th>18</th>\n",
       "      <td>NON ! PRENONS-NOUS EN MAINS</td>\n",
       "      <td>https://pnem.eu/</td>\n",
       "      <td>25</td>\n",
       "      <td>True</td>\n",
       "      <td>True</td>\n",
       "      <td>True</td>\n",
       "      <td>False</td>\n",
       "      <td>1-liste-25</td>\n",
       "      <td>1-liste-25-falc-acc</td>\n",
       "      <td>0</td>\n",
       "      <td>0</td>\n",
       "      <td>1.00</td>\n",
       "      <td>1</td>\n",
       "      <td>1</td>\n",
       "      <td>68.0</td>\n",
       "      <td>C</td>\n",
       "      <td>1.64</td>\n",
       "      <td>#404040</td>\n",
       "      <td>100</td>\n",
       "    </tr>\n",
       "    <tr>\n",
       "      <th>1</th>\n",
       "      <td>LA FRANCE FIERE, MENEE PAR MARION MARECHAL ET ...</td>\n",
       "      <td>https://votezmarion.fr</td>\n",
       "      <td>3</td>\n",
       "      <td>True</td>\n",
       "      <td>True</td>\n",
       "      <td>False</td>\n",
       "      <td>False</td>\n",
       "      <td>1-liste-3</td>\n",
       "      <td>0</td>\n",
       "      <td>0</td>\n",
       "      <td>1-liste-3-falc</td>\n",
       "      <td>0.96</td>\n",
       "      <td>1</td>\n",
       "      <td>1</td>\n",
       "      <td>38.0</td>\n",
       "      <td>E</td>\n",
       "      <td>2.24</td>\n",
       "      <td>#404040</td>\n",
       "      <td>100</td>\n",
       "    </tr>\n",
       "    <tr>\n",
       "      <th>3</th>\n",
       "      <td>LA FRANCE REVIENT ! AVEC JORDAN BARDELLA ET MA...</td>\n",
       "      <td>https://vivementle9juin.fr</td>\n",
       "      <td>5</td>\n",
       "      <td>True</td>\n",
       "      <td>True</td>\n",
       "      <td>False</td>\n",
       "      <td>False</td>\n",
       "      <td>1-liste-5</td>\n",
       "      <td>0</td>\n",
       "      <td>0</td>\n",
       "      <td>1-liste-5-falc</td>\n",
       "      <td>0.63</td>\n",
       "      <td>1</td>\n",
       "      <td>1</td>\n",
       "      <td>65.0</td>\n",
       "      <td>C</td>\n",
       "      <td>1.70</td>\n",
       "      <td>#0D378A</td>\n",
       "      <td>90</td>\n",
       "    </tr>\n",
       "    <tr>\n",
       "      <th>11</th>\n",
       "      <td>LISTE ASSELINEAU-FREXIT, POUR LE POUVOIR D'ACH...</td>\n",
       "      <td>https://www.upr.fr/actualite/profession-de-foi...</td>\n",
       "      <td>15</td>\n",
       "      <td>False</td>\n",
       "      <td>False</td>\n",
       "      <td>False</td>\n",
       "      <td>False</td>\n",
       "      <td>0</td>\n",
       "      <td>0</td>\n",
       "      <td>0</td>\n",
       "      <td>0</td>\n",
       "      <td>0.74</td>\n",
       "      <td>1</td>\n",
       "      <td>1</td>\n",
       "      <td>32.0</td>\n",
       "      <td>E</td>\n",
       "      <td>2.36</td>\n",
       "      <td>#118088</td>\n",
       "      <td>80</td>\n",
       "    </tr>\n",
       "    <tr>\n",
       "      <th>13</th>\n",
       "      <td>LA DROITE POUR FAIRE ENTENDRE LA VOIX DE LA FR...</td>\n",
       "      <td>https://republicains.fr/programme-2024</td>\n",
       "      <td>18</td>\n",
       "      <td>True</td>\n",
       "      <td>True</td>\n",
       "      <td>False</td>\n",
       "      <td>False</td>\n",
       "      <td>1-liste-18</td>\n",
       "      <td>0</td>\n",
       "      <td>0</td>\n",
       "      <td>1-liste-18-falc</td>\n",
       "      <td>0.76</td>\n",
       "      <td>1</td>\n",
       "      <td>1</td>\n",
       "      <td>59.0</td>\n",
       "      <td>C</td>\n",
       "      <td>1.82</td>\n",
       "      <td>#0066CC</td>\n",
       "      <td>50</td>\n",
       "    </tr>\n",
       "    <tr>\n",
       "      <th>12</th>\n",
       "      <td>POUR UNE AUTRE EUROPE</td>\n",
       "      <td>https://pouruneautreeurope.fr</td>\n",
       "      <td>17</td>\n",
       "      <td>True</td>\n",
       "      <td>True</td>\n",
       "      <td>True</td>\n",
       "      <td>True</td>\n",
       "      <td>0</td>\n",
       "      <td>1-liste-17-falc-acc</td>\n",
       "      <td>1-liste-17-acc</td>\n",
       "      <td>0</td>\n",
       "      <td>0.88</td>\n",
       "      <td>1</td>\n",
       "      <td>1</td>\n",
       "      <td>72.0</td>\n",
       "      <td>B</td>\n",
       "      <td>1.56</td>\n",
       "      <td>#adc1fd</td>\n",
       "      <td>30</td>\n",
       "    </tr>\n",
       "    <tr>\n",
       "      <th>15</th>\n",
       "      <td>NOUS LE PEUPLE</td>\n",
       "      <td>https://www.nous-le-peuple.fr/</td>\n",
       "      <td>21</td>\n",
       "      <td>True</td>\n",
       "      <td>True</td>\n",
       "      <td>False</td>\n",
       "      <td>False</td>\n",
       "      <td>1-liste-21</td>\n",
       "      <td>0</td>\n",
       "      <td>0</td>\n",
       "      <td>1-liste-21-falc</td>\n",
       "      <td>0.89</td>\n",
       "      <td>1</td>\n",
       "      <td>1</td>\n",
       "      <td>37.0</td>\n",
       "      <td>E</td>\n",
       "      <td>2.26</td>\n",
       "      <td>#ffc0c0</td>\n",
       "      <td>30</td>\n",
       "    </tr>\n",
       "    <tr>\n",
       "      <th>7</th>\n",
       "      <td>BESOIN D'EUROPE</td>\n",
       "      <td>https://besoindeurope.fr</td>\n",
       "      <td>11</td>\n",
       "      <td>True</td>\n",
       "      <td>True</td>\n",
       "      <td>True</td>\n",
       "      <td>False</td>\n",
       "      <td>1-liste-11</td>\n",
       "      <td>1-liste-11-falc-acc</td>\n",
       "      <td>0</td>\n",
       "      <td>0</td>\n",
       "      <td>0.97</td>\n",
       "      <td>1</td>\n",
       "      <td>1</td>\n",
       "      <td>47.0</td>\n",
       "      <td>D</td>\n",
       "      <td>2.06</td>\n",
       "      <td>#ffeb00</td>\n",
       "      <td>30</td>\n",
       "    </tr>\n",
       "    <tr>\n",
       "      <th>22</th>\n",
       "      <td>ALLIANCE RURALE</td>\n",
       "      <td>https://alliancerurale.fr</td>\n",
       "      <td>29</td>\n",
       "      <td>True</td>\n",
       "      <td>True</td>\n",
       "      <td>False</td>\n",
       "      <td>False</td>\n",
       "      <td>1-liste-29</td>\n",
       "      <td>0</td>\n",
       "      <td>0</td>\n",
       "      <td>1-liste-29-falc</td>\n",
       "      <td>0.77</td>\n",
       "      <td>1</td>\n",
       "      <td>1</td>\n",
       "      <td>25.0</td>\n",
       "      <td>F</td>\n",
       "      <td>2.50</td>\n",
       "      <td>#26c4ec</td>\n",
       "      <td>20</td>\n",
       "    </tr>\n",
       "    <tr>\n",
       "      <th>0</th>\n",
       "      <td>POUR UNE DEMOCRATIE REELLE : DECIDONS NOUS-MEM...</td>\n",
       "      <td>https://decidonsnousmemes.fr/</td>\n",
       "      <td>2</td>\n",
       "      <td>True</td>\n",
       "      <td>True</td>\n",
       "      <td>False</td>\n",
       "      <td>False</td>\n",
       "      <td>1-liste-2</td>\n",
       "      <td>0</td>\n",
       "      <td>0</td>\n",
       "      <td>1-liste-2-falc</td>\n",
       "      <td>0.87</td>\n",
       "      <td>1</td>\n",
       "      <td>1</td>\n",
       "      <td>59.0</td>\n",
       "      <td>C</td>\n",
       "      <td>1.82</td>\n",
       "      <td>#eeeeee</td>\n",
       "      <td>0</td>\n",
       "    </tr>\n",
       "    <tr>\n",
       "      <th>29</th>\n",
       "      <td>ESPERANTO LANGUE COMMUNE</td>\n",
       "      <td>https://europe2024.fr</td>\n",
       "      <td>37</td>\n",
       "      <td>True</td>\n",
       "      <td>True</td>\n",
       "      <td>False</td>\n",
       "      <td>False</td>\n",
       "      <td>1-liste-37</td>\n",
       "      <td>0</td>\n",
       "      <td>0</td>\n",
       "      <td>1-liste-37-falc</td>\n",
       "      <td>1.00</td>\n",
       "      <td>1</td>\n",
       "      <td>1</td>\n",
       "      <td>65.0</td>\n",
       "      <td>C</td>\n",
       "      <td>1.70</td>\n",
       "      <td>#bb0000</td>\n",
       "      <td>0</td>\n",
       "    </tr>\n",
       "    <tr>\n",
       "      <th>6</th>\n",
       "      <td>PARTI PIRATE</td>\n",
       "      <td>https://europeennes.partipirate.org</td>\n",
       "      <td>10</td>\n",
       "      <td>True</td>\n",
       "      <td>True</td>\n",
       "      <td>False</td>\n",
       "      <td>False</td>\n",
       "      <td>1-liste-10</td>\n",
       "      <td>0</td>\n",
       "      <td>0</td>\n",
       "      <td>1-liste-10-falc</td>\n",
       "      <td>0.75</td>\n",
       "      <td>1</td>\n",
       "      <td>1</td>\n",
       "      <td>74.0</td>\n",
       "      <td>B</td>\n",
       "      <td>1.52</td>\n",
       "      <td>#eeeeee</td>\n",
       "      <td>0</td>\n",
       "    </tr>\n",
       "    <tr>\n",
       "      <th>5</th>\n",
       "      <td>PARTI ANIMALISTE - LES ANIMAUX COMPTENT, VOTRE...</td>\n",
       "      <td>https://parti-animaliste.fr/</td>\n",
       "      <td>8</td>\n",
       "      <td>True</td>\n",
       "      <td>True</td>\n",
       "      <td>False</td>\n",
       "      <td>False</td>\n",
       "      <td>1-liste-8</td>\n",
       "      <td>0</td>\n",
       "      <td>0</td>\n",
       "      <td>1-liste-8-falc</td>\n",
       "      <td>0.88</td>\n",
       "      <td>1</td>\n",
       "      <td>1</td>\n",
       "      <td>33.0</td>\n",
       "      <td>E</td>\n",
       "      <td>2.34</td>\n",
       "      <td>#eeeeee</td>\n",
       "      <td>0</td>\n",
       "    </tr>\n",
       "    <tr>\n",
       "      <th>27</th>\n",
       "      <td>DEFENDRE LES ENFANTS</td>\n",
       "      <td>https://defendre-les-enfants.eu/</td>\n",
       "      <td>34</td>\n",
       "      <td>True</td>\n",
       "      <td>True</td>\n",
       "      <td>False</td>\n",
       "      <td>False</td>\n",
       "      <td>1-liste-34</td>\n",
       "      <td>0</td>\n",
       "      <td>0</td>\n",
       "      <td>1-liste-34-falc</td>\n",
       "      <td>0.92</td>\n",
       "      <td>1</td>\n",
       "      <td>1</td>\n",
       "      <td>54.0</td>\n",
       "      <td>D</td>\n",
       "      <td>1.92</td>\n",
       "      <td>#DCDCDC</td>\n",
       "      <td>0</td>\n",
       "    </tr>\n",
       "    <tr>\n",
       "      <th>25</th>\n",
       "      <td>LA RUCHE CITOYENNE</td>\n",
       "      <td>https://www.laruchecitoyenne.eu/</td>\n",
       "      <td>32</td>\n",
       "      <td>True</td>\n",
       "      <td>True</td>\n",
       "      <td>False</td>\n",
       "      <td>False</td>\n",
       "      <td>1-liste-32</td>\n",
       "      <td>0</td>\n",
       "      <td>0</td>\n",
       "      <td>1-liste-32-falc</td>\n",
       "      <td>0.80</td>\n",
       "      <td>1</td>\n",
       "      <td>1</td>\n",
       "      <td>73.0</td>\n",
       "      <td>B</td>\n",
       "      <td>1.54</td>\n",
       "      <td>#eeeeee</td>\n",
       "      <td>0</td>\n",
       "    </tr>\n",
       "    <tr>\n",
       "      <th>28</th>\n",
       "      <td>ÉCOLOGIE AU CENTRE</td>\n",
       "      <td>https://europeensemble2024.fr/</td>\n",
       "      <td>35</td>\n",
       "      <td>True</td>\n",
       "      <td>True</td>\n",
       "      <td>False</td>\n",
       "      <td>False</td>\n",
       "      <td>1-liste-35</td>\n",
       "      <td>0</td>\n",
       "      <td>0</td>\n",
       "      <td>1-liste-35-falc</td>\n",
       "      <td>0.93</td>\n",
       "      <td>1</td>\n",
       "      <td>1</td>\n",
       "      <td>57.0</td>\n",
       "      <td>C</td>\n",
       "      <td>1.86</td>\n",
       "      <td>#77ff77</td>\n",
       "      <td>-30</td>\n",
       "    </tr>\n",
       "    <tr>\n",
       "      <th>24</th>\n",
       "      <td>EUROPE TERRITOIRES ÉCOLOGIE</td>\n",
       "      <td>https://europeterritoiresecologie.fr</td>\n",
       "      <td>31</td>\n",
       "      <td>True</td>\n",
       "      <td>True</td>\n",
       "      <td>False</td>\n",
       "      <td>False</td>\n",
       "      <td>1-liste-31</td>\n",
       "      <td>0</td>\n",
       "      <td>0</td>\n",
       "      <td>1-liste-31-falc</td>\n",
       "      <td>0.78</td>\n",
       "      <td>1</td>\n",
       "      <td>1</td>\n",
       "      <td>60.0</td>\n",
       "      <td>C</td>\n",
       "      <td>1.80</td>\n",
       "      <td>#ffd1dc</td>\n",
       "      <td>-30</td>\n",
       "    </tr>\n",
       "    <tr>\n",
       "      <th>9</th>\n",
       "      <td>ÉQUINOXE : ÉCOLOGIE PRATIQUE ET RENOUVEAU DÉMO...</td>\n",
       "      <td>https://parti-equinoxe.fr/</td>\n",
       "      <td>13</td>\n",
       "      <td>True</td>\n",
       "      <td>True</td>\n",
       "      <td>True</td>\n",
       "      <td>False</td>\n",
       "      <td>1-liste-13</td>\n",
       "      <td>1-liste-13-falc-acc</td>\n",
       "      <td>0</td>\n",
       "      <td>0</td>\n",
       "      <td>0.94</td>\n",
       "      <td>1</td>\n",
       "      <td>1</td>\n",
       "      <td>44.0</td>\n",
       "      <td>D</td>\n",
       "      <td>2.12</td>\n",
       "      <td>#77ff77</td>\n",
       "      <td>-30</td>\n",
       "    </tr>\n",
       "    <tr>\n",
       "      <th>10</th>\n",
       "      <td>ECOLOGIE POSITIVE ET TERRITOIRES</td>\n",
       "      <td>https://www.ecologiepositiveetterritoires.eu/</td>\n",
       "      <td>14</td>\n",
       "      <td>True</td>\n",
       "      <td>True</td>\n",
       "      <td>False</td>\n",
       "      <td>False</td>\n",
       "      <td>1-liste-14</td>\n",
       "      <td>0</td>\n",
       "      <td>0</td>\n",
       "      <td>1-liste-14-falc</td>\n",
       "      <td>0.77</td>\n",
       "      <td>1</td>\n",
       "      <td>1</td>\n",
       "      <td>53.0</td>\n",
       "      <td>D</td>\n",
       "      <td>1.94</td>\n",
       "      <td>#77ff77</td>\n",
       "      <td>-30</td>\n",
       "    </tr>\n",
       "    <tr>\n",
       "      <th>14</th>\n",
       "      <td>CHANGER L'EUROPE</td>\n",
       "      <td>https://changerleurope.com/</td>\n",
       "      <td>20</td>\n",
       "      <td>True</td>\n",
       "      <td>True</td>\n",
       "      <td>False</td>\n",
       "      <td>False</td>\n",
       "      <td>1-liste-20</td>\n",
       "      <td>0</td>\n",
       "      <td>0</td>\n",
       "      <td>1-liste-20-falc</td>\n",
       "      <td>0.91</td>\n",
       "      <td>1</td>\n",
       "      <td>1</td>\n",
       "      <td>47.0</td>\n",
       "      <td>D</td>\n",
       "      <td>2.06</td>\n",
       "      <td>#ffc0c0</td>\n",
       "      <td>-30</td>\n",
       "    </tr>\n",
       "    <tr>\n",
       "      <th>8</th>\n",
       "      <td>PACE - PARTI DES CITOYENS EUROPÉENS, POUR L'AR...</td>\n",
       "      <td>https://pace-europe.eu</td>\n",
       "      <td>12</td>\n",
       "      <td>True</td>\n",
       "      <td>True</td>\n",
       "      <td>False</td>\n",
       "      <td>False</td>\n",
       "      <td>1-liste-12</td>\n",
       "      <td>0</td>\n",
       "      <td>0</td>\n",
       "      <td>1-liste-12-falc</td>\n",
       "      <td>0.86</td>\n",
       "      <td>1</td>\n",
       "      <td>1</td>\n",
       "      <td>48.0</td>\n",
       "      <td>D</td>\n",
       "      <td>2.04</td>\n",
       "      <td>#ffc0c0</td>\n",
       "      <td>-30</td>\n",
       "    </tr>\n",
       "    <tr>\n",
       "      <th>20</th>\n",
       "      <td>RÉVEILLER L'EUROPE</td>\n",
       "      <td>https://www.glucksmann2024.eu/</td>\n",
       "      <td>27</td>\n",
       "      <td>True</td>\n",
       "      <td>True</td>\n",
       "      <td>True</td>\n",
       "      <td>True</td>\n",
       "      <td>0</td>\n",
       "      <td>1-liste-27-falc-acc</td>\n",
       "      <td>1-liste-27-acc</td>\n",
       "      <td>0</td>\n",
       "      <td>0.75</td>\n",
       "      <td>1</td>\n",
       "      <td>0</td>\n",
       "      <td>66.0</td>\n",
       "      <td>C</td>\n",
       "      <td>1.68</td>\n",
       "      <td>#FF8080</td>\n",
       "      <td>-50</td>\n",
       "    </tr>\n",
       "    <tr>\n",
       "      <th>4</th>\n",
       "      <td>EUROPE ÉCOLOGIE</td>\n",
       "      <td>https://ecologie2024.eu</td>\n",
       "      <td>6</td>\n",
       "      <td>True</td>\n",
       "      <td>True</td>\n",
       "      <td>False</td>\n",
       "      <td>False</td>\n",
       "      <td>1-liste-6</td>\n",
       "      <td>0</td>\n",
       "      <td>0</td>\n",
       "      <td>1-liste-6-falc</td>\n",
       "      <td>0.89</td>\n",
       "      <td>1</td>\n",
       "      <td>1</td>\n",
       "      <td>55.0</td>\n",
       "      <td>D</td>\n",
       "      <td>1.90</td>\n",
       "      <td>#00c000</td>\n",
       "      <td>-50</td>\n",
       "    </tr>\n",
       "    <tr>\n",
       "      <th>2</th>\n",
       "      <td>LA FRANCE INSOUMISE - UNION POPULAIRE</td>\n",
       "      <td>https://lunionpopulaire.fr</td>\n",
       "      <td>4</td>\n",
       "      <td>True</td>\n",
       "      <td>True</td>\n",
       "      <td>True</td>\n",
       "      <td>False</td>\n",
       "      <td>1-liste-4</td>\n",
       "      <td>1-liste-4-falc-acc</td>\n",
       "      <td>0</td>\n",
       "      <td>0</td>\n",
       "      <td>0.87</td>\n",
       "      <td>1</td>\n",
       "      <td>1</td>\n",
       "      <td>29.0</td>\n",
       "      <td>E</td>\n",
       "      <td>2.42</td>\n",
       "      <td>#cc2443</td>\n",
       "      <td>-100</td>\n",
       "    </tr>\n",
       "    <tr>\n",
       "      <th>17</th>\n",
       "      <td>\"POUR LE PAIN, LA PAIX, LA LIBERTÉ !\" PRÉSENTÉ...</td>\n",
       "      <td>https://parti-des-travailleurs.fr</td>\n",
       "      <td>23</td>\n",
       "      <td>True</td>\n",
       "      <td>True</td>\n",
       "      <td>False</td>\n",
       "      <td>False</td>\n",
       "      <td>1-liste-23</td>\n",
       "      <td>0</td>\n",
       "      <td>0</td>\n",
       "      <td>1-liste-23-falc</td>\n",
       "      <td>0.77</td>\n",
       "      <td>1</td>\n",
       "      <td>1</td>\n",
       "      <td>24.0</td>\n",
       "      <td>F</td>\n",
       "      <td>2.52</td>\n",
       "      <td>#bb0000</td>\n",
       "      <td>-100</td>\n",
       "    </tr>\n",
       "    <tr>\n",
       "      <th>26</th>\n",
       "      <td>GAUCHE UNIE POUR LE MONDE DU TRAVAIL SOUTENUE ...</td>\n",
       "      <td>https://deffontaines2024.fr</td>\n",
       "      <td>33</td>\n",
       "      <td>True</td>\n",
       "      <td>True</td>\n",
       "      <td>False</td>\n",
       "      <td>False</td>\n",
       "      <td>1-liste-33</td>\n",
       "      <td>0</td>\n",
       "      <td>0</td>\n",
       "      <td>1-liste-33-falc</td>\n",
       "      <td>0.86</td>\n",
       "      <td>1</td>\n",
       "      <td>1</td>\n",
       "      <td>NaN</td>\n",
       "      <td>None</td>\n",
       "      <td>NaN</td>\n",
       "      <td>#dd0000</td>\n",
       "      <td>-100</td>\n",
       "    </tr>\n",
       "    <tr>\n",
       "      <th>16</th>\n",
       "      <td>POUR UN MONDE SANS FRONTIERES NI PATRONS, URGE...</td>\n",
       "      <td>https://npa-revolutionnaires.org</td>\n",
       "      <td>22</td>\n",
       "      <td>True</td>\n",
       "      <td>False</td>\n",
       "      <td>False</td>\n",
       "      <td>False</td>\n",
       "      <td>1-liste-22</td>\n",
       "      <td>0</td>\n",
       "      <td>0</td>\n",
       "      <td>0</td>\n",
       "      <td>0.83</td>\n",
       "      <td>1</td>\n",
       "      <td>1</td>\n",
       "      <td>16.0</td>\n",
       "      <td>F</td>\n",
       "      <td>2.68</td>\n",
       "      <td>#bb0000</td>\n",
       "      <td>-100</td>\n",
       "    </tr>\n",
       "    <tr>\n",
       "      <th>19</th>\n",
       "      <td>NON À L'UE ET À L'OTAN, COMMUNISTES POUR LA PA...</td>\n",
       "      <td>https://ancommunistes.fr/</td>\n",
       "      <td>28</td>\n",
       "      <td>True</td>\n",
       "      <td>False</td>\n",
       "      <td>False</td>\n",
       "      <td>False</td>\n",
       "      <td>1-liste-28</td>\n",
       "      <td>0</td>\n",
       "      <td>0</td>\n",
       "      <td>0</td>\n",
       "      <td>0.81</td>\n",
       "      <td>1</td>\n",
       "      <td>1</td>\n",
       "      <td>81.0</td>\n",
       "      <td>A</td>\n",
       "      <td>1.38</td>\n",
       "      <td>#bb0000</td>\n",
       "      <td>-100</td>\n",
       "    </tr>\n",
       "  </tbody>\n",
       "</table>\n",
       "</div>"
      ],
      "text/plain": [
       "                                             nomListe  \\\n",
       "30                     LIBERTÉ DÉMOCRATIQUE FRANÇAISE   \n",
       "23                                       FRANCE LIBRE   \n",
       "18                        NON ! PRENONS-NOUS EN MAINS   \n",
       "1   LA FRANCE FIERE, MENEE PAR MARION MARECHAL ET ...   \n",
       "3   LA FRANCE REVIENT ! AVEC JORDAN BARDELLA ET MA...   \n",
       "11  LISTE ASSELINEAU-FREXIT, POUR LE POUVOIR D'ACH...   \n",
       "13  LA DROITE POUR FAIRE ENTENDRE LA VOIX DE LA FR...   \n",
       "12                              POUR UNE AUTRE EUROPE   \n",
       "15                                     NOUS LE PEUPLE   \n",
       "7                                     BESOIN D'EUROPE   \n",
       "22                                    ALLIANCE RURALE   \n",
       "0   POUR UNE DEMOCRATIE REELLE : DECIDONS NOUS-MEM...   \n",
       "29                           ESPERANTO LANGUE COMMUNE   \n",
       "6                                        PARTI PIRATE   \n",
       "5   PARTI ANIMALISTE - LES ANIMAUX COMPTENT, VOTRE...   \n",
       "27                               DEFENDRE LES ENFANTS   \n",
       "25                                 LA RUCHE CITOYENNE   \n",
       "28                                 ÉCOLOGIE AU CENTRE   \n",
       "24                        EUROPE TERRITOIRES ÉCOLOGIE   \n",
       "9   ÉQUINOXE : ÉCOLOGIE PRATIQUE ET RENOUVEAU DÉMO...   \n",
       "10                   ECOLOGIE POSITIVE ET TERRITOIRES   \n",
       "14                                   CHANGER L'EUROPE   \n",
       "8   PACE - PARTI DES CITOYENS EUROPÉENS, POUR L'AR...   \n",
       "20                                 RÉVEILLER L'EUROPE   \n",
       "4                                     EUROPE ÉCOLOGIE   \n",
       "2               LA FRANCE INSOUMISE - UNION POPULAIRE   \n",
       "17  \"POUR LE PAIN, LA PAIX, LA LIBERTÉ !\" PRÉSENTÉ...   \n",
       "26  GAUCHE UNIE POUR LE MONDE DU TRAVAIL SOUTENUE ...   \n",
       "16  POUR UN MONDE SANS FRONTIERES NI PATRONS, URGE...   \n",
       "19  NON À L'UE ET À L'OTAN, COMMUNISTES POUR LA PA...   \n",
       "\n",
       "                                          website_url  numPanneau  has_pdf  \\\n",
       "30                         https://www.groupe-ldf.fr/          38     True   \n",
       "23                        https://francelibre-2024.fr          30     True   \n",
       "18                                   https://pnem.eu/          25     True   \n",
       "1                              https://votezmarion.fr           3     True   \n",
       "3                          https://vivementle9juin.fr           5     True   \n",
       "11  https://www.upr.fr/actualite/profession-de-foi...          15    False   \n",
       "13             https://republicains.fr/programme-2024          18     True   \n",
       "12                      https://pouruneautreeurope.fr          17     True   \n",
       "15                     https://www.nous-le-peuple.fr/          21     True   \n",
       "7                            https://besoindeurope.fr          11     True   \n",
       "22                          https://alliancerurale.fr          29     True   \n",
       "0                       https://decidonsnousmemes.fr/           2     True   \n",
       "29                              https://europe2024.fr          37     True   \n",
       "6                 https://europeennes.partipirate.org          10     True   \n",
       "5                        https://parti-animaliste.fr/           8     True   \n",
       "27                   https://defendre-les-enfants.eu/          34     True   \n",
       "25                   https://www.laruchecitoyenne.eu/          32     True   \n",
       "28                     https://europeensemble2024.fr/          35     True   \n",
       "24               https://europeterritoiresecologie.fr          31     True   \n",
       "9                          https://parti-equinoxe.fr/          13     True   \n",
       "10      https://www.ecologiepositiveetterritoires.eu/          14     True   \n",
       "14                        https://changerleurope.com/          20     True   \n",
       "8                              https://pace-europe.eu          12     True   \n",
       "20                     https://www.glucksmann2024.eu/          27     True   \n",
       "4                             https://ecologie2024.eu           6     True   \n",
       "2                          https://lunionpopulaire.fr           4     True   \n",
       "17                  https://parti-des-travailleurs.fr          23     True   \n",
       "26                        https://deffontaines2024.fr          33     True   \n",
       "16                   https://npa-revolutionnaires.org          22     True   \n",
       "19                          https://ancommunistes.fr/          28     True   \n",
       "\n",
       "    has_falc  has_falc_acc  has_pdf_acc         pdf             falc_acc  \\\n",
       "30     False         False         True           0                    0   \n",
       "23      True         False        False  1-liste-30                    0   \n",
       "18      True          True        False  1-liste-25  1-liste-25-falc-acc   \n",
       "1       True         False        False   1-liste-3                    0   \n",
       "3       True         False        False   1-liste-5                    0   \n",
       "11     False         False        False           0                    0   \n",
       "13      True         False        False  1-liste-18                    0   \n",
       "12      True          True         True           0  1-liste-17-falc-acc   \n",
       "15      True         False        False  1-liste-21                    0   \n",
       "7       True          True        False  1-liste-11  1-liste-11-falc-acc   \n",
       "22      True         False        False  1-liste-29                    0   \n",
       "0       True         False        False   1-liste-2                    0   \n",
       "29      True         False        False  1-liste-37                    0   \n",
       "6       True         False        False  1-liste-10                    0   \n",
       "5       True         False        False   1-liste-8                    0   \n",
       "27      True         False        False  1-liste-34                    0   \n",
       "25      True         False        False  1-liste-32                    0   \n",
       "28      True         False        False  1-liste-35                    0   \n",
       "24      True         False        False  1-liste-31                    0   \n",
       "9       True          True        False  1-liste-13  1-liste-13-falc-acc   \n",
       "10      True         False        False  1-liste-14                    0   \n",
       "14      True         False        False  1-liste-20                    0   \n",
       "8       True         False        False  1-liste-12                    0   \n",
       "20      True          True         True           0  1-liste-27-falc-acc   \n",
       "4       True         False        False   1-liste-6                    0   \n",
       "2       True          True        False   1-liste-4   1-liste-4-falc-acc   \n",
       "17      True         False        False  1-liste-23                    0   \n",
       "26      True         False        False  1-liste-33                    0   \n",
       "16     False         False        False  1-liste-22                    0   \n",
       "19     False         False        False  1-liste-28                    0   \n",
       "\n",
       "           pdf_acc             falc  lighthouse_acc  rgpd_mentions_legales  \\\n",
       "30  1-liste-38-acc                0            0.91                      1   \n",
       "23               0  1-liste-30-falc            0.89                      1   \n",
       "18               0                0            1.00                      1   \n",
       "1                0   1-liste-3-falc            0.96                      1   \n",
       "3                0   1-liste-5-falc            0.63                      1   \n",
       "11               0                0            0.74                      1   \n",
       "13               0  1-liste-18-falc            0.76                      1   \n",
       "12  1-liste-17-acc                0            0.88                      1   \n",
       "15               0  1-liste-21-falc            0.89                      1   \n",
       "7                0                0            0.97                      1   \n",
       "22               0  1-liste-29-falc            0.77                      1   \n",
       "0                0   1-liste-2-falc            0.87                      1   \n",
       "29               0  1-liste-37-falc            1.00                      1   \n",
       "6                0  1-liste-10-falc            0.75                      1   \n",
       "5                0   1-liste-8-falc            0.88                      1   \n",
       "27               0  1-liste-34-falc            0.92                      1   \n",
       "25               0  1-liste-32-falc            0.80                      1   \n",
       "28               0  1-liste-35-falc            0.93                      1   \n",
       "24               0  1-liste-31-falc            0.78                      1   \n",
       "9                0                0            0.94                      1   \n",
       "10               0  1-liste-14-falc            0.77                      1   \n",
       "14               0  1-liste-20-falc            0.91                      1   \n",
       "8                0  1-liste-12-falc            0.86                      1   \n",
       "20  1-liste-27-acc                0            0.75                      1   \n",
       "4                0   1-liste-6-falc            0.89                      1   \n",
       "2                0                0            0.87                      1   \n",
       "17               0  1-liste-23-falc            0.77                      1   \n",
       "26               0  1-liste-33-falc            0.86                      1   \n",
       "16               0                0            0.83                      1   \n",
       "19               0                0            0.81                      1   \n",
       "\n",
       "    rgpd_politiques_confidentialite  ecoindex_score ecoindex_grade  \\\n",
       "30                                1            37.0              E   \n",
       "23                                1            12.0              F   \n",
       "18                                1            68.0              C   \n",
       "1                                 1            38.0              E   \n",
       "3                                 1            65.0              C   \n",
       "11                                1            32.0              E   \n",
       "13                                1            59.0              C   \n",
       "12                                1            72.0              B   \n",
       "15                                1            37.0              E   \n",
       "7                                 1            47.0              D   \n",
       "22                                1            25.0              F   \n",
       "0                                 1            59.0              C   \n",
       "29                                1            65.0              C   \n",
       "6                                 1            74.0              B   \n",
       "5                                 1            33.0              E   \n",
       "27                                1            54.0              D   \n",
       "25                                1            73.0              B   \n",
       "28                                1            57.0              C   \n",
       "24                                1            60.0              C   \n",
       "9                                 1            44.0              D   \n",
       "10                                1            53.0              D   \n",
       "14                                1            47.0              D   \n",
       "8                                 1            48.0              D   \n",
       "20                                0            66.0              C   \n",
       "4                                 1            55.0              D   \n",
       "2                                 1            29.0              E   \n",
       "17                                1            24.0              F   \n",
       "26                                1             NaN           None   \n",
       "16                                1            16.0              F   \n",
       "19                                1            81.0              A   \n",
       "\n",
       "    ecoindex_ges    color  emicentre_position  \n",
       "30          2.26  #404040                 100  \n",
       "23          2.76  #404040                 100  \n",
       "18          1.64  #404040                 100  \n",
       "1           2.24  #404040                 100  \n",
       "3           1.70  #0D378A                  90  \n",
       "11          2.36  #118088                  80  \n",
       "13          1.82  #0066CC                  50  \n",
       "12          1.56  #adc1fd                  30  \n",
       "15          2.26  #ffc0c0                  30  \n",
       "7           2.06  #ffeb00                  30  \n",
       "22          2.50  #26c4ec                  20  \n",
       "0           1.82  #eeeeee                   0  \n",
       "29          1.70  #bb0000                   0  \n",
       "6           1.52  #eeeeee                   0  \n",
       "5           2.34  #eeeeee                   0  \n",
       "27          1.92  #DCDCDC                   0  \n",
       "25          1.54  #eeeeee                   0  \n",
       "28          1.86  #77ff77                 -30  \n",
       "24          1.80  #ffd1dc                 -30  \n",
       "9           2.12  #77ff77                 -30  \n",
       "10          1.94  #77ff77                 -30  \n",
       "14          2.06  #ffc0c0                 -30  \n",
       "8           2.04  #ffc0c0                 -30  \n",
       "20          1.68  #FF8080                 -50  \n",
       "4           1.90  #00c000                 -50  \n",
       "2           2.42  #cc2443                -100  \n",
       "17          2.52  #bb0000                -100  \n",
       "26           NaN  #dd0000                -100  \n",
       "16          2.68  #bb0000                -100  \n",
       "19          1.38  #bb0000                -100  "
      ]
     },
     "execution_count": 107,
     "metadata": {},
     "output_type": "execute_result"
    }
   ],
   "source": [
    "df_clean"
   ]
  },
  {
   "cell_type": "code",
   "execution_count": 152,
   "metadata": {},
   "outputs": [
    {
     "data": {
      "text/plain": [
       "array([[100, 'LIBERTÉ DÉMOCRATIQUE FRANÇAISE'],\n",
       "       [100, 'FRANCE LIBRE'],\n",
       "       [100, 'NON ! PRENONS-NOUS EN MAINS'],\n",
       "       [100,\n",
       "        'LA FRANCE FIERE, MENEE PAR MARION MARECHAL ET SOUTENUE PAR ÉRIC ZEMMOUR'],\n",
       "       [90, 'LA FRANCE REVIENT ! AVEC JORDAN BARDELLA ET MARINE LE PEN'],\n",
       "       [80,\n",
       "        \"LISTE ASSELINEAU-FREXIT, POUR LE POUVOIR D'ACHAT ET POUR LA PAIX\"],\n",
       "       [50,\n",
       "        'LA DROITE POUR FAIRE ENTENDRE LA VOIX DE LA FRANCE EN EUROPE'],\n",
       "       [30, 'POUR UNE AUTRE EUROPE'],\n",
       "       [30, 'NOUS LE PEUPLE'],\n",
       "       [30, \"BESOIN D'EUROPE\"],\n",
       "       [20, 'ALLIANCE RURALE'],\n",
       "       [0, 'POUR UNE DEMOCRATIE REELLE : DECIDONS NOUS-MEMES !'],\n",
       "       [0, 'ESPERANTO LANGUE COMMUNE'],\n",
       "       [0, 'PARTI PIRATE'],\n",
       "       [0, 'PARTI ANIMALISTE - LES ANIMAUX COMPTENT, VOTRE VOIX AUSSI'],\n",
       "       [0, 'DEFENDRE LES ENFANTS'],\n",
       "       [0, 'LA RUCHE CITOYENNE'],\n",
       "       [-30, 'ÉCOLOGIE AU CENTRE'],\n",
       "       [-30, 'EUROPE TERRITOIRES ÉCOLOGIE'],\n",
       "       [-30, 'ÉQUINOXE : ÉCOLOGIE PRATIQUE ET RENOUVEAU DÉMOCRATIQUE'],\n",
       "       [-30, 'ECOLOGIE POSITIVE ET TERRITOIRES'],\n",
       "       [-30, \"CHANGER L'EUROPE\"],\n",
       "       [-30,\n",
       "        \"PACE - PARTI DES CITOYENS EUROPÉENS, POUR L'ARMÉE EUROPÉENNE, POUR L'EUROPE SOCIALE , POUR LA PLANÈTE !\"],\n",
       "       [-50, \"RÉVEILLER L'EUROPE\"],\n",
       "       [-50, 'EUROPE ÉCOLOGIE'],\n",
       "       [-100, 'LA FRANCE INSOUMISE - UNION POPULAIRE'],\n",
       "       [-100,\n",
       "        '\"POUR LE PAIN, LA PAIX, LA LIBERTÉ !\" PRÉSENTÉE PAR LE PARTI DES TRAVAILLEURS'],\n",
       "       [-100,\n",
       "        'GAUCHE UNIE POUR LE MONDE DU TRAVAIL SOUTENUE PAR FABIEN ROUSSEL'],\n",
       "       [-100,\n",
       "        'POUR UN MONDE SANS FRONTIERES NI PATRONS, URGENCE REVOLUTION !'],\n",
       "       [-100,\n",
       "        \"NON À L'UE ET À L'OTAN, COMMUNISTES POUR LA PAIX ET LE PROGRÈS SOCIAL\"]],\n",
       "      dtype=object)"
      ]
     },
     "execution_count": 152,
     "metadata": {},
     "output_type": "execute_result"
    }
   ],
   "source": [
    "df_clean[[\"emicentre_position\", \"nomListe\"]].to_numpy()"
   ]
  },
  {
   "cell_type": "code",
   "execution_count": 182,
   "metadata": {},
   "outputs": [
    {
     "data": {
      "application/vnd.plotly.v1+json": {
       "config": {
        "plotlyServerURL": "https://plot.ly"
       },
       "data": [
        {
         "hovertemplate": "La site de liste %{y} a un score EcoIndex de %{x}",
         "marker": {
          "color": [
           "#404040",
           "#404040",
           "#404040",
           "#404040",
           "#0D378A",
           "#118088",
           "#0066CC",
           "#adc1fd",
           "#ffc0c0",
           "#ffeb00",
           "#26c4ec",
           "#eeeeee",
           "#bb0000",
           "#eeeeee",
           "#eeeeee",
           "#DCDCDC",
           "#eeeeee",
           "#77ff77",
           "#ffd1dc",
           "#77ff77",
           "#77ff77",
           "#ffc0c0",
           "#ffc0c0",
           "#FF8080",
           "#00c000",
           "#cc2443",
           "#bb0000",
           "#dd0000",
           "#bb0000",
           "#bb0000"
          ]
         },
         "orientation": "h",
         "text": [
          37,
          12,
          68,
          38,
          65,
          32,
          59,
          72,
          37,
          47,
          25,
          59,
          65,
          74,
          33,
          54,
          73,
          57,
          60,
          44,
          53,
          47,
          48,
          66,
          55,
          29,
          24,
          null,
          16,
          81
         ],
         "texttemplate": "%{x}",
         "type": "bar",
         "x": [
          37,
          12,
          68,
          38,
          65,
          32,
          59,
          72,
          37,
          47,
          25,
          59,
          65,
          74,
          33,
          54,
          73,
          57,
          60,
          44,
          53,
          47,
          48,
          66,
          55,
          29,
          24,
          null,
          16,
          81
         ],
         "y": [
          "LIBERTÉ DÉMOCRATIQUE FRANÇAISE",
          "FRANCE LIBRE",
          "NON ! PRENONS-NOUS EN MAINS",
          "LA FRANCE FIERE, MENEE PAR MARION MARECHAL ET SOUTENUE PAR ÉRIC ZEMMOUR",
          "LA FRANCE REVIENT ! AVEC JORDAN BARDELLA ET MARINE LE PEN",
          "LISTE ASSELINEAU-FREXIT, POUR LE POUVOIR D'ACHAT ET POUR LA PAIX",
          "LA DROITE POUR FAIRE ENTENDRE LA VOIX DE LA FRANCE EN EUROPE",
          "POUR UNE AUTRE EUROPE",
          "NOUS LE PEUPLE",
          "BESOIN D'EUROPE",
          "ALLIANCE RURALE",
          "POUR UNE DEMOCRATIE REELLE : DECIDONS NOUS-MEMES !",
          "ESPERANTO LANGUE COMMUNE",
          "PARTI PIRATE",
          "PARTI ANIMALISTE - LES ANIMAUX COMPTENT, VOTRE VOIX AUSSI",
          "DEFENDRE LES ENFANTS",
          "LA RUCHE CITOYENNE",
          "ÉCOLOGIE AU CENTRE",
          "EUROPE TERRITOIRES ÉCOLOGIE",
          "ÉQUINOXE : ÉCOLOGIE PRATIQUE ET RENOUVEAU DÉMOCRATIQUE",
          "ECOLOGIE POSITIVE ET TERRITOIRES",
          "CHANGER L'EUROPE",
          "PACE - PARTI DES CITOYENS EUROPÉENS, POUR L'ARMÉE EUROPÉENNE, POUR L'EUROPE SOCIALE , POUR LA PLANÈTE !",
          "RÉVEILLER L'EUROPE",
          "EUROPE ÉCOLOGIE",
          "LA FRANCE INSOUMISE - UNION POPULAIRE",
          "\"POUR LE PAIN, LA PAIX, LA LIBERTÉ !\" PRÉSENTÉE PAR LE PARTI DES TRAVAILLEURS",
          "GAUCHE UNIE POUR LE MONDE DU TRAVAIL SOUTENUE PAR FABIEN ROUSSEL",
          "POUR UN MONDE SANS FRONTIERES NI PATRONS, URGENCE REVOLUTION !",
          "NON À L'UE ET À L'OTAN, COMMUNISTES POUR LA PAIX ET LE PROGRÈS SOCIAL"
         ]
        }
       ],
       "layout": {
        "annotations": [
         {
          "showarrow": false,
          "text": "Extreme Droite",
          "textangle": -90,
          "x": 1,
          "xanchor": "right",
          "xref": "x domain",
          "y": 1.95,
          "yanchor": "middle",
          "yref": "y"
         }
        ],
        "height": 1000,
        "margin": {
         "t": 120
        },
        "plot_bgcolor": "white",
        "shapes": [
         {
          "fillcolor": "#505050",
          "layer": "below",
          "line": {
           "width": 0
          },
          "opacity": 0.25,
          "type": "rect",
          "x0": 0,
          "x1": 1,
          "xref": "x domain",
          "y0": -0.6,
          "y1": 4.5,
          "yref": "y"
         }
        ],
        "showlegend": false,
        "template": {
         "data": {
          "bar": [
           {
            "error_x": {
             "color": "#2a3f5f"
            },
            "error_y": {
             "color": "#2a3f5f"
            },
            "marker": {
             "line": {
              "color": "#E5ECF6",
              "width": 0.5
             },
             "pattern": {
              "fillmode": "overlay",
              "size": 10,
              "solidity": 0.2
             }
            },
            "type": "bar"
           }
          ],
          "barpolar": [
           {
            "marker": {
             "line": {
              "color": "#E5ECF6",
              "width": 0.5
             },
             "pattern": {
              "fillmode": "overlay",
              "size": 10,
              "solidity": 0.2
             }
            },
            "type": "barpolar"
           }
          ],
          "carpet": [
           {
            "aaxis": {
             "endlinecolor": "#2a3f5f",
             "gridcolor": "white",
             "linecolor": "white",
             "minorgridcolor": "white",
             "startlinecolor": "#2a3f5f"
            },
            "baxis": {
             "endlinecolor": "#2a3f5f",
             "gridcolor": "white",
             "linecolor": "white",
             "minorgridcolor": "white",
             "startlinecolor": "#2a3f5f"
            },
            "type": "carpet"
           }
          ],
          "choropleth": [
           {
            "colorbar": {
             "outlinewidth": 0,
             "ticks": ""
            },
            "type": "choropleth"
           }
          ],
          "contour": [
           {
            "colorbar": {
             "outlinewidth": 0,
             "ticks": ""
            },
            "colorscale": [
             [
              0,
              "#0d0887"
             ],
             [
              0.1111111111111111,
              "#46039f"
             ],
             [
              0.2222222222222222,
              "#7201a8"
             ],
             [
              0.3333333333333333,
              "#9c179e"
             ],
             [
              0.4444444444444444,
              "#bd3786"
             ],
             [
              0.5555555555555556,
              "#d8576b"
             ],
             [
              0.6666666666666666,
              "#ed7953"
             ],
             [
              0.7777777777777778,
              "#fb9f3a"
             ],
             [
              0.8888888888888888,
              "#fdca26"
             ],
             [
              1,
              "#f0f921"
             ]
            ],
            "type": "contour"
           }
          ],
          "contourcarpet": [
           {
            "colorbar": {
             "outlinewidth": 0,
             "ticks": ""
            },
            "type": "contourcarpet"
           }
          ],
          "heatmap": [
           {
            "colorbar": {
             "outlinewidth": 0,
             "ticks": ""
            },
            "colorscale": [
             [
              0,
              "#0d0887"
             ],
             [
              0.1111111111111111,
              "#46039f"
             ],
             [
              0.2222222222222222,
              "#7201a8"
             ],
             [
              0.3333333333333333,
              "#9c179e"
             ],
             [
              0.4444444444444444,
              "#bd3786"
             ],
             [
              0.5555555555555556,
              "#d8576b"
             ],
             [
              0.6666666666666666,
              "#ed7953"
             ],
             [
              0.7777777777777778,
              "#fb9f3a"
             ],
             [
              0.8888888888888888,
              "#fdca26"
             ],
             [
              1,
              "#f0f921"
             ]
            ],
            "type": "heatmap"
           }
          ],
          "heatmapgl": [
           {
            "colorbar": {
             "outlinewidth": 0,
             "ticks": ""
            },
            "colorscale": [
             [
              0,
              "#0d0887"
             ],
             [
              0.1111111111111111,
              "#46039f"
             ],
             [
              0.2222222222222222,
              "#7201a8"
             ],
             [
              0.3333333333333333,
              "#9c179e"
             ],
             [
              0.4444444444444444,
              "#bd3786"
             ],
             [
              0.5555555555555556,
              "#d8576b"
             ],
             [
              0.6666666666666666,
              "#ed7953"
             ],
             [
              0.7777777777777778,
              "#fb9f3a"
             ],
             [
              0.8888888888888888,
              "#fdca26"
             ],
             [
              1,
              "#f0f921"
             ]
            ],
            "type": "heatmapgl"
           }
          ],
          "histogram": [
           {
            "marker": {
             "pattern": {
              "fillmode": "overlay",
              "size": 10,
              "solidity": 0.2
             }
            },
            "type": "histogram"
           }
          ],
          "histogram2d": [
           {
            "colorbar": {
             "outlinewidth": 0,
             "ticks": ""
            },
            "colorscale": [
             [
              0,
              "#0d0887"
             ],
             [
              0.1111111111111111,
              "#46039f"
             ],
             [
              0.2222222222222222,
              "#7201a8"
             ],
             [
              0.3333333333333333,
              "#9c179e"
             ],
             [
              0.4444444444444444,
              "#bd3786"
             ],
             [
              0.5555555555555556,
              "#d8576b"
             ],
             [
              0.6666666666666666,
              "#ed7953"
             ],
             [
              0.7777777777777778,
              "#fb9f3a"
             ],
             [
              0.8888888888888888,
              "#fdca26"
             ],
             [
              1,
              "#f0f921"
             ]
            ],
            "type": "histogram2d"
           }
          ],
          "histogram2dcontour": [
           {
            "colorbar": {
             "outlinewidth": 0,
             "ticks": ""
            },
            "colorscale": [
             [
              0,
              "#0d0887"
             ],
             [
              0.1111111111111111,
              "#46039f"
             ],
             [
              0.2222222222222222,
              "#7201a8"
             ],
             [
              0.3333333333333333,
              "#9c179e"
             ],
             [
              0.4444444444444444,
              "#bd3786"
             ],
             [
              0.5555555555555556,
              "#d8576b"
             ],
             [
              0.6666666666666666,
              "#ed7953"
             ],
             [
              0.7777777777777778,
              "#fb9f3a"
             ],
             [
              0.8888888888888888,
              "#fdca26"
             ],
             [
              1,
              "#f0f921"
             ]
            ],
            "type": "histogram2dcontour"
           }
          ],
          "mesh3d": [
           {
            "colorbar": {
             "outlinewidth": 0,
             "ticks": ""
            },
            "type": "mesh3d"
           }
          ],
          "parcoords": [
           {
            "line": {
             "colorbar": {
              "outlinewidth": 0,
              "ticks": ""
             }
            },
            "type": "parcoords"
           }
          ],
          "pie": [
           {
            "automargin": true,
            "type": "pie"
           }
          ],
          "scatter": [
           {
            "fillpattern": {
             "fillmode": "overlay",
             "size": 10,
             "solidity": 0.2
            },
            "type": "scatter"
           }
          ],
          "scatter3d": [
           {
            "line": {
             "colorbar": {
              "outlinewidth": 0,
              "ticks": ""
             }
            },
            "marker": {
             "colorbar": {
              "outlinewidth": 0,
              "ticks": ""
             }
            },
            "type": "scatter3d"
           }
          ],
          "scattercarpet": [
           {
            "marker": {
             "colorbar": {
              "outlinewidth": 0,
              "ticks": ""
             }
            },
            "type": "scattercarpet"
           }
          ],
          "scattergeo": [
           {
            "marker": {
             "colorbar": {
              "outlinewidth": 0,
              "ticks": ""
             }
            },
            "type": "scattergeo"
           }
          ],
          "scattergl": [
           {
            "marker": {
             "colorbar": {
              "outlinewidth": 0,
              "ticks": ""
             }
            },
            "type": "scattergl"
           }
          ],
          "scattermapbox": [
           {
            "marker": {
             "colorbar": {
              "outlinewidth": 0,
              "ticks": ""
             }
            },
            "type": "scattermapbox"
           }
          ],
          "scatterpolar": [
           {
            "marker": {
             "colorbar": {
              "outlinewidth": 0,
              "ticks": ""
             }
            },
            "type": "scatterpolar"
           }
          ],
          "scatterpolargl": [
           {
            "marker": {
             "colorbar": {
              "outlinewidth": 0,
              "ticks": ""
             }
            },
            "type": "scatterpolargl"
           }
          ],
          "scatterternary": [
           {
            "marker": {
             "colorbar": {
              "outlinewidth": 0,
              "ticks": ""
             }
            },
            "type": "scatterternary"
           }
          ],
          "surface": [
           {
            "colorbar": {
             "outlinewidth": 0,
             "ticks": ""
            },
            "colorscale": [
             [
              0,
              "#0d0887"
             ],
             [
              0.1111111111111111,
              "#46039f"
             ],
             [
              0.2222222222222222,
              "#7201a8"
             ],
             [
              0.3333333333333333,
              "#9c179e"
             ],
             [
              0.4444444444444444,
              "#bd3786"
             ],
             [
              0.5555555555555556,
              "#d8576b"
             ],
             [
              0.6666666666666666,
              "#ed7953"
             ],
             [
              0.7777777777777778,
              "#fb9f3a"
             ],
             [
              0.8888888888888888,
              "#fdca26"
             ],
             [
              1,
              "#f0f921"
             ]
            ],
            "type": "surface"
           }
          ],
          "table": [
           {
            "cells": {
             "fill": {
              "color": "#EBF0F8"
             },
             "line": {
              "color": "white"
             }
            },
            "header": {
             "fill": {
              "color": "#C8D4E3"
             },
             "line": {
              "color": "white"
             }
            },
            "type": "table"
           }
          ]
         },
         "layout": {
          "annotationdefaults": {
           "arrowcolor": "#2a3f5f",
           "arrowhead": 0,
           "arrowwidth": 1
          },
          "autotypenumbers": "strict",
          "coloraxis": {
           "colorbar": {
            "outlinewidth": 0,
            "ticks": ""
           }
          },
          "colorscale": {
           "diverging": [
            [
             0,
             "#8e0152"
            ],
            [
             0.1,
             "#c51b7d"
            ],
            [
             0.2,
             "#de77ae"
            ],
            [
             0.3,
             "#f1b6da"
            ],
            [
             0.4,
             "#fde0ef"
            ],
            [
             0.5,
             "#f7f7f7"
            ],
            [
             0.6,
             "#e6f5d0"
            ],
            [
             0.7,
             "#b8e186"
            ],
            [
             0.8,
             "#7fbc41"
            ],
            [
             0.9,
             "#4d9221"
            ],
            [
             1,
             "#276419"
            ]
           ],
           "sequential": [
            [
             0,
             "#0d0887"
            ],
            [
             0.1111111111111111,
             "#46039f"
            ],
            [
             0.2222222222222222,
             "#7201a8"
            ],
            [
             0.3333333333333333,
             "#9c179e"
            ],
            [
             0.4444444444444444,
             "#bd3786"
            ],
            [
             0.5555555555555556,
             "#d8576b"
            ],
            [
             0.6666666666666666,
             "#ed7953"
            ],
            [
             0.7777777777777778,
             "#fb9f3a"
            ],
            [
             0.8888888888888888,
             "#fdca26"
            ],
            [
             1,
             "#f0f921"
            ]
           ],
           "sequentialminus": [
            [
             0,
             "#0d0887"
            ],
            [
             0.1111111111111111,
             "#46039f"
            ],
            [
             0.2222222222222222,
             "#7201a8"
            ],
            [
             0.3333333333333333,
             "#9c179e"
            ],
            [
             0.4444444444444444,
             "#bd3786"
            ],
            [
             0.5555555555555556,
             "#d8576b"
            ],
            [
             0.6666666666666666,
             "#ed7953"
            ],
            [
             0.7777777777777778,
             "#fb9f3a"
            ],
            [
             0.8888888888888888,
             "#fdca26"
            ],
            [
             1,
             "#f0f921"
            ]
           ]
          },
          "colorway": [
           "#636efa",
           "#EF553B",
           "#00cc96",
           "#ab63fa",
           "#FFA15A",
           "#19d3f3",
           "#FF6692",
           "#B6E880",
           "#FF97FF",
           "#FECB52"
          ],
          "font": {
           "color": "#2a3f5f"
          },
          "geo": {
           "bgcolor": "white",
           "lakecolor": "white",
           "landcolor": "#E5ECF6",
           "showlakes": true,
           "showland": true,
           "subunitcolor": "white"
          },
          "hoverlabel": {
           "align": "left"
          },
          "hovermode": "closest",
          "mapbox": {
           "style": "light"
          },
          "paper_bgcolor": "white",
          "plot_bgcolor": "#E5ECF6",
          "polar": {
           "angularaxis": {
            "gridcolor": "white",
            "linecolor": "white",
            "ticks": ""
           },
           "bgcolor": "#E5ECF6",
           "radialaxis": {
            "gridcolor": "white",
            "linecolor": "white",
            "ticks": ""
           }
          },
          "scene": {
           "xaxis": {
            "backgroundcolor": "#E5ECF6",
            "gridcolor": "white",
            "gridwidth": 2,
            "linecolor": "white",
            "showbackground": true,
            "ticks": "",
            "zerolinecolor": "white"
           },
           "yaxis": {
            "backgroundcolor": "#E5ECF6",
            "gridcolor": "white",
            "gridwidth": 2,
            "linecolor": "white",
            "showbackground": true,
            "ticks": "",
            "zerolinecolor": "white"
           },
           "zaxis": {
            "backgroundcolor": "#E5ECF6",
            "gridcolor": "white",
            "gridwidth": 2,
            "linecolor": "white",
            "showbackground": true,
            "ticks": "",
            "zerolinecolor": "white"
           }
          },
          "shapedefaults": {
           "line": {
            "color": "#2a3f5f"
           }
          },
          "ternary": {
           "aaxis": {
            "gridcolor": "white",
            "linecolor": "white",
            "ticks": ""
           },
           "baxis": {
            "gridcolor": "white",
            "linecolor": "white",
            "ticks": ""
           },
           "bgcolor": "#E5ECF6",
           "caxis": {
            "gridcolor": "white",
            "linecolor": "white",
            "ticks": ""
           }
          },
          "title": {
           "x": 0.05
          },
          "xaxis": {
           "automargin": true,
           "gridcolor": "white",
           "linecolor": "white",
           "ticks": "",
           "title": {
            "standoff": 15
           },
           "zerolinecolor": "white",
           "zerolinewidth": 2
          },
          "yaxis": {
           "automargin": true,
           "gridcolor": "white",
           "linecolor": "white",
           "ticks": "",
           "title": {
            "standoff": 15
           },
           "zerolinecolor": "white",
           "zerolinewidth": 2
          }
         }
        },
        "title": {
         "text": "Quelle liste a le site l'impact environnemental le plus contenu ?<br><sup>Basé sur l'EcoIndex, plus le score est haut, plus l'impact environemental est contenu.</sup>"
        },
        "xaxis": {
         "gridcolor": "black",
         "griddash": "dot",
         "linecolor": "black",
         "linewidth": 1,
         "range": [
          0,
          100
         ],
         "showgrid": true,
         "title": {
          "text": "Score EcoIndex"
         }
        }
       }
      }
     },
     "metadata": {},
     "output_type": "display_data"
    }
   ],
   "source": [
    "traces = []\n",
    "trace = go.Bar(\n",
    "    y=df_clean[\"nomListe\"],\n",
    "    x=df_clean[\"ecoindex_score\"],\n",
    "    marker_color=df_clean[\"color\"],\n",
    "    orientation=\"h\",\n",
    "    text=df_clean[\"ecoindex_score\"],\n",
    "    texttemplate=\"%{x}\",\n",
    "    hovertemplate=\"La site de liste %{y} a un score EcoIndex de %{x}\",\n",
    ")\n",
    "traces.append(trace)\n",
    "\n",
    "fig = go.Figure(traces)\n",
    "fig.update_layout(\n",
    "    showlegend=False,\n",
    "    plot_bgcolor=\"white\",\n",
    "    height=1000,\n",
    "    title=\"Quelle liste a le site l'impact environnemental le plus contenu ?<br><sup>Basé sur l'EcoIndex, plus le score est haut, plus l'impact environemental est contenu.</sup>\",\n",
    "    margin_t=120,\n",
    ")\n",
    "fig.update_xaxes(\n",
    "    title=\"Score EcoIndex\",\n",
    "    range=[0, 100],\n",
    "    showgrid=True,\n",
    "    gridcolor=\"black\",\n",
    "    griddash=\"dot\",\n",
    "    linewidth=1,\n",
    "    linecolor=\"black\",\n",
    ")\n",
    "fig.add_hrect(\n",
    "    y0=-0.6,\n",
    "    y1=4.5,\n",
    "    annotation_text=\"Extreme Droite\",\n",
    "    annotation_position=\"right\",\n",
    "    annotation_textangle=-90,\n",
    "    fillcolor=\"#505050\",\n",
    "    opacity=0.25,\n",
    "    line_width=0,\n",
    "    layer=\"below\",\n",
    ")\n",
    "fig.show()"
   ]
  },
  {
   "cell_type": "code",
   "execution_count": 191,
   "metadata": {},
   "outputs": [
    {
     "data": {
      "application/vnd.plotly.v1+json": {
       "config": {
        "plotlyServerURL": "https://plot.ly"
       },
       "data": [
        {
         "hovertemplate": "La site de liste %{y} a un score EcoIndex de %{x}",
         "marker": {
          "color": [
           "#404040",
           "#404040",
           "#404040",
           "#404040",
           "#0D378A",
           "#118088",
           "#0066CC",
           "#adc1fd",
           "#ffc0c0",
           "#ffeb00",
           "#26c4ec",
           "#eeeeee",
           "#bb0000",
           "#eeeeee",
           "#eeeeee",
           "#DCDCDC",
           "#eeeeee",
           "#77ff77",
           "#ffd1dc",
           "#77ff77",
           "#77ff77",
           "#ffc0c0",
           "#ffc0c0",
           "#FF8080",
           "#00c000",
           "#cc2443",
           "#bb0000",
           "#dd0000",
           "#bb0000",
           "#bb0000"
          ]
         },
         "orientation": "h",
         "text": [
          37,
          12,
          68,
          38,
          65,
          32,
          59,
          72,
          37,
          47,
          25,
          59,
          65,
          74,
          33,
          54,
          73,
          57,
          60,
          44,
          53,
          47,
          48,
          66,
          55,
          29,
          24,
          null,
          16,
          81
         ],
         "texttemplate": "%{x}",
         "type": "bar",
         "x": [
          91,
          89,
          100,
          96,
          63,
          74,
          76,
          88,
          89,
          97,
          77,
          87,
          100,
          75,
          88,
          92,
          80,
          93,
          78,
          94,
          77,
          91,
          86,
          75,
          89,
          87,
          77,
          86,
          83,
          81
         ],
         "y": [
          "LIBERTÉ DÉMOCRATIQUE FRANÇAISE",
          "FRANCE LIBRE",
          "NON ! PRENONS-NOUS EN MAINS",
          "LA FRANCE FIERE, MENEE PAR MARION MARECHAL ET SOUTENUE PAR ÉRIC ZEMMOUR",
          "LA FRANCE REVIENT ! AVEC JORDAN BARDELLA ET MARINE LE PEN",
          "LISTE ASSELINEAU-FREXIT, POUR LE POUVOIR D'ACHAT ET POUR LA PAIX",
          "LA DROITE POUR FAIRE ENTENDRE LA VOIX DE LA FRANCE EN EUROPE",
          "POUR UNE AUTRE EUROPE",
          "NOUS LE PEUPLE",
          "BESOIN D'EUROPE",
          "ALLIANCE RURALE",
          "POUR UNE DEMOCRATIE REELLE : DECIDONS NOUS-MEMES !",
          "ESPERANTO LANGUE COMMUNE",
          "PARTI PIRATE",
          "PARTI ANIMALISTE - LES ANIMAUX COMPTENT, VOTRE VOIX AUSSI",
          "DEFENDRE LES ENFANTS",
          "LA RUCHE CITOYENNE",
          "ÉCOLOGIE AU CENTRE",
          "EUROPE TERRITOIRES ÉCOLOGIE",
          "ÉQUINOXE : ÉCOLOGIE PRATIQUE ET RENOUVEAU DÉMOCRATIQUE",
          "ECOLOGIE POSITIVE ET TERRITOIRES",
          "CHANGER L'EUROPE",
          "PACE - PARTI DES CITOYENS EUROPÉENS, POUR L'ARMÉE EUROPÉENNE, POUR L'EUROPE SOCIALE , POUR LA PLANÈTE !",
          "RÉVEILLER L'EUROPE",
          "EUROPE ÉCOLOGIE",
          "LA FRANCE INSOUMISE - UNION POPULAIRE",
          "\"POUR LE PAIN, LA PAIX, LA LIBERTÉ !\" PRÉSENTÉE PAR LE PARTI DES TRAVAILLEURS",
          "GAUCHE UNIE POUR LE MONDE DU TRAVAIL SOUTENUE PAR FABIEN ROUSSEL",
          "POUR UN MONDE SANS FRONTIERES NI PATRONS, URGENCE REVOLUTION !",
          "NON À L'UE ET À L'OTAN, COMMUNISTES POUR LA PAIX ET LE PROGRÈS SOCIAL"
         ]
        }
       ],
       "layout": {
        "height": 1000,
        "margin": {
         "t": 120
        },
        "plot_bgcolor": "white",
        "showlegend": false,
        "template": {
         "data": {
          "bar": [
           {
            "error_x": {
             "color": "#2a3f5f"
            },
            "error_y": {
             "color": "#2a3f5f"
            },
            "marker": {
             "line": {
              "color": "#E5ECF6",
              "width": 0.5
             },
             "pattern": {
              "fillmode": "overlay",
              "size": 10,
              "solidity": 0.2
             }
            },
            "type": "bar"
           }
          ],
          "barpolar": [
           {
            "marker": {
             "line": {
              "color": "#E5ECF6",
              "width": 0.5
             },
             "pattern": {
              "fillmode": "overlay",
              "size": 10,
              "solidity": 0.2
             }
            },
            "type": "barpolar"
           }
          ],
          "carpet": [
           {
            "aaxis": {
             "endlinecolor": "#2a3f5f",
             "gridcolor": "white",
             "linecolor": "white",
             "minorgridcolor": "white",
             "startlinecolor": "#2a3f5f"
            },
            "baxis": {
             "endlinecolor": "#2a3f5f",
             "gridcolor": "white",
             "linecolor": "white",
             "minorgridcolor": "white",
             "startlinecolor": "#2a3f5f"
            },
            "type": "carpet"
           }
          ],
          "choropleth": [
           {
            "colorbar": {
             "outlinewidth": 0,
             "ticks": ""
            },
            "type": "choropleth"
           }
          ],
          "contour": [
           {
            "colorbar": {
             "outlinewidth": 0,
             "ticks": ""
            },
            "colorscale": [
             [
              0,
              "#0d0887"
             ],
             [
              0.1111111111111111,
              "#46039f"
             ],
             [
              0.2222222222222222,
              "#7201a8"
             ],
             [
              0.3333333333333333,
              "#9c179e"
             ],
             [
              0.4444444444444444,
              "#bd3786"
             ],
             [
              0.5555555555555556,
              "#d8576b"
             ],
             [
              0.6666666666666666,
              "#ed7953"
             ],
             [
              0.7777777777777778,
              "#fb9f3a"
             ],
             [
              0.8888888888888888,
              "#fdca26"
             ],
             [
              1,
              "#f0f921"
             ]
            ],
            "type": "contour"
           }
          ],
          "contourcarpet": [
           {
            "colorbar": {
             "outlinewidth": 0,
             "ticks": ""
            },
            "type": "contourcarpet"
           }
          ],
          "heatmap": [
           {
            "colorbar": {
             "outlinewidth": 0,
             "ticks": ""
            },
            "colorscale": [
             [
              0,
              "#0d0887"
             ],
             [
              0.1111111111111111,
              "#46039f"
             ],
             [
              0.2222222222222222,
              "#7201a8"
             ],
             [
              0.3333333333333333,
              "#9c179e"
             ],
             [
              0.4444444444444444,
              "#bd3786"
             ],
             [
              0.5555555555555556,
              "#d8576b"
             ],
             [
              0.6666666666666666,
              "#ed7953"
             ],
             [
              0.7777777777777778,
              "#fb9f3a"
             ],
             [
              0.8888888888888888,
              "#fdca26"
             ],
             [
              1,
              "#f0f921"
             ]
            ],
            "type": "heatmap"
           }
          ],
          "heatmapgl": [
           {
            "colorbar": {
             "outlinewidth": 0,
             "ticks": ""
            },
            "colorscale": [
             [
              0,
              "#0d0887"
             ],
             [
              0.1111111111111111,
              "#46039f"
             ],
             [
              0.2222222222222222,
              "#7201a8"
             ],
             [
              0.3333333333333333,
              "#9c179e"
             ],
             [
              0.4444444444444444,
              "#bd3786"
             ],
             [
              0.5555555555555556,
              "#d8576b"
             ],
             [
              0.6666666666666666,
              "#ed7953"
             ],
             [
              0.7777777777777778,
              "#fb9f3a"
             ],
             [
              0.8888888888888888,
              "#fdca26"
             ],
             [
              1,
              "#f0f921"
             ]
            ],
            "type": "heatmapgl"
           }
          ],
          "histogram": [
           {
            "marker": {
             "pattern": {
              "fillmode": "overlay",
              "size": 10,
              "solidity": 0.2
             }
            },
            "type": "histogram"
           }
          ],
          "histogram2d": [
           {
            "colorbar": {
             "outlinewidth": 0,
             "ticks": ""
            },
            "colorscale": [
             [
              0,
              "#0d0887"
             ],
             [
              0.1111111111111111,
              "#46039f"
             ],
             [
              0.2222222222222222,
              "#7201a8"
             ],
             [
              0.3333333333333333,
              "#9c179e"
             ],
             [
              0.4444444444444444,
              "#bd3786"
             ],
             [
              0.5555555555555556,
              "#d8576b"
             ],
             [
              0.6666666666666666,
              "#ed7953"
             ],
             [
              0.7777777777777778,
              "#fb9f3a"
             ],
             [
              0.8888888888888888,
              "#fdca26"
             ],
             [
              1,
              "#f0f921"
             ]
            ],
            "type": "histogram2d"
           }
          ],
          "histogram2dcontour": [
           {
            "colorbar": {
             "outlinewidth": 0,
             "ticks": ""
            },
            "colorscale": [
             [
              0,
              "#0d0887"
             ],
             [
              0.1111111111111111,
              "#46039f"
             ],
             [
              0.2222222222222222,
              "#7201a8"
             ],
             [
              0.3333333333333333,
              "#9c179e"
             ],
             [
              0.4444444444444444,
              "#bd3786"
             ],
             [
              0.5555555555555556,
              "#d8576b"
             ],
             [
              0.6666666666666666,
              "#ed7953"
             ],
             [
              0.7777777777777778,
              "#fb9f3a"
             ],
             [
              0.8888888888888888,
              "#fdca26"
             ],
             [
              1,
              "#f0f921"
             ]
            ],
            "type": "histogram2dcontour"
           }
          ],
          "mesh3d": [
           {
            "colorbar": {
             "outlinewidth": 0,
             "ticks": ""
            },
            "type": "mesh3d"
           }
          ],
          "parcoords": [
           {
            "line": {
             "colorbar": {
              "outlinewidth": 0,
              "ticks": ""
             }
            },
            "type": "parcoords"
           }
          ],
          "pie": [
           {
            "automargin": true,
            "type": "pie"
           }
          ],
          "scatter": [
           {
            "fillpattern": {
             "fillmode": "overlay",
             "size": 10,
             "solidity": 0.2
            },
            "type": "scatter"
           }
          ],
          "scatter3d": [
           {
            "line": {
             "colorbar": {
              "outlinewidth": 0,
              "ticks": ""
             }
            },
            "marker": {
             "colorbar": {
              "outlinewidth": 0,
              "ticks": ""
             }
            },
            "type": "scatter3d"
           }
          ],
          "scattercarpet": [
           {
            "marker": {
             "colorbar": {
              "outlinewidth": 0,
              "ticks": ""
             }
            },
            "type": "scattercarpet"
           }
          ],
          "scattergeo": [
           {
            "marker": {
             "colorbar": {
              "outlinewidth": 0,
              "ticks": ""
             }
            },
            "type": "scattergeo"
           }
          ],
          "scattergl": [
           {
            "marker": {
             "colorbar": {
              "outlinewidth": 0,
              "ticks": ""
             }
            },
            "type": "scattergl"
           }
          ],
          "scattermapbox": [
           {
            "marker": {
             "colorbar": {
              "outlinewidth": 0,
              "ticks": ""
             }
            },
            "type": "scattermapbox"
           }
          ],
          "scatterpolar": [
           {
            "marker": {
             "colorbar": {
              "outlinewidth": 0,
              "ticks": ""
             }
            },
            "type": "scatterpolar"
           }
          ],
          "scatterpolargl": [
           {
            "marker": {
             "colorbar": {
              "outlinewidth": 0,
              "ticks": ""
             }
            },
            "type": "scatterpolargl"
           }
          ],
          "scatterternary": [
           {
            "marker": {
             "colorbar": {
              "outlinewidth": 0,
              "ticks": ""
             }
            },
            "type": "scatterternary"
           }
          ],
          "surface": [
           {
            "colorbar": {
             "outlinewidth": 0,
             "ticks": ""
            },
            "colorscale": [
             [
              0,
              "#0d0887"
             ],
             [
              0.1111111111111111,
              "#46039f"
             ],
             [
              0.2222222222222222,
              "#7201a8"
             ],
             [
              0.3333333333333333,
              "#9c179e"
             ],
             [
              0.4444444444444444,
              "#bd3786"
             ],
             [
              0.5555555555555556,
              "#d8576b"
             ],
             [
              0.6666666666666666,
              "#ed7953"
             ],
             [
              0.7777777777777778,
              "#fb9f3a"
             ],
             [
              0.8888888888888888,
              "#fdca26"
             ],
             [
              1,
              "#f0f921"
             ]
            ],
            "type": "surface"
           }
          ],
          "table": [
           {
            "cells": {
             "fill": {
              "color": "#EBF0F8"
             },
             "line": {
              "color": "white"
             }
            },
            "header": {
             "fill": {
              "color": "#C8D4E3"
             },
             "line": {
              "color": "white"
             }
            },
            "type": "table"
           }
          ]
         },
         "layout": {
          "annotationdefaults": {
           "arrowcolor": "#2a3f5f",
           "arrowhead": 0,
           "arrowwidth": 1
          },
          "autotypenumbers": "strict",
          "coloraxis": {
           "colorbar": {
            "outlinewidth": 0,
            "ticks": ""
           }
          },
          "colorscale": {
           "diverging": [
            [
             0,
             "#8e0152"
            ],
            [
             0.1,
             "#c51b7d"
            ],
            [
             0.2,
             "#de77ae"
            ],
            [
             0.3,
             "#f1b6da"
            ],
            [
             0.4,
             "#fde0ef"
            ],
            [
             0.5,
             "#f7f7f7"
            ],
            [
             0.6,
             "#e6f5d0"
            ],
            [
             0.7,
             "#b8e186"
            ],
            [
             0.8,
             "#7fbc41"
            ],
            [
             0.9,
             "#4d9221"
            ],
            [
             1,
             "#276419"
            ]
           ],
           "sequential": [
            [
             0,
             "#0d0887"
            ],
            [
             0.1111111111111111,
             "#46039f"
            ],
            [
             0.2222222222222222,
             "#7201a8"
            ],
            [
             0.3333333333333333,
             "#9c179e"
            ],
            [
             0.4444444444444444,
             "#bd3786"
            ],
            [
             0.5555555555555556,
             "#d8576b"
            ],
            [
             0.6666666666666666,
             "#ed7953"
            ],
            [
             0.7777777777777778,
             "#fb9f3a"
            ],
            [
             0.8888888888888888,
             "#fdca26"
            ],
            [
             1,
             "#f0f921"
            ]
           ],
           "sequentialminus": [
            [
             0,
             "#0d0887"
            ],
            [
             0.1111111111111111,
             "#46039f"
            ],
            [
             0.2222222222222222,
             "#7201a8"
            ],
            [
             0.3333333333333333,
             "#9c179e"
            ],
            [
             0.4444444444444444,
             "#bd3786"
            ],
            [
             0.5555555555555556,
             "#d8576b"
            ],
            [
             0.6666666666666666,
             "#ed7953"
            ],
            [
             0.7777777777777778,
             "#fb9f3a"
            ],
            [
             0.8888888888888888,
             "#fdca26"
            ],
            [
             1,
             "#f0f921"
            ]
           ]
          },
          "colorway": [
           "#636efa",
           "#EF553B",
           "#00cc96",
           "#ab63fa",
           "#FFA15A",
           "#19d3f3",
           "#FF6692",
           "#B6E880",
           "#FF97FF",
           "#FECB52"
          ],
          "font": {
           "color": "#2a3f5f"
          },
          "geo": {
           "bgcolor": "white",
           "lakecolor": "white",
           "landcolor": "#E5ECF6",
           "showlakes": true,
           "showland": true,
           "subunitcolor": "white"
          },
          "hoverlabel": {
           "align": "left"
          },
          "hovermode": "closest",
          "mapbox": {
           "style": "light"
          },
          "paper_bgcolor": "white",
          "plot_bgcolor": "#E5ECF6",
          "polar": {
           "angularaxis": {
            "gridcolor": "white",
            "linecolor": "white",
            "ticks": ""
           },
           "bgcolor": "#E5ECF6",
           "radialaxis": {
            "gridcolor": "white",
            "linecolor": "white",
            "ticks": ""
           }
          },
          "scene": {
           "xaxis": {
            "backgroundcolor": "#E5ECF6",
            "gridcolor": "white",
            "gridwidth": 2,
            "linecolor": "white",
            "showbackground": true,
            "ticks": "",
            "zerolinecolor": "white"
           },
           "yaxis": {
            "backgroundcolor": "#E5ECF6",
            "gridcolor": "white",
            "gridwidth": 2,
            "linecolor": "white",
            "showbackground": true,
            "ticks": "",
            "zerolinecolor": "white"
           },
           "zaxis": {
            "backgroundcolor": "#E5ECF6",
            "gridcolor": "white",
            "gridwidth": 2,
            "linecolor": "white",
            "showbackground": true,
            "ticks": "",
            "zerolinecolor": "white"
           }
          },
          "shapedefaults": {
           "line": {
            "color": "#2a3f5f"
           }
          },
          "ternary": {
           "aaxis": {
            "gridcolor": "white",
            "linecolor": "white",
            "ticks": ""
           },
           "baxis": {
            "gridcolor": "white",
            "linecolor": "white",
            "ticks": ""
           },
           "bgcolor": "#E5ECF6",
           "caxis": {
            "gridcolor": "white",
            "linecolor": "white",
            "ticks": ""
           }
          },
          "title": {
           "x": 0.05
          },
          "xaxis": {
           "automargin": true,
           "gridcolor": "white",
           "linecolor": "white",
           "ticks": "",
           "title": {
            "standoff": 15
           },
           "zerolinecolor": "white",
           "zerolinewidth": 2
          },
          "yaxis": {
           "automargin": true,
           "gridcolor": "white",
           "linecolor": "white",
           "ticks": "",
           "title": {
            "standoff": 15
           },
           "zerolinecolor": "white",
           "zerolinewidth": 2
          }
         }
        },
        "title": {
         "text": "Quelle liste a le site le plus accessible ?"
        },
        "xaxis": {
         "gridcolor": "black",
         "griddash": "dot",
         "linecolor": "black",
         "linewidth": 1,
         "range": [
          0,
          100
         ],
         "showgrid": true,
         "title": {
          "text": "Score Lighthouse"
         }
        }
       }
      }
     },
     "metadata": {},
     "output_type": "display_data"
    }
   ],
   "source": [
    "traces = []\n",
    "trace = go.Bar(\n",
    "    y=df_clean[\"nomListe\"],\n",
    "    x=df_clean[\"lighthouse_acc\"] * 100,\n",
    "    marker_color=df_clean[\"color\"],\n",
    "    orientation=\"h\",\n",
    "    text=df_clean[\"ecoindex_score\"],\n",
    "    texttemplate=\"%{x}\",\n",
    "    hovertemplate=\"La site de liste %{y} a un score EcoIndex de %{x}\",\n",
    ")\n",
    "traces.append(trace)\n",
    "\n",
    "fig = go.Figure(traces)\n",
    "fig.update_layout(\n",
    "    showlegend=False,\n",
    "    plot_bgcolor=\"white\",\n",
    "    height=1000,\n",
    "    title=\"Quelle liste a le site le plus accessible ?\",\n",
    "    margin_t=120,\n",
    ")\n",
    "fig.update_xaxes(\n",
    "    title=\"Score Lighthouse\",\n",
    "    range=[0, 100],\n",
    "    showgrid=True,\n",
    "    gridcolor=\"black\",\n",
    "    griddash=\"dot\",\n",
    "    linewidth=1,\n",
    "    linecolor=\"black\",\n",
    ")\n",
    "fig.show()"
   ]
  },
  {
   "cell_type": "code",
   "execution_count": 193,
   "metadata": {},
   "outputs": [],
   "source": [
    "data_full = json.load(open(\"data/complete/program-with-dashlord.json\"))"
   ]
  },
  {
   "cell_type": "code",
   "execution_count": 194,
   "metadata": {},
   "outputs": [],
   "source": [
    "df_full = pd.DataFrame(data_full[\"data\"])"
   ]
  },
  {
   "cell_type": "code",
   "execution_count": 197,
   "metadata": {},
   "outputs": [],
   "source": [
    "df_full[\"num_trackers\"] = df_full[\"dashlord\"].apply(\n",
    "    lambda x: len(x.get(\"thirdparties\", {}).get(\"trackers\", [])) if x else 0\n",
    ")"
   ]
  },
  {
   "cell_type": "code",
   "execution_count": 199,
   "metadata": {},
   "outputs": [
    {
     "data": {
      "text/html": [
       "<div>\n",
       "<style scoped>\n",
       "    .dataframe tbody tr th:only-of-type {\n",
       "        vertical-align: middle;\n",
       "    }\n",
       "\n",
       "    .dataframe tbody tr th {\n",
       "        vertical-align: top;\n",
       "    }\n",
       "\n",
       "    .dataframe thead th {\n",
       "        text-align: right;\n",
       "    }\n",
       "</style>\n",
       "<table border=\"1\" class=\"dataframe\">\n",
       "  <thead>\n",
       "    <tr style=\"text-align: right;\">\n",
       "      <th></th>\n",
       "      <th>nomTeteListe</th>\n",
       "      <th>prenomTeteListe</th>\n",
       "      <th>pdf</th>\n",
       "      <th>falc_acc</th>\n",
       "      <th>pdf_acc</th>\n",
       "      <th>falc</th>\n",
       "      <th>numPanneau</th>\n",
       "      <th>nomListe</th>\n",
       "      <th>has_pdf</th>\n",
       "      <th>has_falc</th>\n",
       "      <th>has_falc_acc</th>\n",
       "      <th>has_pdf_acc</th>\n",
       "      <th>contact_mail</th>\n",
       "      <th>website_url</th>\n",
       "      <th>parite</th>\n",
       "      <th>professions</th>\n",
       "      <th>age</th>\n",
       "      <th>hasTech</th>\n",
       "      <th>dashlord</th>\n",
       "      <th>num_trackers</th>\n",
       "    </tr>\n",
       "  </thead>\n",
       "  <tbody>\n",
       "    <tr>\n",
       "      <th>26</th>\n",
       "      <td>ELMAYAN</td>\n",
       "      <td>Lorys</td>\n",
       "      <td>1-liste-32</td>\n",
       "      <td>0</td>\n",
       "      <td>0</td>\n",
       "      <td>1-liste-32-falc</td>\n",
       "      <td>32</td>\n",
       "      <td>LA RUCHE CITOYENNE</td>\n",
       "      <td>True</td>\n",
       "      <td>True</td>\n",
       "      <td>False</td>\n",
       "      <td>False</td>\n",
       "      <td>[laruchecitoyenne@gmail.com]</td>\n",
       "      <td>[https://www.laruchecitoyenne.eu/]</td>\n",
       "      <td>{'F': 50.6, 'M': 49.4}</td>\n",
       "      <td>{'Personne diverse sans activité professionnel...</td>\n",
       "      <td>{'50-59': 40.7, '40-49': 27.2, '60-69': 18.5, ...</td>\n",
       "      <td>0</td>\n",
       "      <td>{'404': [], 'url': 'https://www.laruchecitoyen...</td>\n",
       "      <td>25</td>\n",
       "    </tr>\n",
       "    <tr>\n",
       "      <th>21</th>\n",
       "      <td>GLUCKSMANN</td>\n",
       "      <td>Raphaël</td>\n",
       "      <td>0</td>\n",
       "      <td>1-liste-27-falc-acc</td>\n",
       "      <td>1-liste-27-acc</td>\n",
       "      <td>0</td>\n",
       "      <td>27</td>\n",
       "      <td>RÉVEILLER L'EUROPE</td>\n",
       "      <td>True</td>\n",
       "      <td>True</td>\n",
       "      <td>True</td>\n",
       "      <td>True</td>\n",
       "      <td>[]</td>\n",
       "      <td>[https://www.glucksmann2024.eu/]</td>\n",
       "      <td>{'M': 50.6, 'F': 49.4}</td>\n",
       "      <td>{'Cadre de la fonction publique': 33.3, 'Cadre...</td>\n",
       "      <td>{'50-59': 28.4, '40-49': 25.9, '30-39': 18.5, ...</td>\n",
       "      <td>0</td>\n",
       "      <td>None</td>\n",
       "      <td>0</td>\n",
       "    </tr>\n",
       "    <tr>\n",
       "      <th>18</th>\n",
       "      <td>LABIB</td>\n",
       "      <td>Selma</td>\n",
       "      <td>1-liste-22</td>\n",
       "      <td>0</td>\n",
       "      <td>0</td>\n",
       "      <td>0</td>\n",
       "      <td>22</td>\n",
       "      <td>POUR UN MONDE SANS FRONTIERES NI PATRONS, URGE...</td>\n",
       "      <td>True</td>\n",
       "      <td>False</td>\n",
       "      <td>False</td>\n",
       "      <td>False</td>\n",
       "      <td>[]</td>\n",
       "      <td>[https://npa-revolutionnaires.org]</td>\n",
       "      <td>{'F': 50.6, 'M': 49.4}</td>\n",
       "      <td>{'Elève, étudiant': 16.0, 'Professeur, profess...</td>\n",
       "      <td>{'30-39': 33.3, '18-29': 25.9, '40-49': 23.5, ...</td>\n",
       "      <td>0</td>\n",
       "      <td>{'404': None, 'url': 'https://npa-revolutionna...</td>\n",
       "      <td>11</td>\n",
       "    </tr>\n",
       "    <tr>\n",
       "      <th>10</th>\n",
       "      <td>CHOLLEY</td>\n",
       "      <td>Marine</td>\n",
       "      <td>1-liste-13</td>\n",
       "      <td>1-liste-13-falc-acc</td>\n",
       "      <td>0</td>\n",
       "      <td>0</td>\n",
       "      <td>13</td>\n",
       "      <td>ÉQUINOXE : ÉCOLOGIE PRATIQUE ET RENOUVEAU DÉMO...</td>\n",
       "      <td>True</td>\n",
       "      <td>True</td>\n",
       "      <td>True</td>\n",
       "      <td>False</td>\n",
       "      <td>[]</td>\n",
       "      <td>[https://parti-equinoxe.fr/]</td>\n",
       "      <td>{'F': 50.6, 'M': 49.4}</td>\n",
       "      <td>{'Ingénieur et cadre technique d'entreprise': ...</td>\n",
       "      <td>{'18-29': 37.0, '30-39': 29.6, '50-59': 19.8, ...</td>\n",
       "      <td>{'name': 'falc_acc', 'occurence': 1}</td>\n",
       "      <td>{'404': None, 'url': 'https://parti-equinoxe.f...</td>\n",
       "      <td>3</td>\n",
       "    </tr>\n",
       "    <tr>\n",
       "      <th>12</th>\n",
       "      <td>ASSELINEAU</td>\n",
       "      <td>François</td>\n",
       "      <td>0</td>\n",
       "      <td>0</td>\n",
       "      <td>0</td>\n",
       "      <td>0</td>\n",
       "      <td>15</td>\n",
       "      <td>LISTE ASSELINEAU-FREXIT, POUR LE POUVOIR D'ACH...</td>\n",
       "      <td>False</td>\n",
       "      <td>False</td>\n",
       "      <td>False</td>\n",
       "      <td>False</td>\n",
       "      <td>[]</td>\n",
       "      <td>[https://www.upr.fr/actualite/profession-de-fo...</td>\n",
       "      <td>{'M': 50.6, 'F': 49.4}</td>\n",
       "      <td>{'Ancien cadre': 13.6, 'Professeur, profession...</td>\n",
       "      <td>{'60-69': 43.2, '40-49': 18.5, '70+': 14.8, '3...</td>\n",
       "      <td>0</td>\n",
       "      <td>{'404': None, 'url': 'https://www.upr.fr/actua...</td>\n",
       "      <td>0</td>\n",
       "    </tr>\n",
       "  </tbody>\n",
       "</table>\n",
       "</div>"
      ],
      "text/plain": [
       "   nomTeteListe prenomTeteListe         pdf             falc_acc  \\\n",
       "26      ELMAYAN           Lorys  1-liste-32                    0   \n",
       "21   GLUCKSMANN         Raphaël           0  1-liste-27-falc-acc   \n",
       "18        LABIB           Selma  1-liste-22                    0   \n",
       "10      CHOLLEY          Marine  1-liste-13  1-liste-13-falc-acc   \n",
       "12   ASSELINEAU        François           0                    0   \n",
       "\n",
       "           pdf_acc             falc  numPanneau  \\\n",
       "26               0  1-liste-32-falc          32   \n",
       "21  1-liste-27-acc                0          27   \n",
       "18               0                0          22   \n",
       "10               0                0          13   \n",
       "12               0                0          15   \n",
       "\n",
       "                                             nomListe  has_pdf  has_falc  \\\n",
       "26                                 LA RUCHE CITOYENNE     True      True   \n",
       "21                                 RÉVEILLER L'EUROPE     True      True   \n",
       "18  POUR UN MONDE SANS FRONTIERES NI PATRONS, URGE...     True     False   \n",
       "10  ÉQUINOXE : ÉCOLOGIE PRATIQUE ET RENOUVEAU DÉMO...     True      True   \n",
       "12  LISTE ASSELINEAU-FREXIT, POUR LE POUVOIR D'ACH...    False     False   \n",
       "\n",
       "    has_falc_acc  has_pdf_acc                  contact_mail  \\\n",
       "26         False        False  [laruchecitoyenne@gmail.com]   \n",
       "21          True         True                            []   \n",
       "18         False        False                            []   \n",
       "10          True        False                            []   \n",
       "12         False        False                            []   \n",
       "\n",
       "                                          website_url                  parite  \\\n",
       "26                 [https://www.laruchecitoyenne.eu/]  {'F': 50.6, 'M': 49.4}   \n",
       "21                   [https://www.glucksmann2024.eu/]  {'M': 50.6, 'F': 49.4}   \n",
       "18                 [https://npa-revolutionnaires.org]  {'F': 50.6, 'M': 49.4}   \n",
       "10                       [https://parti-equinoxe.fr/]  {'F': 50.6, 'M': 49.4}   \n",
       "12  [https://www.upr.fr/actualite/profession-de-fo...  {'M': 50.6, 'F': 49.4}   \n",
       "\n",
       "                                          professions  \\\n",
       "26  {'Personne diverse sans activité professionnel...   \n",
       "21  {'Cadre de la fonction publique': 33.3, 'Cadre...   \n",
       "18  {'Elève, étudiant': 16.0, 'Professeur, profess...   \n",
       "10  {'Ingénieur et cadre technique d'entreprise': ...   \n",
       "12  {'Ancien cadre': 13.6, 'Professeur, profession...   \n",
       "\n",
       "                                                  age  \\\n",
       "26  {'50-59': 40.7, '40-49': 27.2, '60-69': 18.5, ...   \n",
       "21  {'50-59': 28.4, '40-49': 25.9, '30-39': 18.5, ...   \n",
       "18  {'30-39': 33.3, '18-29': 25.9, '40-49': 23.5, ...   \n",
       "10  {'18-29': 37.0, '30-39': 29.6, '50-59': 19.8, ...   \n",
       "12  {'60-69': 43.2, '40-49': 18.5, '70+': 14.8, '3...   \n",
       "\n",
       "                                 hasTech  \\\n",
       "26                                     0   \n",
       "21                                     0   \n",
       "18                                     0   \n",
       "10  {'name': 'falc_acc', 'occurence': 1}   \n",
       "12                                     0   \n",
       "\n",
       "                                             dashlord  num_trackers  \n",
       "26  {'404': [], 'url': 'https://www.laruchecitoyen...            25  \n",
       "21                                               None             0  \n",
       "18  {'404': None, 'url': 'https://npa-revolutionna...            11  \n",
       "10  {'404': None, 'url': 'https://parti-equinoxe.f...             3  \n",
       "12  {'404': None, 'url': 'https://www.upr.fr/actua...             0  "
      ]
     },
     "execution_count": 199,
     "metadata": {},
     "output_type": "execute_result"
    }
   ],
   "source": [
    "df_full.sample(5)"
   ]
  },
  {
   "cell_type": "code",
   "execution_count": 203,
   "metadata": {},
   "outputs": [],
   "source": [
    "df_full = df_full.merge(df, on=\"nomListe\")"
   ]
  },
  {
   "cell_type": "code",
   "execution_count": 205,
   "metadata": {},
   "outputs": [],
   "source": [
    "df_full = df_full.drop_duplicates(\"nomListe\").sort_values(\n",
    "    \"emicentre_position\", ascending=False\n",
    ")"
   ]
  },
  {
   "cell_type": "code",
   "execution_count": 209,
   "metadata": {},
   "outputs": [
    {
     "data": {
      "text/plain": [
       "30     18\n",
       "23    144\n",
       "18     22\n",
       "1      30\n",
       "3      73\n",
       "11      0\n",
       "13     25\n",
       "12      5\n",
       "15     77\n",
       "7      81\n",
       "22     28\n",
       "0      66\n",
       "29      0\n",
       "6       0\n",
       "5      23\n",
       "27      1\n",
       "25     25\n",
       "28    355\n",
       "24    151\n",
       "9       3\n",
       "10    135\n",
       "14    176\n",
       "8      63\n",
       "4      29\n",
       "19      0\n",
       "20      0\n",
       "2       8\n",
       "17    198\n",
       "26      8\n",
       "16     11\n",
       "Name: num_trackers, dtype: int64"
      ]
     },
     "execution_count": 209,
     "metadata": {},
     "output_type": "execute_result"
    }
   ],
   "source": [
    "df_full[\"num_trackers\"]"
   ]
  },
  {
   "cell_type": "code",
   "execution_count": 217,
   "metadata": {},
   "outputs": [
    {
     "data": {
      "application/vnd.plotly.v1+json": {
       "config": {
        "plotlyServerURL": "https://plot.ly"
       },
       "data": [
        {
         "marker": {
          "color": [
           "#404040",
           "#404040",
           "#404040",
           "#404040",
           "#0D378A",
           "#118088",
           "#0066CC",
           "#adc1fd",
           "#ffc0c0",
           "#ffeb00",
           "#26c4ec",
           "#eeeeee",
           "#bb0000",
           "#eeeeee",
           "#eeeeee",
           "#DCDCDC",
           "#eeeeee",
           "#77ff77",
           "#ffd1dc",
           "#77ff77",
           "#77ff77",
           "#ffc0c0",
           "#ffc0c0",
           "#00c000",
           "#FF8080",
           "#bb0000",
           "#cc2443",
           "#bb0000",
           "#dd0000",
           "#bb0000"
          ]
         },
         "orientation": "h",
         "text": [
          18,
          144,
          22,
          30,
          73,
          0,
          25,
          5,
          77,
          81,
          28,
          66,
          0,
          0,
          23,
          1,
          25,
          355,
          151,
          3,
          135,
          176,
          63,
          29,
          0,
          0,
          8,
          198,
          8,
          11
         ],
         "textposition": "outside",
         "type": "bar",
         "x": [
          18,
          144,
          22,
          30,
          73,
          0,
          25,
          5,
          77,
          81,
          28,
          66,
          0,
          0,
          23,
          1,
          25,
          355,
          151,
          3,
          135,
          176,
          63,
          29,
          0,
          0,
          8,
          198,
          8,
          11
         ],
         "y": [
          "LIBERTÉ DÉMOCRATIQUE FRANÇAISE",
          "FRANCE LIBRE",
          "NON ! PRENONS-NOUS EN MAINS",
          "LA FRANCE FIERE, MENEE PAR MARION MARECHAL ET SOUTENUE PAR ÉRIC ZEMMOUR",
          "LA FRANCE REVIENT ! AVEC JORDAN BARDELLA ET MARINE LE PEN",
          "LISTE ASSELINEAU-FREXIT, POUR LE POUVOIR D'ACHAT ET POUR LA PAIX",
          "LA DROITE POUR FAIRE ENTENDRE LA VOIX DE LA FRANCE EN EUROPE",
          "POUR UNE AUTRE EUROPE",
          "NOUS LE PEUPLE",
          "BESOIN D'EUROPE",
          "ALLIANCE RURALE",
          "POUR UNE DEMOCRATIE REELLE : DECIDONS NOUS-MEMES !",
          "ESPERANTO LANGUE COMMUNE",
          "PARTI PIRATE",
          "PARTI ANIMALISTE - LES ANIMAUX COMPTENT, VOTRE VOIX AUSSI",
          "DEFENDRE LES ENFANTS",
          "LA RUCHE CITOYENNE",
          "ÉCOLOGIE AU CENTRE",
          "EUROPE TERRITOIRES ÉCOLOGIE",
          "ÉQUINOXE : ÉCOLOGIE PRATIQUE ET RENOUVEAU DÉMOCRATIQUE",
          "ECOLOGIE POSITIVE ET TERRITOIRES",
          "CHANGER L'EUROPE",
          "PACE - PARTI DES CITOYENS EUROPÉENS, POUR L'ARMÉE EUROPÉENNE, POUR L'EUROPE SOCIALE , POUR LA PLANÈTE !",
          "EUROPE ÉCOLOGIE",
          "RÉVEILLER L'EUROPE",
          "NON À L'UE ET À L'OTAN, COMMUNISTES POUR LA PAIX ET LE PROGRÈS SOCIAL",
          "LA FRANCE INSOUMISE - UNION POPULAIRE",
          "\"POUR LE PAIN, LA PAIX, LA LIBERTÉ !\" PRÉSENTÉE PAR LE PARTI DES TRAVAILLEURS",
          "GAUCHE UNIE POUR LE MONDE DU TRAVAIL SOUTENUE PAR FABIEN ROUSSEL",
          "POUR UN MONDE SANS FRONTIERES NI PATRONS, URGENCE REVOLUTION !"
         ]
        }
       ],
       "layout": {
        "height": 1000,
        "margin": {
         "t": 120
        },
        "plot_bgcolor": "white",
        "showlegend": false,
        "template": {
         "data": {
          "bar": [
           {
            "error_x": {
             "color": "#2a3f5f"
            },
            "error_y": {
             "color": "#2a3f5f"
            },
            "marker": {
             "line": {
              "color": "#E5ECF6",
              "width": 0.5
             },
             "pattern": {
              "fillmode": "overlay",
              "size": 10,
              "solidity": 0.2
             }
            },
            "type": "bar"
           }
          ],
          "barpolar": [
           {
            "marker": {
             "line": {
              "color": "#E5ECF6",
              "width": 0.5
             },
             "pattern": {
              "fillmode": "overlay",
              "size": 10,
              "solidity": 0.2
             }
            },
            "type": "barpolar"
           }
          ],
          "carpet": [
           {
            "aaxis": {
             "endlinecolor": "#2a3f5f",
             "gridcolor": "white",
             "linecolor": "white",
             "minorgridcolor": "white",
             "startlinecolor": "#2a3f5f"
            },
            "baxis": {
             "endlinecolor": "#2a3f5f",
             "gridcolor": "white",
             "linecolor": "white",
             "minorgridcolor": "white",
             "startlinecolor": "#2a3f5f"
            },
            "type": "carpet"
           }
          ],
          "choropleth": [
           {
            "colorbar": {
             "outlinewidth": 0,
             "ticks": ""
            },
            "type": "choropleth"
           }
          ],
          "contour": [
           {
            "colorbar": {
             "outlinewidth": 0,
             "ticks": ""
            },
            "colorscale": [
             [
              0,
              "#0d0887"
             ],
             [
              0.1111111111111111,
              "#46039f"
             ],
             [
              0.2222222222222222,
              "#7201a8"
             ],
             [
              0.3333333333333333,
              "#9c179e"
             ],
             [
              0.4444444444444444,
              "#bd3786"
             ],
             [
              0.5555555555555556,
              "#d8576b"
             ],
             [
              0.6666666666666666,
              "#ed7953"
             ],
             [
              0.7777777777777778,
              "#fb9f3a"
             ],
             [
              0.8888888888888888,
              "#fdca26"
             ],
             [
              1,
              "#f0f921"
             ]
            ],
            "type": "contour"
           }
          ],
          "contourcarpet": [
           {
            "colorbar": {
             "outlinewidth": 0,
             "ticks": ""
            },
            "type": "contourcarpet"
           }
          ],
          "heatmap": [
           {
            "colorbar": {
             "outlinewidth": 0,
             "ticks": ""
            },
            "colorscale": [
             [
              0,
              "#0d0887"
             ],
             [
              0.1111111111111111,
              "#46039f"
             ],
             [
              0.2222222222222222,
              "#7201a8"
             ],
             [
              0.3333333333333333,
              "#9c179e"
             ],
             [
              0.4444444444444444,
              "#bd3786"
             ],
             [
              0.5555555555555556,
              "#d8576b"
             ],
             [
              0.6666666666666666,
              "#ed7953"
             ],
             [
              0.7777777777777778,
              "#fb9f3a"
             ],
             [
              0.8888888888888888,
              "#fdca26"
             ],
             [
              1,
              "#f0f921"
             ]
            ],
            "type": "heatmap"
           }
          ],
          "heatmapgl": [
           {
            "colorbar": {
             "outlinewidth": 0,
             "ticks": ""
            },
            "colorscale": [
             [
              0,
              "#0d0887"
             ],
             [
              0.1111111111111111,
              "#46039f"
             ],
             [
              0.2222222222222222,
              "#7201a8"
             ],
             [
              0.3333333333333333,
              "#9c179e"
             ],
             [
              0.4444444444444444,
              "#bd3786"
             ],
             [
              0.5555555555555556,
              "#d8576b"
             ],
             [
              0.6666666666666666,
              "#ed7953"
             ],
             [
              0.7777777777777778,
              "#fb9f3a"
             ],
             [
              0.8888888888888888,
              "#fdca26"
             ],
             [
              1,
              "#f0f921"
             ]
            ],
            "type": "heatmapgl"
           }
          ],
          "histogram": [
           {
            "marker": {
             "pattern": {
              "fillmode": "overlay",
              "size": 10,
              "solidity": 0.2
             }
            },
            "type": "histogram"
           }
          ],
          "histogram2d": [
           {
            "colorbar": {
             "outlinewidth": 0,
             "ticks": ""
            },
            "colorscale": [
             [
              0,
              "#0d0887"
             ],
             [
              0.1111111111111111,
              "#46039f"
             ],
             [
              0.2222222222222222,
              "#7201a8"
             ],
             [
              0.3333333333333333,
              "#9c179e"
             ],
             [
              0.4444444444444444,
              "#bd3786"
             ],
             [
              0.5555555555555556,
              "#d8576b"
             ],
             [
              0.6666666666666666,
              "#ed7953"
             ],
             [
              0.7777777777777778,
              "#fb9f3a"
             ],
             [
              0.8888888888888888,
              "#fdca26"
             ],
             [
              1,
              "#f0f921"
             ]
            ],
            "type": "histogram2d"
           }
          ],
          "histogram2dcontour": [
           {
            "colorbar": {
             "outlinewidth": 0,
             "ticks": ""
            },
            "colorscale": [
             [
              0,
              "#0d0887"
             ],
             [
              0.1111111111111111,
              "#46039f"
             ],
             [
              0.2222222222222222,
              "#7201a8"
             ],
             [
              0.3333333333333333,
              "#9c179e"
             ],
             [
              0.4444444444444444,
              "#bd3786"
             ],
             [
              0.5555555555555556,
              "#d8576b"
             ],
             [
              0.6666666666666666,
              "#ed7953"
             ],
             [
              0.7777777777777778,
              "#fb9f3a"
             ],
             [
              0.8888888888888888,
              "#fdca26"
             ],
             [
              1,
              "#f0f921"
             ]
            ],
            "type": "histogram2dcontour"
           }
          ],
          "mesh3d": [
           {
            "colorbar": {
             "outlinewidth": 0,
             "ticks": ""
            },
            "type": "mesh3d"
           }
          ],
          "parcoords": [
           {
            "line": {
             "colorbar": {
              "outlinewidth": 0,
              "ticks": ""
             }
            },
            "type": "parcoords"
           }
          ],
          "pie": [
           {
            "automargin": true,
            "type": "pie"
           }
          ],
          "scatter": [
           {
            "fillpattern": {
             "fillmode": "overlay",
             "size": 10,
             "solidity": 0.2
            },
            "type": "scatter"
           }
          ],
          "scatter3d": [
           {
            "line": {
             "colorbar": {
              "outlinewidth": 0,
              "ticks": ""
             }
            },
            "marker": {
             "colorbar": {
              "outlinewidth": 0,
              "ticks": ""
             }
            },
            "type": "scatter3d"
           }
          ],
          "scattercarpet": [
           {
            "marker": {
             "colorbar": {
              "outlinewidth": 0,
              "ticks": ""
             }
            },
            "type": "scattercarpet"
           }
          ],
          "scattergeo": [
           {
            "marker": {
             "colorbar": {
              "outlinewidth": 0,
              "ticks": ""
             }
            },
            "type": "scattergeo"
           }
          ],
          "scattergl": [
           {
            "marker": {
             "colorbar": {
              "outlinewidth": 0,
              "ticks": ""
             }
            },
            "type": "scattergl"
           }
          ],
          "scattermapbox": [
           {
            "marker": {
             "colorbar": {
              "outlinewidth": 0,
              "ticks": ""
             }
            },
            "type": "scattermapbox"
           }
          ],
          "scatterpolar": [
           {
            "marker": {
             "colorbar": {
              "outlinewidth": 0,
              "ticks": ""
             }
            },
            "type": "scatterpolar"
           }
          ],
          "scatterpolargl": [
           {
            "marker": {
             "colorbar": {
              "outlinewidth": 0,
              "ticks": ""
             }
            },
            "type": "scatterpolargl"
           }
          ],
          "scatterternary": [
           {
            "marker": {
             "colorbar": {
              "outlinewidth": 0,
              "ticks": ""
             }
            },
            "type": "scatterternary"
           }
          ],
          "surface": [
           {
            "colorbar": {
             "outlinewidth": 0,
             "ticks": ""
            },
            "colorscale": [
             [
              0,
              "#0d0887"
             ],
             [
              0.1111111111111111,
              "#46039f"
             ],
             [
              0.2222222222222222,
              "#7201a8"
             ],
             [
              0.3333333333333333,
              "#9c179e"
             ],
             [
              0.4444444444444444,
              "#bd3786"
             ],
             [
              0.5555555555555556,
              "#d8576b"
             ],
             [
              0.6666666666666666,
              "#ed7953"
             ],
             [
              0.7777777777777778,
              "#fb9f3a"
             ],
             [
              0.8888888888888888,
              "#fdca26"
             ],
             [
              1,
              "#f0f921"
             ]
            ],
            "type": "surface"
           }
          ],
          "table": [
           {
            "cells": {
             "fill": {
              "color": "#EBF0F8"
             },
             "line": {
              "color": "white"
             }
            },
            "header": {
             "fill": {
              "color": "#C8D4E3"
             },
             "line": {
              "color": "white"
             }
            },
            "type": "table"
           }
          ]
         },
         "layout": {
          "annotationdefaults": {
           "arrowcolor": "#2a3f5f",
           "arrowhead": 0,
           "arrowwidth": 1
          },
          "autotypenumbers": "strict",
          "coloraxis": {
           "colorbar": {
            "outlinewidth": 0,
            "ticks": ""
           }
          },
          "colorscale": {
           "diverging": [
            [
             0,
             "#8e0152"
            ],
            [
             0.1,
             "#c51b7d"
            ],
            [
             0.2,
             "#de77ae"
            ],
            [
             0.3,
             "#f1b6da"
            ],
            [
             0.4,
             "#fde0ef"
            ],
            [
             0.5,
             "#f7f7f7"
            ],
            [
             0.6,
             "#e6f5d0"
            ],
            [
             0.7,
             "#b8e186"
            ],
            [
             0.8,
             "#7fbc41"
            ],
            [
             0.9,
             "#4d9221"
            ],
            [
             1,
             "#276419"
            ]
           ],
           "sequential": [
            [
             0,
             "#0d0887"
            ],
            [
             0.1111111111111111,
             "#46039f"
            ],
            [
             0.2222222222222222,
             "#7201a8"
            ],
            [
             0.3333333333333333,
             "#9c179e"
            ],
            [
             0.4444444444444444,
             "#bd3786"
            ],
            [
             0.5555555555555556,
             "#d8576b"
            ],
            [
             0.6666666666666666,
             "#ed7953"
            ],
            [
             0.7777777777777778,
             "#fb9f3a"
            ],
            [
             0.8888888888888888,
             "#fdca26"
            ],
            [
             1,
             "#f0f921"
            ]
           ],
           "sequentialminus": [
            [
             0,
             "#0d0887"
            ],
            [
             0.1111111111111111,
             "#46039f"
            ],
            [
             0.2222222222222222,
             "#7201a8"
            ],
            [
             0.3333333333333333,
             "#9c179e"
            ],
            [
             0.4444444444444444,
             "#bd3786"
            ],
            [
             0.5555555555555556,
             "#d8576b"
            ],
            [
             0.6666666666666666,
             "#ed7953"
            ],
            [
             0.7777777777777778,
             "#fb9f3a"
            ],
            [
             0.8888888888888888,
             "#fdca26"
            ],
            [
             1,
             "#f0f921"
            ]
           ]
          },
          "colorway": [
           "#636efa",
           "#EF553B",
           "#00cc96",
           "#ab63fa",
           "#FFA15A",
           "#19d3f3",
           "#FF6692",
           "#B6E880",
           "#FF97FF",
           "#FECB52"
          ],
          "font": {
           "color": "#2a3f5f"
          },
          "geo": {
           "bgcolor": "white",
           "lakecolor": "white",
           "landcolor": "#E5ECF6",
           "showlakes": true,
           "showland": true,
           "subunitcolor": "white"
          },
          "hoverlabel": {
           "align": "left"
          },
          "hovermode": "closest",
          "mapbox": {
           "style": "light"
          },
          "paper_bgcolor": "white",
          "plot_bgcolor": "#E5ECF6",
          "polar": {
           "angularaxis": {
            "gridcolor": "white",
            "linecolor": "white",
            "ticks": ""
           },
           "bgcolor": "#E5ECF6",
           "radialaxis": {
            "gridcolor": "white",
            "linecolor": "white",
            "ticks": ""
           }
          },
          "scene": {
           "xaxis": {
            "backgroundcolor": "#E5ECF6",
            "gridcolor": "white",
            "gridwidth": 2,
            "linecolor": "white",
            "showbackground": true,
            "ticks": "",
            "zerolinecolor": "white"
           },
           "yaxis": {
            "backgroundcolor": "#E5ECF6",
            "gridcolor": "white",
            "gridwidth": 2,
            "linecolor": "white",
            "showbackground": true,
            "ticks": "",
            "zerolinecolor": "white"
           },
           "zaxis": {
            "backgroundcolor": "#E5ECF6",
            "gridcolor": "white",
            "gridwidth": 2,
            "linecolor": "white",
            "showbackground": true,
            "ticks": "",
            "zerolinecolor": "white"
           }
          },
          "shapedefaults": {
           "line": {
            "color": "#2a3f5f"
           }
          },
          "ternary": {
           "aaxis": {
            "gridcolor": "white",
            "linecolor": "white",
            "ticks": ""
           },
           "baxis": {
            "gridcolor": "white",
            "linecolor": "white",
            "ticks": ""
           },
           "bgcolor": "#E5ECF6",
           "caxis": {
            "gridcolor": "white",
            "linecolor": "white",
            "ticks": ""
           }
          },
          "title": {
           "x": 0.05
          },
          "xaxis": {
           "automargin": true,
           "gridcolor": "white",
           "linecolor": "white",
           "ticks": "",
           "title": {
            "standoff": 15
           },
           "zerolinecolor": "white",
           "zerolinewidth": 2
          },
          "yaxis": {
           "automargin": true,
           "gridcolor": "white",
           "linecolor": "white",
           "ticks": "",
           "title": {
            "standoff": 15
           },
           "zerolinecolor": "white",
           "zerolinewidth": 2
          }
         }
        },
        "title": {
         "text": "Quelle liste a le site avec le plus de trackers ?"
        },
        "xaxis": {
         "gridcolor": "black",
         "griddash": "dot",
         "linecolor": "black",
         "linewidth": 1,
         "range": [
          0,
          390.50000000000006
         ],
         "showgrid": true,
         "title": {
          "text": "Nombre de trackers"
         }
        }
       }
      }
     },
     "metadata": {},
     "output_type": "display_data"
    }
   ],
   "source": [
    "traces = []\n",
    "trace = go.Bar(\n",
    "    y=df_full[\"nomListe\"],\n",
    "    x=df_full[\"num_trackers\"],\n",
    "    marker_color=df_full[\"color\"],\n",
    "    orientation=\"h\",\n",
    "    text=df_full[\"num_trackers\"],\n",
    "    textposition=\"outside\",\n",
    ")\n",
    "traces.append(trace)\n",
    "\n",
    "fig = go.Figure(traces)\n",
    "fig.update_layout(\n",
    "    showlegend=False,\n",
    "    plot_bgcolor=\"white\",\n",
    "    height=1000,\n",
    "    title=\"Quelle liste a le site avec le plus de trackers ?\",\n",
    "    margin_t=120,\n",
    ")\n",
    "fig.update_xaxes(\n",
    "    title=\"Nombre de trackers\",\n",
    "    showgrid=True,\n",
    "    gridcolor=\"black\",\n",
    "    griddash=\"dot\",\n",
    "    linewidth=1,\n",
    "    linecolor=\"black\",\n",
    "    range=[0, max(df_full[\"num_trackers\"]) * 1.1],\n",
    ")\n",
    "fig.show()"
   ]
  }
 ],
 "metadata": {
  "kernelspec": {
   "display_name": "europeennes",
   "language": "python",
   "name": "python3"
  },
  "language_info": {
   "codemirror_mode": {
    "name": "ipython",
    "version": 3
   },
   "file_extension": ".py",
   "mimetype": "text/x-python",
   "name": "python",
   "nbconvert_exporter": "python",
   "pygments_lexer": "ipython3",
   "version": "3.10.14"
  }
 },
 "nbformat": 4,
 "nbformat_minor": 2
}
