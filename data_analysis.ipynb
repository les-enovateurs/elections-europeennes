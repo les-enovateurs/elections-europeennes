{
 "cells": [
  {
   "cell_type": "code",
   "execution_count": 65,
   "metadata": {},
   "outputs": [],
   "source": [
    "import pandas as pd\n",
    "import plotly.graph_objects as go\n",
    "import plotly.express as px"
   ]
  },
  {
   "cell_type": "code",
   "execution_count": 66,
   "metadata": {},
   "outputs": [],
   "source": [
    "df = pd.read_csv(\"./data/raw/candidats-eur-2024.csv\", delimiter=\";\")"
   ]
  },
  {
   "cell_type": "code",
   "execution_count": 67,
   "metadata": {},
   "outputs": [
    {
     "data": {
      "text/html": [
       "<div>\n",
       "<style scoped>\n",
       "    .dataframe tbody tr th:only-of-type {\n",
       "        vertical-align: middle;\n",
       "    }\n",
       "\n",
       "    .dataframe tbody tr th {\n",
       "        vertical-align: top;\n",
       "    }\n",
       "\n",
       "    .dataframe thead th {\n",
       "        text-align: right;\n",
       "    }\n",
       "</style>\n",
       "<table border=\"1\" class=\"dataframe\">\n",
       "  <thead>\n",
       "    <tr style=\"text-align: right;\">\n",
       "      <th></th>\n",
       "      <th>Code circonscription</th>\n",
       "      <th>Circonscription</th>\n",
       "      <th>Numéro de panneau</th>\n",
       "      <th>Libellé de la liste</th>\n",
       "      <th>Tête de liste</th>\n",
       "      <th>Ordre</th>\n",
       "      <th>Sexe</th>\n",
       "      <th>Nom sur le bulletin de vote</th>\n",
       "      <th>Prénom sur le bulletin de vote</th>\n",
       "      <th>Date de naissance</th>\n",
       "      <th>Profession</th>\n",
       "      <th>Code personnalité</th>\n",
       "      <th>Sortant</th>\n",
       "    </tr>\n",
       "  </thead>\n",
       "  <tbody>\n",
       "    <tr>\n",
       "      <th>count</th>\n",
       "      <td>3078</td>\n",
       "      <td>3078</td>\n",
       "      <td>3078.000000</td>\n",
       "      <td>3078</td>\n",
       "      <td>38</td>\n",
       "      <td>3078.000000</td>\n",
       "      <td>3078</td>\n",
       "      <td>3078</td>\n",
       "      <td>3078</td>\n",
       "      <td>3078</td>\n",
       "      <td>3078</td>\n",
       "      <td>73</td>\n",
       "      <td>52</td>\n",
       "    </tr>\n",
       "    <tr>\n",
       "      <th>unique</th>\n",
       "      <td>1</td>\n",
       "      <td>1</td>\n",
       "      <td>NaN</td>\n",
       "      <td>38</td>\n",
       "      <td>1</td>\n",
       "      <td>NaN</td>\n",
       "      <td>2</td>\n",
       "      <td>2756</td>\n",
       "      <td>1068</td>\n",
       "      <td>2861</td>\n",
       "      <td>41</td>\n",
       "      <td>7</td>\n",
       "      <td>1</td>\n",
       "    </tr>\n",
       "    <tr>\n",
       "      <th>top</th>\n",
       "      <td>FE</td>\n",
       "      <td>France entière</td>\n",
       "      <td>NaN</td>\n",
       "      <td>POUR UNE HUMANITE SOUVERAINE</td>\n",
       "      <td>OUI</td>\n",
       "      <td>NaN</td>\n",
       "      <td>M</td>\n",
       "      <td>MARTIN</td>\n",
       "      <td>Pierre</td>\n",
       "      <td>10/02/1989</td>\n",
       "      <td>(33) - Cadre de la fonction publique</td>\n",
       "      <td>RPE</td>\n",
       "      <td>OUI</td>\n",
       "    </tr>\n",
       "    <tr>\n",
       "      <th>freq</th>\n",
       "      <td>3078</td>\n",
       "      <td>3078</td>\n",
       "      <td>NaN</td>\n",
       "      <td>81</td>\n",
       "      <td>38</td>\n",
       "      <td>NaN</td>\n",
       "      <td>1546</td>\n",
       "      <td>9</td>\n",
       "      <td>35</td>\n",
       "      <td>3</td>\n",
       "      <td>247</td>\n",
       "      <td>52</td>\n",
       "      <td>52</td>\n",
       "    </tr>\n",
       "    <tr>\n",
       "      <th>mean</th>\n",
       "      <td>NaN</td>\n",
       "      <td>NaN</td>\n",
       "      <td>19.500000</td>\n",
       "      <td>NaN</td>\n",
       "      <td>NaN</td>\n",
       "      <td>41.000000</td>\n",
       "      <td>NaN</td>\n",
       "      <td>NaN</td>\n",
       "      <td>NaN</td>\n",
       "      <td>NaN</td>\n",
       "      <td>NaN</td>\n",
       "      <td>NaN</td>\n",
       "      <td>NaN</td>\n",
       "    </tr>\n",
       "    <tr>\n",
       "      <th>std</th>\n",
       "      <td>NaN</td>\n",
       "      <td>NaN</td>\n",
       "      <td>10.967638</td>\n",
       "      <td>NaN</td>\n",
       "      <td>NaN</td>\n",
       "      <td>23.384703</td>\n",
       "      <td>NaN</td>\n",
       "      <td>NaN</td>\n",
       "      <td>NaN</td>\n",
       "      <td>NaN</td>\n",
       "      <td>NaN</td>\n",
       "      <td>NaN</td>\n",
       "      <td>NaN</td>\n",
       "    </tr>\n",
       "    <tr>\n",
       "      <th>min</th>\n",
       "      <td>NaN</td>\n",
       "      <td>NaN</td>\n",
       "      <td>1.000000</td>\n",
       "      <td>NaN</td>\n",
       "      <td>NaN</td>\n",
       "      <td>1.000000</td>\n",
       "      <td>NaN</td>\n",
       "      <td>NaN</td>\n",
       "      <td>NaN</td>\n",
       "      <td>NaN</td>\n",
       "      <td>NaN</td>\n",
       "      <td>NaN</td>\n",
       "      <td>NaN</td>\n",
       "    </tr>\n",
       "    <tr>\n",
       "      <th>25%</th>\n",
       "      <td>NaN</td>\n",
       "      <td>NaN</td>\n",
       "      <td>10.000000</td>\n",
       "      <td>NaN</td>\n",
       "      <td>NaN</td>\n",
       "      <td>21.000000</td>\n",
       "      <td>NaN</td>\n",
       "      <td>NaN</td>\n",
       "      <td>NaN</td>\n",
       "      <td>NaN</td>\n",
       "      <td>NaN</td>\n",
       "      <td>NaN</td>\n",
       "      <td>NaN</td>\n",
       "    </tr>\n",
       "    <tr>\n",
       "      <th>50%</th>\n",
       "      <td>NaN</td>\n",
       "      <td>NaN</td>\n",
       "      <td>19.500000</td>\n",
       "      <td>NaN</td>\n",
       "      <td>NaN</td>\n",
       "      <td>41.000000</td>\n",
       "      <td>NaN</td>\n",
       "      <td>NaN</td>\n",
       "      <td>NaN</td>\n",
       "      <td>NaN</td>\n",
       "      <td>NaN</td>\n",
       "      <td>NaN</td>\n",
       "      <td>NaN</td>\n",
       "    </tr>\n",
       "    <tr>\n",
       "      <th>75%</th>\n",
       "      <td>NaN</td>\n",
       "      <td>NaN</td>\n",
       "      <td>29.000000</td>\n",
       "      <td>NaN</td>\n",
       "      <td>NaN</td>\n",
       "      <td>61.000000</td>\n",
       "      <td>NaN</td>\n",
       "      <td>NaN</td>\n",
       "      <td>NaN</td>\n",
       "      <td>NaN</td>\n",
       "      <td>NaN</td>\n",
       "      <td>NaN</td>\n",
       "      <td>NaN</td>\n",
       "    </tr>\n",
       "    <tr>\n",
       "      <th>max</th>\n",
       "      <td>NaN</td>\n",
       "      <td>NaN</td>\n",
       "      <td>38.000000</td>\n",
       "      <td>NaN</td>\n",
       "      <td>NaN</td>\n",
       "      <td>81.000000</td>\n",
       "      <td>NaN</td>\n",
       "      <td>NaN</td>\n",
       "      <td>NaN</td>\n",
       "      <td>NaN</td>\n",
       "      <td>NaN</td>\n",
       "      <td>NaN</td>\n",
       "      <td>NaN</td>\n",
       "    </tr>\n",
       "  </tbody>\n",
       "</table>\n",
       "</div>"
      ],
      "text/plain": [
       "       Code circonscription Circonscription  Numéro de panneau  \\\n",
       "count                  3078            3078        3078.000000   \n",
       "unique                    1               1                NaN   \n",
       "top                      FE  France entière                NaN   \n",
       "freq                   3078            3078                NaN   \n",
       "mean                    NaN             NaN          19.500000   \n",
       "std                     NaN             NaN          10.967638   \n",
       "min                     NaN             NaN           1.000000   \n",
       "25%                     NaN             NaN          10.000000   \n",
       "50%                     NaN             NaN          19.500000   \n",
       "75%                     NaN             NaN          29.000000   \n",
       "max                     NaN             NaN          38.000000   \n",
       "\n",
       "                 Libellé de la liste Tête de liste        Ordre  Sexe  \\\n",
       "count                           3078            38  3078.000000  3078   \n",
       "unique                            38             1          NaN     2   \n",
       "top     POUR UNE HUMANITE SOUVERAINE           OUI          NaN     M   \n",
       "freq                              81            38          NaN  1546   \n",
       "mean                             NaN           NaN    41.000000   NaN   \n",
       "std                              NaN           NaN    23.384703   NaN   \n",
       "min                              NaN           NaN     1.000000   NaN   \n",
       "25%                              NaN           NaN    21.000000   NaN   \n",
       "50%                              NaN           NaN    41.000000   NaN   \n",
       "75%                              NaN           NaN    61.000000   NaN   \n",
       "max                              NaN           NaN    81.000000   NaN   \n",
       "\n",
       "       Nom sur le bulletin de vote Prénom sur le bulletin de vote  \\\n",
       "count                         3078                           3078   \n",
       "unique                        2756                           1068   \n",
       "top                         MARTIN                         Pierre   \n",
       "freq                             9                             35   \n",
       "mean                           NaN                            NaN   \n",
       "std                            NaN                            NaN   \n",
       "min                            NaN                            NaN   \n",
       "25%                            NaN                            NaN   \n",
       "50%                            NaN                            NaN   \n",
       "75%                            NaN                            NaN   \n",
       "max                            NaN                            NaN   \n",
       "\n",
       "       Date de naissance                            Profession  \\\n",
       "count               3078                                  3078   \n",
       "unique              2861                                    41   \n",
       "top           10/02/1989  (33) - Cadre de la fonction publique   \n",
       "freq                   3                                   247   \n",
       "mean                 NaN                                   NaN   \n",
       "std                  NaN                                   NaN   \n",
       "min                  NaN                                   NaN   \n",
       "25%                  NaN                                   NaN   \n",
       "50%                  NaN                                   NaN   \n",
       "75%                  NaN                                   NaN   \n",
       "max                  NaN                                   NaN   \n",
       "\n",
       "       Code personnalité Sortant  \n",
       "count                 73      52  \n",
       "unique                 7       1  \n",
       "top                  RPE     OUI  \n",
       "freq                  52      52  \n",
       "mean                 NaN     NaN  \n",
       "std                  NaN     NaN  \n",
       "min                  NaN     NaN  \n",
       "25%                  NaN     NaN  \n",
       "50%                  NaN     NaN  \n",
       "75%                  NaN     NaN  \n",
       "max                  NaN     NaN  "
      ]
     },
     "execution_count": 67,
     "metadata": {},
     "output_type": "execute_result"
    }
   ],
   "source": [
    "df.describe(include=\"all\")"
   ]
  },
  {
   "cell_type": "code",
   "execution_count": 68,
   "metadata": {},
   "outputs": [
    {
     "data": {
      "text/html": [
       "<div>\n",
       "<style scoped>\n",
       "    .dataframe tbody tr th:only-of-type {\n",
       "        vertical-align: middle;\n",
       "    }\n",
       "\n",
       "    .dataframe tbody tr th {\n",
       "        vertical-align: top;\n",
       "    }\n",
       "\n",
       "    .dataframe thead th {\n",
       "        text-align: right;\n",
       "    }\n",
       "</style>\n",
       "<table border=\"1\" class=\"dataframe\">\n",
       "  <thead>\n",
       "    <tr style=\"text-align: right;\">\n",
       "      <th></th>\n",
       "      <th>Code circonscription</th>\n",
       "      <th>Circonscription</th>\n",
       "      <th>Numéro de panneau</th>\n",
       "      <th>Libellé de la liste</th>\n",
       "      <th>Tête de liste</th>\n",
       "      <th>Ordre</th>\n",
       "      <th>Sexe</th>\n",
       "      <th>Nom sur le bulletin de vote</th>\n",
       "      <th>Prénom sur le bulletin de vote</th>\n",
       "      <th>Date de naissance</th>\n",
       "      <th>Profession</th>\n",
       "      <th>Code personnalité</th>\n",
       "      <th>Sortant</th>\n",
       "    </tr>\n",
       "  </thead>\n",
       "  <tbody>\n",
       "    <tr>\n",
       "      <th>0</th>\n",
       "      <td>FE</td>\n",
       "      <td>France entière</td>\n",
       "      <td>1</td>\n",
       "      <td>POUR UNE HUMANITE SOUVERAINE</td>\n",
       "      <td>OUI</td>\n",
       "      <td>1</td>\n",
       "      <td>M</td>\n",
       "      <td>DEHER-LESAINT</td>\n",
       "      <td>Léopold-Edouard</td>\n",
       "      <td>16/10/1947</td>\n",
       "      <td>(35) - Profession de l'information, des arts e...</td>\n",
       "      <td>NaN</td>\n",
       "      <td>NaN</td>\n",
       "    </tr>\n",
       "    <tr>\n",
       "      <th>1</th>\n",
       "      <td>FE</td>\n",
       "      <td>France entière</td>\n",
       "      <td>1</td>\n",
       "      <td>POUR UNE HUMANITE SOUVERAINE</td>\n",
       "      <td>NaN</td>\n",
       "      <td>2</td>\n",
       "      <td>F</td>\n",
       "      <td>BOULOGNE</td>\n",
       "      <td>Sandra</td>\n",
       "      <td>22/06/1976</td>\n",
       "      <td>(22) - Commerçant et assimilé</td>\n",
       "      <td>NaN</td>\n",
       "      <td>NaN</td>\n",
       "    </tr>\n",
       "    <tr>\n",
       "      <th>2</th>\n",
       "      <td>FE</td>\n",
       "      <td>France entière</td>\n",
       "      <td>1</td>\n",
       "      <td>POUR UNE HUMANITE SOUVERAINE</td>\n",
       "      <td>NaN</td>\n",
       "      <td>3</td>\n",
       "      <td>M</td>\n",
       "      <td>AJ</td>\n",
       "      <td>Rodrigue</td>\n",
       "      <td>23/05/1981</td>\n",
       "      <td>(47) - Technicien</td>\n",
       "      <td>NaN</td>\n",
       "      <td>NaN</td>\n",
       "    </tr>\n",
       "    <tr>\n",
       "      <th>3</th>\n",
       "      <td>FE</td>\n",
       "      <td>France entière</td>\n",
       "      <td>1</td>\n",
       "      <td>POUR UNE HUMANITE SOUVERAINE</td>\n",
       "      <td>NaN</td>\n",
       "      <td>4</td>\n",
       "      <td>F</td>\n",
       "      <td>JOBY</td>\n",
       "      <td>Valente</td>\n",
       "      <td>20/07/1939</td>\n",
       "      <td>(75) - Ancienne profession intermédiaire</td>\n",
       "      <td>NaN</td>\n",
       "      <td>NaN</td>\n",
       "    </tr>\n",
       "    <tr>\n",
       "      <th>4</th>\n",
       "      <td>FE</td>\n",
       "      <td>France entière</td>\n",
       "      <td>1</td>\n",
       "      <td>POUR UNE HUMANITE SOUVERAINE</td>\n",
       "      <td>NaN</td>\n",
       "      <td>5</td>\n",
       "      <td>M</td>\n",
       "      <td>MAYOUTE</td>\n",
       "      <td>Richard</td>\n",
       "      <td>21/12/1966</td>\n",
       "      <td>(22) - Commerçant et assimilé</td>\n",
       "      <td>NaN</td>\n",
       "      <td>NaN</td>\n",
       "    </tr>\n",
       "  </tbody>\n",
       "</table>\n",
       "</div>"
      ],
      "text/plain": [
       "  Code circonscription Circonscription  Numéro de panneau  \\\n",
       "0                   FE  France entière                  1   \n",
       "1                   FE  France entière                  1   \n",
       "2                   FE  France entière                  1   \n",
       "3                   FE  France entière                  1   \n",
       "4                   FE  France entière                  1   \n",
       "\n",
       "            Libellé de la liste Tête de liste  Ordre Sexe  \\\n",
       "0  POUR UNE HUMANITE SOUVERAINE           OUI      1    M   \n",
       "1  POUR UNE HUMANITE SOUVERAINE           NaN      2    F   \n",
       "2  POUR UNE HUMANITE SOUVERAINE           NaN      3    M   \n",
       "3  POUR UNE HUMANITE SOUVERAINE           NaN      4    F   \n",
       "4  POUR UNE HUMANITE SOUVERAINE           NaN      5    M   \n",
       "\n",
       "  Nom sur le bulletin de vote Prénom sur le bulletin de vote  \\\n",
       "0               DEHER-LESAINT                Léopold-Edouard   \n",
       "1                    BOULOGNE                         Sandra   \n",
       "2                          AJ                       Rodrigue   \n",
       "3                        JOBY                        Valente   \n",
       "4                     MAYOUTE                        Richard   \n",
       "\n",
       "  Date de naissance                                         Profession  \\\n",
       "0        16/10/1947  (35) - Profession de l'information, des arts e...   \n",
       "1        22/06/1976                      (22) - Commerçant et assimilé   \n",
       "2        23/05/1981                                  (47) - Technicien   \n",
       "3        20/07/1939           (75) - Ancienne profession intermédiaire   \n",
       "4        21/12/1966                      (22) - Commerçant et assimilé   \n",
       "\n",
       "  Code personnalité Sortant  \n",
       "0               NaN     NaN  \n",
       "1               NaN     NaN  \n",
       "2               NaN     NaN  \n",
       "3               NaN     NaN  \n",
       "4               NaN     NaN  "
      ]
     },
     "execution_count": 68,
     "metadata": {},
     "output_type": "execute_result"
    }
   ],
   "source": [
    "df.head()"
   ]
  },
  {
   "cell_type": "code",
   "execution_count": 69,
   "metadata": {},
   "outputs": [],
   "source": [
    "df_sex_by_list = df.groupby([\"Libellé de la liste\"])[\"Sexe\"].value_counts(\n",
    "    normalize=True\n",
    ")"
   ]
  },
  {
   "cell_type": "code",
   "execution_count": 70,
   "metadata": {},
   "outputs": [
    {
     "data": {
      "text/plain": [
       "Libellé de la liste                                                            Sexe\n",
       "\"POUR LE PAIN, LA PAIX, LA LIBERTÉ !\" PRÉSENTÉE PAR LE PARTI DES TRAVAILLEURS  F       0.506173\n",
       "                                                                               M       0.493827\n",
       "ALLIANCE RURALE                                                                M       0.506173\n",
       "                                                                               F       0.493827\n",
       "BESOIN D'EUROPE                                                                F       0.506173\n",
       "                                                                                         ...   \n",
       "RÉVEILLER L'EUROPE                                                             F       0.493827\n",
       "ÉCOLOGIE AU CENTRE                                                             M       0.506173\n",
       "                                                                               F       0.493827\n",
       "ÉQUINOXE : ÉCOLOGIE PRATIQUE ET RENOUVEAU DÉMOCRATIQUE                         F       0.506173\n",
       "                                                                               M       0.493827\n",
       "Name: proportion, Length: 76, dtype: float64"
      ]
     },
     "execution_count": 70,
     "metadata": {},
     "output_type": "execute_result"
    }
   ],
   "source": [
    "df_sex_by_list"
   ]
  },
  {
   "cell_type": "code",
   "execution_count": 71,
   "metadata": {},
   "outputs": [
    {
     "data": {
      "application/vnd.plotly.v1+json": {
       "config": {
        "plotlyServerURL": "https://plot.ly"
       },
       "data": [
        {
         "marker": {
          "color": "#ee5a45"
         },
         "name": "Masculin",
         "orientation": "h",
         "type": "bar",
         "x": [
          49.382716049382715,
          50.617283950617285,
          49.382716049382715,
          50.617283950617285,
          50.617283950617285,
          50.617283950617285,
          50.617283950617285,
          49.382716049382715,
          50.617283950617285,
          49.382716049382715,
          50.617283950617285,
          50.617283950617285,
          50.617283950617285,
          50.617283950617285,
          50.617283950617285,
          50.617283950617285,
          49.382716049382715,
          49.382716049382715,
          50.617283950617285,
          49.382716049382715,
          50.617283950617285,
          50.617283950617285,
          49.382716049382715,
          50.617283950617285,
          50.617283950617285,
          50.617283950617285,
          50.617283950617285,
          50.617283950617285,
          49.382716049382715,
          49.382716049382715,
          50.617283950617285,
          49.382716049382715,
          50.617283950617285,
          50.617283950617285,
          50.617283950617285,
          50.617283950617285,
          50.617283950617285,
          49.382716049382715
         ],
         "y": [
          "\"POUR LE PAIN, LA PAIX, LA LIBERTÉ !\" PRÉSENTÉE PAR LE PARTI DES TRAVAILLEURS",
          "ALLIANCE RURALE",
          "BESOIN D'EUROPE",
          "CHANGER L'EUROPE",
          "DEFENDRE LES ENFANTS",
          "DEMOCRATIE REPRESENTATIVE",
          "ECOLOGIE POSITIVE ET TERRITOIRES",
          "ESPERANTO LANGUE COMMUNE",
          "EUROPE TERRITOIRES ÉCOLOGIE",
          "EUROPE ÉCOLOGIE",
          "FORTERESSE EUROPE - LISTE D'UNITE NATIONALISTE",
          "FRANCE LIBRE",
          "FREE PALESTINE",
          "GAUCHE UNIE POUR LE MONDE DU TRAVAIL SOUTENUE PAR FABIEN ROUSSEL",
          "L'EUROPE CA SUFFIT !",
          "LA DROITE POUR FAIRE ENTENDRE LA VOIX DE LA FRANCE EN EUROPE",
          "LA FRANCE FIERE, MENEE PAR MARION MARECHAL ET SOUTENUE PAR ÉRIC ZEMMOUR",
          "LA FRANCE INSOUMISE - UNION POPULAIRE",
          "LA FRANCE REVIENT ! AVEC JORDAN BARDELLA ET MARINE LE PEN",
          "LA RUCHE CITOYENNE",
          "LIBERTÉ DÉMOCRATIQUE FRANÇAISE",
          "LISTE ASSELINEAU-FREXIT, POUR LE POUVOIR D'ACHAT ET POUR LA PAIX",
          "LUTTE OUVRIERE - LE CAMP DES TRAVAILLEURS",
          "NON ! PRENONS-NOUS EN MAINS",
          "NON À L'UE ET À L'OTAN, COMMUNISTES POUR LA PAIX ET LE PROGRÈS SOCIAL",
          "NOUS LE PEUPLE",
          "PACE - PARTI DES CITOYENS EUROPÉENS, POUR L'ARMÉE EUROPÉENNE, POUR L'EUROPE SOCIALE , POUR LA PLANÈTE !",
          "PAIX ET DECROISSANCE",
          "PARTI ANIMALISTE - LES ANIMAUX COMPTENT, VOTRE VOIX AUSSI",
          "PARTI PIRATE",
          "PARTI REVOLUTIONNAIRE COMMUNISTES",
          "POUR UN MONDE SANS FRONTIERES NI PATRONS, URGENCE REVOLUTION !",
          "POUR UNE AUTRE EUROPE",
          "POUR UNE DEMOCRATIE REELLE : DECIDONS NOUS-MEMES !",
          "POUR UNE HUMANITE SOUVERAINE",
          "RÉVEILLER L'EUROPE",
          "ÉCOLOGIE AU CENTRE",
          "ÉQUINOXE : ÉCOLOGIE PRATIQUE ET RENOUVEAU DÉMOCRATIQUE"
         ]
        },
        {
         "marker": {
          "color": "#1e8f89"
         },
         "name": "Féminin",
         "orientation": "h",
         "type": "bar",
         "x": [
          50.617283950617285,
          49.382716049382715,
          50.617283950617285,
          49.382716049382715,
          49.382716049382715,
          49.382716049382715,
          49.382716049382715,
          50.617283950617285,
          49.382716049382715,
          50.617283950617285,
          49.382716049382715,
          49.382716049382715,
          49.382716049382715,
          49.382716049382715,
          49.382716049382715,
          49.382716049382715,
          50.617283950617285,
          50.617283950617285,
          49.382716049382715,
          50.617283950617285,
          49.382716049382715,
          49.382716049382715,
          50.617283950617285,
          49.382716049382715,
          49.382716049382715,
          49.382716049382715,
          49.382716049382715,
          49.382716049382715,
          50.617283950617285,
          50.617283950617285,
          49.382716049382715,
          50.617283950617285,
          49.382716049382715,
          49.382716049382715,
          49.382716049382715,
          49.382716049382715,
          49.382716049382715,
          50.617283950617285
         ],
         "y": [
          "\"POUR LE PAIN, LA PAIX, LA LIBERTÉ !\" PRÉSENTÉE PAR LE PARTI DES TRAVAILLEURS",
          "ALLIANCE RURALE",
          "BESOIN D'EUROPE",
          "CHANGER L'EUROPE",
          "DEFENDRE LES ENFANTS",
          "DEMOCRATIE REPRESENTATIVE",
          "ECOLOGIE POSITIVE ET TERRITOIRES",
          "ESPERANTO LANGUE COMMUNE",
          "EUROPE TERRITOIRES ÉCOLOGIE",
          "EUROPE ÉCOLOGIE",
          "FORTERESSE EUROPE - LISTE D'UNITE NATIONALISTE",
          "FRANCE LIBRE",
          "FREE PALESTINE",
          "GAUCHE UNIE POUR LE MONDE DU TRAVAIL SOUTENUE PAR FABIEN ROUSSEL",
          "L'EUROPE CA SUFFIT !",
          "LA DROITE POUR FAIRE ENTENDRE LA VOIX DE LA FRANCE EN EUROPE",
          "LA FRANCE FIERE, MENEE PAR MARION MARECHAL ET SOUTENUE PAR ÉRIC ZEMMOUR",
          "LA FRANCE INSOUMISE - UNION POPULAIRE",
          "LA FRANCE REVIENT ! AVEC JORDAN BARDELLA ET MARINE LE PEN",
          "LA RUCHE CITOYENNE",
          "LIBERTÉ DÉMOCRATIQUE FRANÇAISE",
          "LISTE ASSELINEAU-FREXIT, POUR LE POUVOIR D'ACHAT ET POUR LA PAIX",
          "LUTTE OUVRIERE - LE CAMP DES TRAVAILLEURS",
          "NON ! PRENONS-NOUS EN MAINS",
          "NON À L'UE ET À L'OTAN, COMMUNISTES POUR LA PAIX ET LE PROGRÈS SOCIAL",
          "NOUS LE PEUPLE",
          "PACE - PARTI DES CITOYENS EUROPÉENS, POUR L'ARMÉE EUROPÉENNE, POUR L'EUROPE SOCIALE , POUR LA PLANÈTE !",
          "PAIX ET DECROISSANCE",
          "PARTI ANIMALISTE - LES ANIMAUX COMPTENT, VOTRE VOIX AUSSI",
          "PARTI PIRATE",
          "PARTI REVOLUTIONNAIRE COMMUNISTES",
          "POUR UN MONDE SANS FRONTIERES NI PATRONS, URGENCE REVOLUTION !",
          "POUR UNE AUTRE EUROPE",
          "POUR UNE DEMOCRATIE REELLE : DECIDONS NOUS-MEMES !",
          "POUR UNE HUMANITE SOUVERAINE",
          "RÉVEILLER L'EUROPE",
          "ÉCOLOGIE AU CENTRE",
          "ÉQUINOXE : ÉCOLOGIE PRATIQUE ET RENOUVEAU DÉMOCRATIQUE"
         ]
        }
       ],
       "layout": {
        "annotations": [
         {
          "showarrow": false,
          "text": "50%",
          "x": 50,
          "xanchor": "center",
          "xref": "x",
          "y": 1,
          "yanchor": "bottom",
          "yref": "y domain"
         }
        ],
        "barmode": "stack",
        "height": 1000,
        "plot_bgcolor": "white",
        "shapes": [
         {
          "type": "line",
          "x0": 50,
          "x1": 50,
          "xref": "x",
          "y0": 0,
          "y1": 1,
          "yref": "y domain"
         }
        ],
        "template": {
         "data": {
          "bar": [
           {
            "error_x": {
             "color": "#2a3f5f"
            },
            "error_y": {
             "color": "#2a3f5f"
            },
            "marker": {
             "line": {
              "color": "#E5ECF6",
              "width": 0.5
             },
             "pattern": {
              "fillmode": "overlay",
              "size": 10,
              "solidity": 0.2
             }
            },
            "type": "bar"
           }
          ],
          "barpolar": [
           {
            "marker": {
             "line": {
              "color": "#E5ECF6",
              "width": 0.5
             },
             "pattern": {
              "fillmode": "overlay",
              "size": 10,
              "solidity": 0.2
             }
            },
            "type": "barpolar"
           }
          ],
          "carpet": [
           {
            "aaxis": {
             "endlinecolor": "#2a3f5f",
             "gridcolor": "white",
             "linecolor": "white",
             "minorgridcolor": "white",
             "startlinecolor": "#2a3f5f"
            },
            "baxis": {
             "endlinecolor": "#2a3f5f",
             "gridcolor": "white",
             "linecolor": "white",
             "minorgridcolor": "white",
             "startlinecolor": "#2a3f5f"
            },
            "type": "carpet"
           }
          ],
          "choropleth": [
           {
            "colorbar": {
             "outlinewidth": 0,
             "ticks": ""
            },
            "type": "choropleth"
           }
          ],
          "contour": [
           {
            "colorbar": {
             "outlinewidth": 0,
             "ticks": ""
            },
            "colorscale": [
             [
              0,
              "#0d0887"
             ],
             [
              0.1111111111111111,
              "#46039f"
             ],
             [
              0.2222222222222222,
              "#7201a8"
             ],
             [
              0.3333333333333333,
              "#9c179e"
             ],
             [
              0.4444444444444444,
              "#bd3786"
             ],
             [
              0.5555555555555556,
              "#d8576b"
             ],
             [
              0.6666666666666666,
              "#ed7953"
             ],
             [
              0.7777777777777778,
              "#fb9f3a"
             ],
             [
              0.8888888888888888,
              "#fdca26"
             ],
             [
              1,
              "#f0f921"
             ]
            ],
            "type": "contour"
           }
          ],
          "contourcarpet": [
           {
            "colorbar": {
             "outlinewidth": 0,
             "ticks": ""
            },
            "type": "contourcarpet"
           }
          ],
          "heatmap": [
           {
            "colorbar": {
             "outlinewidth": 0,
             "ticks": ""
            },
            "colorscale": [
             [
              0,
              "#0d0887"
             ],
             [
              0.1111111111111111,
              "#46039f"
             ],
             [
              0.2222222222222222,
              "#7201a8"
             ],
             [
              0.3333333333333333,
              "#9c179e"
             ],
             [
              0.4444444444444444,
              "#bd3786"
             ],
             [
              0.5555555555555556,
              "#d8576b"
             ],
             [
              0.6666666666666666,
              "#ed7953"
             ],
             [
              0.7777777777777778,
              "#fb9f3a"
             ],
             [
              0.8888888888888888,
              "#fdca26"
             ],
             [
              1,
              "#f0f921"
             ]
            ],
            "type": "heatmap"
           }
          ],
          "heatmapgl": [
           {
            "colorbar": {
             "outlinewidth": 0,
             "ticks": ""
            },
            "colorscale": [
             [
              0,
              "#0d0887"
             ],
             [
              0.1111111111111111,
              "#46039f"
             ],
             [
              0.2222222222222222,
              "#7201a8"
             ],
             [
              0.3333333333333333,
              "#9c179e"
             ],
             [
              0.4444444444444444,
              "#bd3786"
             ],
             [
              0.5555555555555556,
              "#d8576b"
             ],
             [
              0.6666666666666666,
              "#ed7953"
             ],
             [
              0.7777777777777778,
              "#fb9f3a"
             ],
             [
              0.8888888888888888,
              "#fdca26"
             ],
             [
              1,
              "#f0f921"
             ]
            ],
            "type": "heatmapgl"
           }
          ],
          "histogram": [
           {
            "marker": {
             "pattern": {
              "fillmode": "overlay",
              "size": 10,
              "solidity": 0.2
             }
            },
            "type": "histogram"
           }
          ],
          "histogram2d": [
           {
            "colorbar": {
             "outlinewidth": 0,
             "ticks": ""
            },
            "colorscale": [
             [
              0,
              "#0d0887"
             ],
             [
              0.1111111111111111,
              "#46039f"
             ],
             [
              0.2222222222222222,
              "#7201a8"
             ],
             [
              0.3333333333333333,
              "#9c179e"
             ],
             [
              0.4444444444444444,
              "#bd3786"
             ],
             [
              0.5555555555555556,
              "#d8576b"
             ],
             [
              0.6666666666666666,
              "#ed7953"
             ],
             [
              0.7777777777777778,
              "#fb9f3a"
             ],
             [
              0.8888888888888888,
              "#fdca26"
             ],
             [
              1,
              "#f0f921"
             ]
            ],
            "type": "histogram2d"
           }
          ],
          "histogram2dcontour": [
           {
            "colorbar": {
             "outlinewidth": 0,
             "ticks": ""
            },
            "colorscale": [
             [
              0,
              "#0d0887"
             ],
             [
              0.1111111111111111,
              "#46039f"
             ],
             [
              0.2222222222222222,
              "#7201a8"
             ],
             [
              0.3333333333333333,
              "#9c179e"
             ],
             [
              0.4444444444444444,
              "#bd3786"
             ],
             [
              0.5555555555555556,
              "#d8576b"
             ],
             [
              0.6666666666666666,
              "#ed7953"
             ],
             [
              0.7777777777777778,
              "#fb9f3a"
             ],
             [
              0.8888888888888888,
              "#fdca26"
             ],
             [
              1,
              "#f0f921"
             ]
            ],
            "type": "histogram2dcontour"
           }
          ],
          "mesh3d": [
           {
            "colorbar": {
             "outlinewidth": 0,
             "ticks": ""
            },
            "type": "mesh3d"
           }
          ],
          "parcoords": [
           {
            "line": {
             "colorbar": {
              "outlinewidth": 0,
              "ticks": ""
             }
            },
            "type": "parcoords"
           }
          ],
          "pie": [
           {
            "automargin": true,
            "type": "pie"
           }
          ],
          "scatter": [
           {
            "fillpattern": {
             "fillmode": "overlay",
             "size": 10,
             "solidity": 0.2
            },
            "type": "scatter"
           }
          ],
          "scatter3d": [
           {
            "line": {
             "colorbar": {
              "outlinewidth": 0,
              "ticks": ""
             }
            },
            "marker": {
             "colorbar": {
              "outlinewidth": 0,
              "ticks": ""
             }
            },
            "type": "scatter3d"
           }
          ],
          "scattercarpet": [
           {
            "marker": {
             "colorbar": {
              "outlinewidth": 0,
              "ticks": ""
             }
            },
            "type": "scattercarpet"
           }
          ],
          "scattergeo": [
           {
            "marker": {
             "colorbar": {
              "outlinewidth": 0,
              "ticks": ""
             }
            },
            "type": "scattergeo"
           }
          ],
          "scattergl": [
           {
            "marker": {
             "colorbar": {
              "outlinewidth": 0,
              "ticks": ""
             }
            },
            "type": "scattergl"
           }
          ],
          "scattermapbox": [
           {
            "marker": {
             "colorbar": {
              "outlinewidth": 0,
              "ticks": ""
             }
            },
            "type": "scattermapbox"
           }
          ],
          "scatterpolar": [
           {
            "marker": {
             "colorbar": {
              "outlinewidth": 0,
              "ticks": ""
             }
            },
            "type": "scatterpolar"
           }
          ],
          "scatterpolargl": [
           {
            "marker": {
             "colorbar": {
              "outlinewidth": 0,
              "ticks": ""
             }
            },
            "type": "scatterpolargl"
           }
          ],
          "scatterternary": [
           {
            "marker": {
             "colorbar": {
              "outlinewidth": 0,
              "ticks": ""
             }
            },
            "type": "scatterternary"
           }
          ],
          "surface": [
           {
            "colorbar": {
             "outlinewidth": 0,
             "ticks": ""
            },
            "colorscale": [
             [
              0,
              "#0d0887"
             ],
             [
              0.1111111111111111,
              "#46039f"
             ],
             [
              0.2222222222222222,
              "#7201a8"
             ],
             [
              0.3333333333333333,
              "#9c179e"
             ],
             [
              0.4444444444444444,
              "#bd3786"
             ],
             [
              0.5555555555555556,
              "#d8576b"
             ],
             [
              0.6666666666666666,
              "#ed7953"
             ],
             [
              0.7777777777777778,
              "#fb9f3a"
             ],
             [
              0.8888888888888888,
              "#fdca26"
             ],
             [
              1,
              "#f0f921"
             ]
            ],
            "type": "surface"
           }
          ],
          "table": [
           {
            "cells": {
             "fill": {
              "color": "#EBF0F8"
             },
             "line": {
              "color": "white"
             }
            },
            "header": {
             "fill": {
              "color": "#C8D4E3"
             },
             "line": {
              "color": "white"
             }
            },
            "type": "table"
           }
          ]
         },
         "layout": {
          "annotationdefaults": {
           "arrowcolor": "#2a3f5f",
           "arrowhead": 0,
           "arrowwidth": 1
          },
          "autotypenumbers": "strict",
          "coloraxis": {
           "colorbar": {
            "outlinewidth": 0,
            "ticks": ""
           }
          },
          "colorscale": {
           "diverging": [
            [
             0,
             "#8e0152"
            ],
            [
             0.1,
             "#c51b7d"
            ],
            [
             0.2,
             "#de77ae"
            ],
            [
             0.3,
             "#f1b6da"
            ],
            [
             0.4,
             "#fde0ef"
            ],
            [
             0.5,
             "#f7f7f7"
            ],
            [
             0.6,
             "#e6f5d0"
            ],
            [
             0.7,
             "#b8e186"
            ],
            [
             0.8,
             "#7fbc41"
            ],
            [
             0.9,
             "#4d9221"
            ],
            [
             1,
             "#276419"
            ]
           ],
           "sequential": [
            [
             0,
             "#0d0887"
            ],
            [
             0.1111111111111111,
             "#46039f"
            ],
            [
             0.2222222222222222,
             "#7201a8"
            ],
            [
             0.3333333333333333,
             "#9c179e"
            ],
            [
             0.4444444444444444,
             "#bd3786"
            ],
            [
             0.5555555555555556,
             "#d8576b"
            ],
            [
             0.6666666666666666,
             "#ed7953"
            ],
            [
             0.7777777777777778,
             "#fb9f3a"
            ],
            [
             0.8888888888888888,
             "#fdca26"
            ],
            [
             1,
             "#f0f921"
            ]
           ],
           "sequentialminus": [
            [
             0,
             "#0d0887"
            ],
            [
             0.1111111111111111,
             "#46039f"
            ],
            [
             0.2222222222222222,
             "#7201a8"
            ],
            [
             0.3333333333333333,
             "#9c179e"
            ],
            [
             0.4444444444444444,
             "#bd3786"
            ],
            [
             0.5555555555555556,
             "#d8576b"
            ],
            [
             0.6666666666666666,
             "#ed7953"
            ],
            [
             0.7777777777777778,
             "#fb9f3a"
            ],
            [
             0.8888888888888888,
             "#fdca26"
            ],
            [
             1,
             "#f0f921"
            ]
           ]
          },
          "colorway": [
           "#636efa",
           "#EF553B",
           "#00cc96",
           "#ab63fa",
           "#FFA15A",
           "#19d3f3",
           "#FF6692",
           "#B6E880",
           "#FF97FF",
           "#FECB52"
          ],
          "font": {
           "color": "#2a3f5f"
          },
          "geo": {
           "bgcolor": "white",
           "lakecolor": "white",
           "landcolor": "#E5ECF6",
           "showlakes": true,
           "showland": true,
           "subunitcolor": "white"
          },
          "hoverlabel": {
           "align": "left"
          },
          "hovermode": "closest",
          "mapbox": {
           "style": "light"
          },
          "paper_bgcolor": "white",
          "plot_bgcolor": "#E5ECF6",
          "polar": {
           "angularaxis": {
            "gridcolor": "white",
            "linecolor": "white",
            "ticks": ""
           },
           "bgcolor": "#E5ECF6",
           "radialaxis": {
            "gridcolor": "white",
            "linecolor": "white",
            "ticks": ""
           }
          },
          "scene": {
           "xaxis": {
            "backgroundcolor": "#E5ECF6",
            "gridcolor": "white",
            "gridwidth": 2,
            "linecolor": "white",
            "showbackground": true,
            "ticks": "",
            "zerolinecolor": "white"
           },
           "yaxis": {
            "backgroundcolor": "#E5ECF6",
            "gridcolor": "white",
            "gridwidth": 2,
            "linecolor": "white",
            "showbackground": true,
            "ticks": "",
            "zerolinecolor": "white"
           },
           "zaxis": {
            "backgroundcolor": "#E5ECF6",
            "gridcolor": "white",
            "gridwidth": 2,
            "linecolor": "white",
            "showbackground": true,
            "ticks": "",
            "zerolinecolor": "white"
           }
          },
          "shapedefaults": {
           "line": {
            "color": "#2a3f5f"
           }
          },
          "ternary": {
           "aaxis": {
            "gridcolor": "white",
            "linecolor": "white",
            "ticks": ""
           },
           "baxis": {
            "gridcolor": "white",
            "linecolor": "white",
            "ticks": ""
           },
           "bgcolor": "#E5ECF6",
           "caxis": {
            "gridcolor": "white",
            "linecolor": "white",
            "ticks": ""
           }
          },
          "title": {
           "x": 0.05
          },
          "xaxis": {
           "automargin": true,
           "gridcolor": "white",
           "linecolor": "white",
           "ticks": "",
           "title": {
            "standoff": 15
           },
           "zerolinecolor": "white",
           "zerolinewidth": 2
          },
          "yaxis": {
           "automargin": true,
           "gridcolor": "white",
           "linecolor": "white",
           "ticks": "",
           "title": {
            "standoff": 15
           },
           "zerolinecolor": "white",
           "zerolinewidth": 2
          }
         }
        },
        "title": {
         "font": {
          "family": "Segoe UI"
         },
         "text": "La parité est elle respectée au sein des listes ?",
         "x": 0.5,
         "xanchor": "center"
        },
        "xaxis": {
         "ticksuffix": "%"
        }
       }
      }
     },
     "metadata": {},
     "output_type": "display_data"
    }
   ],
   "source": [
    "traces = []\n",
    "for data_config in [\n",
    "    {\"cat\": \"M\", \"color\": \"#ee5a45\", \"name\": \"Masculin\"},\n",
    "    {\"cat\": \"F\", \"color\": \"#1e8f89\", \"name\": \"Féminin\"},\n",
    "]:\n",
    "    data = df_sex_by_list[:, data_config[\"cat\"]].sort_index() * 100\n",
    "    trace = go.Bar(\n",
    "        y=data.index,\n",
    "        x=data,\n",
    "        orientation=\"h\",\n",
    "        marker_color=data_config[\"color\"],\n",
    "        name=data_config[\"name\"],\n",
    "    )\n",
    "    traces.append(trace)\n",
    "fig = go.Figure(traces)\n",
    "fig.update_layout(\n",
    "    barmode=\"stack\",\n",
    "    plot_bgcolor=\"white\",\n",
    "    height=1000,\n",
    "    title=\"La parité est elle respectée au sein des listes ?\",\n",
    "    title_font_family=\"Segoe UI\",\n",
    "    title_x=0.5,\n",
    "    title_xanchor=\"center\",\n",
    ")\n",
    "fig.add_vline(x=50, annotation_text=\"50%\", annotation_position=\"top\")\n",
    "fig.update_xaxes(ticksuffix=\"%\")\n",
    "fig.show()"
   ]
  },
  {
   "cell_type": "code",
   "execution_count": 41,
   "metadata": {},
   "outputs": [],
   "source": [
    "df[\"age\"] = (\n",
    "    pd.Timestamp.now() - pd.to_datetime(df[\"Date de naissance\"], format=\"%d/%m/%Y\")\n",
    ").dt.components.days // 365"
   ]
  },
  {
   "cell_type": "code",
   "execution_count": 63,
   "metadata": {},
   "outputs": [
    {
     "data": {
      "text/plain": [
       "49.82033788174139"
      ]
     },
     "execution_count": 63,
     "metadata": {},
     "output_type": "execute_result"
    }
   ],
   "source": [
    "df[\"age\"].mean()"
   ]
  },
  {
   "cell_type": "code",
   "execution_count": 42,
   "metadata": {},
   "outputs": [],
   "source": [
    "bins = [18, 30, 40, 50, 60, 70, 120]\n",
    "labels = [\"18-29\", \"30-39\", \"40-49\", \"50-59\", \"60-69\", \"70+\"]\n",
    "\n",
    "# Ajouter une colonne pour les tranches d'âges\n",
    "df[\"Tranche d'âge\"] = pd.cut(df[\"age\"], bins=bins, labels=labels, right=False)"
   ]
  },
  {
   "cell_type": "code",
   "execution_count": 44,
   "metadata": {},
   "outputs": [
    {
     "data": {
      "text/plain": [
       "Tranche d'âge\n",
       "50-59    759\n",
       "60-69    594\n",
       "40-49    592\n",
       "30-39    484\n",
       "18-29    355\n",
       "70+      294\n",
       "Name: count, dtype: int64"
      ]
     },
     "execution_count": 44,
     "metadata": {},
     "output_type": "execute_result"
    }
   ],
   "source": [
    "df[\"Tranche d'âge\"].value_counts()"
   ]
  },
  {
   "cell_type": "code",
   "execution_count": 45,
   "metadata": {},
   "outputs": [],
   "source": [
    "df_age_by_list = df.groupby([\"Libellé de la liste\"])[\"Tranche d'âge\"].value_counts(\n",
    "    normalize=True\n",
    ")"
   ]
  },
  {
   "cell_type": "code",
   "execution_count": 46,
   "metadata": {},
   "outputs": [
    {
     "data": {
      "text/plain": [
       "Libellé de la liste                                                            Tranche d'âge\n",
       "\"POUR LE PAIN, LA PAIX, LA LIBERTÉ !\" PRÉSENTÉE PAR LE PARTI DES TRAVAILLEURS  18-29            0.308642\n",
       "                                                                               30-39            0.172840\n",
       "                                                                               40-49            0.172840\n",
       "                                                                               60-69            0.160494\n",
       "                                                                               50-59            0.148148\n",
       "                                                                                                  ...   \n",
       "ÉQUINOXE : ÉCOLOGIE PRATIQUE ET RENOUVEAU DÉMOCRATIQUE                         30-39            0.271605\n",
       "                                                                               50-59            0.185185\n",
       "                                                                               40-49            0.061728\n",
       "                                                                               60-69            0.061728\n",
       "                                                                               70+              0.012346\n",
       "Name: proportion, Length: 228, dtype: float64"
      ]
     },
     "execution_count": 46,
     "metadata": {},
     "output_type": "execute_result"
    }
   ],
   "source": [
    "df_age_by_list"
   ]
  },
  {
   "cell_type": "code",
   "execution_count": 62,
   "metadata": {},
   "outputs": [
    {
     "data": {
      "application/vnd.plotly.v1+json": {
       "config": {
        "plotlyServerURL": "https://plot.ly"
       },
       "data": [
        {
         "name": "18-29 ans",
         "type": "bar",
         "x": [
          "\"POUR LE PAIN, LA PAIX, LA LIBERTÉ !\" PRÉSENTÉE PAR LE PARTI DES TRAVAILLEURS",
          "ALLIANCE RURALE",
          "BESOIN D'EUROPE",
          "CHANGER L'EUROPE",
          "DEFENDRE LES ENFANTS",
          "DEMOCRATIE REPRESENTATIVE",
          "ECOLOGIE POSITIVE ET TERRITOIRES",
          "ESPERANTO LANGUE COMMUNE",
          "EUROPE TERRITOIRES ÉCOLOGIE",
          "EUROPE ÉCOLOGIE",
          "FORTERESSE EUROPE - LISTE D'UNITE NATIONALISTE",
          "FRANCE LIBRE",
          "FREE PALESTINE",
          "GAUCHE UNIE POUR LE MONDE DU TRAVAIL SOUTENUE PAR FABIEN ROUSSEL",
          "L'EUROPE CA SUFFIT !",
          "LA DROITE POUR FAIRE ENTENDRE LA VOIX DE LA FRANCE EN EUROPE",
          "LA FRANCE FIERE, MENEE PAR MARION MARECHAL ET SOUTENUE PAR ÉRIC ZEMMOUR",
          "LA FRANCE INSOUMISE - UNION POPULAIRE",
          "LA FRANCE REVIENT ! AVEC JORDAN BARDELLA ET MARINE LE PEN",
          "LA RUCHE CITOYENNE",
          "LIBERTÉ DÉMOCRATIQUE FRANÇAISE",
          "LISTE ASSELINEAU-FREXIT, POUR LE POUVOIR D'ACHAT ET POUR LA PAIX",
          "LUTTE OUVRIERE - LE CAMP DES TRAVAILLEURS",
          "NON ! PRENONS-NOUS EN MAINS",
          "NON À L'UE ET À L'OTAN, COMMUNISTES POUR LA PAIX ET LE PROGRÈS SOCIAL",
          "NOUS LE PEUPLE",
          "PACE - PARTI DES CITOYENS EUROPÉENS, POUR L'ARMÉE EUROPÉENNE, POUR L'EUROPE SOCIALE , POUR LA PLANÈTE !",
          "PAIX ET DECROISSANCE",
          "PARTI ANIMALISTE - LES ANIMAUX COMPTENT, VOTRE VOIX AUSSI",
          "PARTI PIRATE",
          "PARTI REVOLUTIONNAIRE COMMUNISTES",
          "POUR UN MONDE SANS FRONTIERES NI PATRONS, URGENCE REVOLUTION !",
          "POUR UNE AUTRE EUROPE",
          "POUR UNE DEMOCRATIE REELLE : DECIDONS NOUS-MEMES !",
          "POUR UNE HUMANITE SOUVERAINE",
          "RÉVEILLER L'EUROPE",
          "ÉCOLOGIE AU CENTRE",
          "ÉQUINOXE : ÉCOLOGIE PRATIQUE ET RENOUVEAU DÉMOCRATIQUE"
         ],
         "y": [
          30.864197530864196,
          3.7037037037037033,
          4.938271604938271,
          33.33333333333333,
          1.2345679012345678,
          22.22222222222222,
          4.938271604938271,
          4.938271604938271,
          11.11111111111111,
          20.98765432098765,
          9.876543209876543,
          6.172839506172839,
          18.51851851851852,
          6.172839506172839,
          8.641975308641975,
          14.814814814814813,
          7.4074074074074066,
          16.049382716049383,
          14.814814814814813,
          2.4691358024691357,
          14.814814814814813,
          1.2345679012345678,
          0,
          1.2345679012345678,
          4.938271604938271,
          11.11111111111111,
          13.580246913580247,
          3.7037037037037033,
          12.345679012345679,
          18.51851851851852,
          0,
          25.925925925925924,
          6.172839506172839,
          0,
          17.28395061728395,
          17.28395061728395,
          6.172839506172839,
          40.74074074074074
         ]
        },
        {
         "name": "30-39 ans",
         "type": "bar",
         "x": [
          "\"POUR LE PAIN, LA PAIX, LA LIBERTÉ !\" PRÉSENTÉE PAR LE PARTI DES TRAVAILLEURS",
          "ALLIANCE RURALE",
          "BESOIN D'EUROPE",
          "CHANGER L'EUROPE",
          "DEFENDRE LES ENFANTS",
          "DEMOCRATIE REPRESENTATIVE",
          "ECOLOGIE POSITIVE ET TERRITOIRES",
          "ESPERANTO LANGUE COMMUNE",
          "EUROPE TERRITOIRES ÉCOLOGIE",
          "EUROPE ÉCOLOGIE",
          "FORTERESSE EUROPE - LISTE D'UNITE NATIONALISTE",
          "FRANCE LIBRE",
          "FREE PALESTINE",
          "GAUCHE UNIE POUR LE MONDE DU TRAVAIL SOUTENUE PAR FABIEN ROUSSEL",
          "L'EUROPE CA SUFFIT !",
          "LA DROITE POUR FAIRE ENTENDRE LA VOIX DE LA FRANCE EN EUROPE",
          "LA FRANCE FIERE, MENEE PAR MARION MARECHAL ET SOUTENUE PAR ÉRIC ZEMMOUR",
          "LA FRANCE INSOUMISE - UNION POPULAIRE",
          "LA FRANCE REVIENT ! AVEC JORDAN BARDELLA ET MARINE LE PEN",
          "LA RUCHE CITOYENNE",
          "LIBERTÉ DÉMOCRATIQUE FRANÇAISE",
          "LISTE ASSELINEAU-FREXIT, POUR LE POUVOIR D'ACHAT ET POUR LA PAIX",
          "LUTTE OUVRIERE - LE CAMP DES TRAVAILLEURS",
          "NON ! PRENONS-NOUS EN MAINS",
          "NON À L'UE ET À L'OTAN, COMMUNISTES POUR LA PAIX ET LE PROGRÈS SOCIAL",
          "NOUS LE PEUPLE",
          "PACE - PARTI DES CITOYENS EUROPÉENS, POUR L'ARMÉE EUROPÉENNE, POUR L'EUROPE SOCIALE , POUR LA PLANÈTE !",
          "PAIX ET DECROISSANCE",
          "PARTI ANIMALISTE - LES ANIMAUX COMPTENT, VOTRE VOIX AUSSI",
          "PARTI PIRATE",
          "PARTI REVOLUTIONNAIRE COMMUNISTES",
          "POUR UN MONDE SANS FRONTIERES NI PATRONS, URGENCE REVOLUTION !",
          "POUR UNE AUTRE EUROPE",
          "POUR UNE DEMOCRATIE REELLE : DECIDONS NOUS-MEMES !",
          "POUR UNE HUMANITE SOUVERAINE",
          "RÉVEILLER L'EUROPE",
          "ÉCOLOGIE AU CENTRE",
          "ÉQUINOXE : ÉCOLOGIE PRATIQUE ET RENOUVEAU DÉMOCRATIQUE"
         ],
         "y": [
          17.28395061728395,
          11.11111111111111,
          27.160493827160494,
          12.345679012345679,
          12.345679012345679,
          34.5679012345679,
          16.049382716049383,
          6.172839506172839,
          14.814814814814813,
          23.456790123456788,
          11.11111111111111,
          3.7037037037037033,
          18.51851851851852,
          9.876543209876543,
          9.876543209876543,
          16.049382716049383,
          22.22222222222222,
          32.098765432098766,
          22.22222222222222,
          4.938271604938271,
          9.876543209876543,
          11.11111111111111,
          6.172839506172839,
          1.2345679012345678,
          11.11111111111111,
          11.11111111111111,
          22.22222222222222,
          14.814814814814813,
          14.814814814814813,
          34.5679012345679,
          4.938271604938271,
          33.33333333333333,
          11.11111111111111,
          14.814814814814813,
          18.51851851851852,
          18.51851851851852,
          6.172839506172839,
          27.160493827160494
         ]
        },
        {
         "name": "40-49 ans",
         "type": "bar",
         "x": [
          "\"POUR LE PAIN, LA PAIX, LA LIBERTÉ !\" PRÉSENTÉE PAR LE PARTI DES TRAVAILLEURS",
          "ALLIANCE RURALE",
          "BESOIN D'EUROPE",
          "CHANGER L'EUROPE",
          "DEFENDRE LES ENFANTS",
          "DEMOCRATIE REPRESENTATIVE",
          "ECOLOGIE POSITIVE ET TERRITOIRES",
          "ESPERANTO LANGUE COMMUNE",
          "EUROPE TERRITOIRES ÉCOLOGIE",
          "EUROPE ÉCOLOGIE",
          "FORTERESSE EUROPE - LISTE D'UNITE NATIONALISTE",
          "FRANCE LIBRE",
          "FREE PALESTINE",
          "GAUCHE UNIE POUR LE MONDE DU TRAVAIL SOUTENUE PAR FABIEN ROUSSEL",
          "L'EUROPE CA SUFFIT !",
          "LA DROITE POUR FAIRE ENTENDRE LA VOIX DE LA FRANCE EN EUROPE",
          "LA FRANCE FIERE, MENEE PAR MARION MARECHAL ET SOUTENUE PAR ÉRIC ZEMMOUR",
          "LA FRANCE INSOUMISE - UNION POPULAIRE",
          "LA FRANCE REVIENT ! AVEC JORDAN BARDELLA ET MARINE LE PEN",
          "LA RUCHE CITOYENNE",
          "LIBERTÉ DÉMOCRATIQUE FRANÇAISE",
          "LISTE ASSELINEAU-FREXIT, POUR LE POUVOIR D'ACHAT ET POUR LA PAIX",
          "LUTTE OUVRIERE - LE CAMP DES TRAVAILLEURS",
          "NON ! PRENONS-NOUS EN MAINS",
          "NON À L'UE ET À L'OTAN, COMMUNISTES POUR LA PAIX ET LE PROGRÈS SOCIAL",
          "NOUS LE PEUPLE",
          "PACE - PARTI DES CITOYENS EUROPÉENS, POUR L'ARMÉE EUROPÉENNE, POUR L'EUROPE SOCIALE , POUR LA PLANÈTE !",
          "PAIX ET DECROISSANCE",
          "PARTI ANIMALISTE - LES ANIMAUX COMPTENT, VOTRE VOIX AUSSI",
          "PARTI PIRATE",
          "PARTI REVOLUTIONNAIRE COMMUNISTES",
          "POUR UN MONDE SANS FRONTIERES NI PATRONS, URGENCE REVOLUTION !",
          "POUR UNE AUTRE EUROPE",
          "POUR UNE DEMOCRATIE REELLE : DECIDONS NOUS-MEMES !",
          "POUR UNE HUMANITE SOUVERAINE",
          "RÉVEILLER L'EUROPE",
          "ÉCOLOGIE AU CENTRE",
          "ÉQUINOXE : ÉCOLOGIE PRATIQUE ET RENOUVEAU DÉMOCRATIQUE"
         ],
         "y": [
          17.28395061728395,
          19.753086419753085,
          18.51851851851852,
          4.938271604938271,
          37.03703703703704,
          30.864197530864196,
          9.876543209876543,
          11.11111111111111,
          20.98765432098765,
          24.691358024691358,
          16.049382716049383,
          27.160493827160494,
          32.098765432098766,
          24.691358024691358,
          11.11111111111111,
          27.160493827160494,
          22.22222222222222,
          18.51851851851852,
          12.345679012345679,
          32.098765432098766,
          22.22222222222222,
          18.51851851851852,
          19.753086419753085,
          13.580246913580247,
          22.22222222222222,
          18.51851851851852,
          9.876543209876543,
          17.28395061728395,
          17.28395061728395,
          27.160493827160494,
          16.049382716049383,
          23.456790123456788,
          8.641975308641975,
          12.345679012345679,
          17.28395061728395,
          28.39506172839506,
          13.580246913580247,
          6.172839506172839
         ]
        },
        {
         "name": "50-59 ans",
         "type": "bar",
         "x": [
          "\"POUR LE PAIN, LA PAIX, LA LIBERTÉ !\" PRÉSENTÉE PAR LE PARTI DES TRAVAILLEURS",
          "ALLIANCE RURALE",
          "BESOIN D'EUROPE",
          "CHANGER L'EUROPE",
          "DEFENDRE LES ENFANTS",
          "DEMOCRATIE REPRESENTATIVE",
          "ECOLOGIE POSITIVE ET TERRITOIRES",
          "ESPERANTO LANGUE COMMUNE",
          "EUROPE TERRITOIRES ÉCOLOGIE",
          "EUROPE ÉCOLOGIE",
          "FORTERESSE EUROPE - LISTE D'UNITE NATIONALISTE",
          "FRANCE LIBRE",
          "FREE PALESTINE",
          "GAUCHE UNIE POUR LE MONDE DU TRAVAIL SOUTENUE PAR FABIEN ROUSSEL",
          "L'EUROPE CA SUFFIT !",
          "LA DROITE POUR FAIRE ENTENDRE LA VOIX DE LA FRANCE EN EUROPE",
          "LA FRANCE FIERE, MENEE PAR MARION MARECHAL ET SOUTENUE PAR ÉRIC ZEMMOUR",
          "LA FRANCE INSOUMISE - UNION POPULAIRE",
          "LA FRANCE REVIENT ! AVEC JORDAN BARDELLA ET MARINE LE PEN",
          "LA RUCHE CITOYENNE",
          "LIBERTÉ DÉMOCRATIQUE FRANÇAISE",
          "LISTE ASSELINEAU-FREXIT, POUR LE POUVOIR D'ACHAT ET POUR LA PAIX",
          "LUTTE OUVRIERE - LE CAMP DES TRAVAILLEURS",
          "NON ! PRENONS-NOUS EN MAINS",
          "NON À L'UE ET À L'OTAN, COMMUNISTES POUR LA PAIX ET LE PROGRÈS SOCIAL",
          "NOUS LE PEUPLE",
          "PACE - PARTI DES CITOYENS EUROPÉENS, POUR L'ARMÉE EUROPÉENNE, POUR L'EUROPE SOCIALE , POUR LA PLANÈTE !",
          "PAIX ET DECROISSANCE",
          "PARTI ANIMALISTE - LES ANIMAUX COMPTENT, VOTRE VOIX AUSSI",
          "PARTI PIRATE",
          "PARTI REVOLUTIONNAIRE COMMUNISTES",
          "POUR UN MONDE SANS FRONTIERES NI PATRONS, URGENCE REVOLUTION !",
          "POUR UNE AUTRE EUROPE",
          "POUR UNE DEMOCRATIE REELLE : DECIDONS NOUS-MEMES !",
          "POUR UNE HUMANITE SOUVERAINE",
          "RÉVEILLER L'EUROPE",
          "ÉCOLOGIE AU CENTRE",
          "ÉQUINOXE : ÉCOLOGIE PRATIQUE ET RENOUVEAU DÉMOCRATIQUE"
         ],
         "y": [
          14.814814814814813,
          22.22222222222222,
          34.5679012345679,
          12.345679012345679,
          28.39506172839506,
          7.4074074074074066,
          29.629629629629626,
          11.11111111111111,
          25.925925925925924,
          14.814814814814813,
          27.160493827160494,
          28.39506172839506,
          19.753086419753085,
          30.864197530864196,
          27.160493827160494,
          27.160493827160494,
          27.160493827160494,
          23.456790123456788,
          25.925925925925924,
          35.80246913580247,
          28.39506172839506,
          11.11111111111111,
          53.086419753086425,
          33.33333333333333,
          24.691358024691358,
          27.160493827160494,
          16.049382716049383,
          28.39506172839506,
          25.925925925925924,
          13.580246913580247,
          33.33333333333333,
          11.11111111111111,
          23.456790123456788,
          29.629629629629626,
          24.691358024691358,
          25.925925925925924,
          34.5679012345679,
          18.51851851851852
         ]
        },
        {
         "name": "60-69 ans",
         "type": "bar",
         "x": [
          "\"POUR LE PAIN, LA PAIX, LA LIBERTÉ !\" PRÉSENTÉE PAR LE PARTI DES TRAVAILLEURS",
          "ALLIANCE RURALE",
          "BESOIN D'EUROPE",
          "CHANGER L'EUROPE",
          "DEFENDRE LES ENFANTS",
          "DEMOCRATIE REPRESENTATIVE",
          "ECOLOGIE POSITIVE ET TERRITOIRES",
          "ESPERANTO LANGUE COMMUNE",
          "EUROPE TERRITOIRES ÉCOLOGIE",
          "EUROPE ÉCOLOGIE",
          "FORTERESSE EUROPE - LISTE D'UNITE NATIONALISTE",
          "FRANCE LIBRE",
          "FREE PALESTINE",
          "GAUCHE UNIE POUR LE MONDE DU TRAVAIL SOUTENUE PAR FABIEN ROUSSEL",
          "L'EUROPE CA SUFFIT !",
          "LA DROITE POUR FAIRE ENTENDRE LA VOIX DE LA FRANCE EN EUROPE",
          "LA FRANCE FIERE, MENEE PAR MARION MARECHAL ET SOUTENUE PAR ÉRIC ZEMMOUR",
          "LA FRANCE INSOUMISE - UNION POPULAIRE",
          "LA FRANCE REVIENT ! AVEC JORDAN BARDELLA ET MARINE LE PEN",
          "LA RUCHE CITOYENNE",
          "LIBERTÉ DÉMOCRATIQUE FRANÇAISE",
          "LISTE ASSELINEAU-FREXIT, POUR LE POUVOIR D'ACHAT ET POUR LA PAIX",
          "LUTTE OUVRIERE - LE CAMP DES TRAVAILLEURS",
          "NON ! PRENONS-NOUS EN MAINS",
          "NON À L'UE ET À L'OTAN, COMMUNISTES POUR LA PAIX ET LE PROGRÈS SOCIAL",
          "NOUS LE PEUPLE",
          "PACE - PARTI DES CITOYENS EUROPÉENS, POUR L'ARMÉE EUROPÉENNE, POUR L'EUROPE SOCIALE , POUR LA PLANÈTE !",
          "PAIX ET DECROISSANCE",
          "PARTI ANIMALISTE - LES ANIMAUX COMPTENT, VOTRE VOIX AUSSI",
          "PARTI PIRATE",
          "PARTI REVOLUTIONNAIRE COMMUNISTES",
          "POUR UN MONDE SANS FRONTIERES NI PATRONS, URGENCE REVOLUTION !",
          "POUR UNE AUTRE EUROPE",
          "POUR UNE DEMOCRATIE REELLE : DECIDONS NOUS-MEMES !",
          "POUR UNE HUMANITE SOUVERAINE",
          "RÉVEILLER L'EUROPE",
          "ÉCOLOGIE AU CENTRE",
          "ÉQUINOXE : ÉCOLOGIE PRATIQUE ET RENOUVEAU DÉMOCRATIQUE"
         ],
         "y": [
          16.049382716049383,
          32.098765432098766,
          8.641975308641975,
          23.456790123456788,
          13.580246913580247,
          2.4691358024691357,
          22.22222222222222,
          32.098765432098766,
          23.456790123456788,
          11.11111111111111,
          18.51851851851852,
          25.925925925925924,
          6.172839506172839,
          23.456790123456788,
          27.160493827160494,
          13.580246913580247,
          16.049382716049383,
          4.938271604938271,
          24.691358024691358,
          19.753086419753085,
          20.98765432098765,
          43.20987654320987,
          19.753086419753085,
          37.03703703703704,
          23.456790123456788,
          19.753086419753085,
          17.28395061728395,
          22.22222222222222,
          22.22222222222222,
          3.7037037037037033,
          22.22222222222222,
          2.4691358024691357,
          35.80246913580247,
          22.22222222222222,
          13.580246913580247,
          7.4074074074074066,
          28.39506172839506,
          6.172839506172839
         ]
        },
        {
         "name": "70 ans et plus",
         "type": "bar",
         "x": [
          "\"POUR LE PAIN, LA PAIX, LA LIBERTÉ !\" PRÉSENTÉE PAR LE PARTI DES TRAVAILLEURS",
          "ALLIANCE RURALE",
          "BESOIN D'EUROPE",
          "CHANGER L'EUROPE",
          "DEFENDRE LES ENFANTS",
          "DEMOCRATIE REPRESENTATIVE",
          "ECOLOGIE POSITIVE ET TERRITOIRES",
          "ESPERANTO LANGUE COMMUNE",
          "EUROPE TERRITOIRES ÉCOLOGIE",
          "EUROPE ÉCOLOGIE",
          "FORTERESSE EUROPE - LISTE D'UNITE NATIONALISTE",
          "FRANCE LIBRE",
          "FREE PALESTINE",
          "GAUCHE UNIE POUR LE MONDE DU TRAVAIL SOUTENUE PAR FABIEN ROUSSEL",
          "L'EUROPE CA SUFFIT !",
          "LA DROITE POUR FAIRE ENTENDRE LA VOIX DE LA FRANCE EN EUROPE",
          "LA FRANCE FIERE, MENEE PAR MARION MARECHAL ET SOUTENUE PAR ÉRIC ZEMMOUR",
          "LA FRANCE INSOUMISE - UNION POPULAIRE",
          "LA FRANCE REVIENT ! AVEC JORDAN BARDELLA ET MARINE LE PEN",
          "LA RUCHE CITOYENNE",
          "LIBERTÉ DÉMOCRATIQUE FRANÇAISE",
          "LISTE ASSELINEAU-FREXIT, POUR LE POUVOIR D'ACHAT ET POUR LA PAIX",
          "LUTTE OUVRIERE - LE CAMP DES TRAVAILLEURS",
          "NON ! PRENONS-NOUS EN MAINS",
          "NON À L'UE ET À L'OTAN, COMMUNISTES POUR LA PAIX ET LE PROGRÈS SOCIAL",
          "NOUS LE PEUPLE",
          "PACE - PARTI DES CITOYENS EUROPÉENS, POUR L'ARMÉE EUROPÉENNE, POUR L'EUROPE SOCIALE , POUR LA PLANÈTE !",
          "PAIX ET DECROISSANCE",
          "PARTI ANIMALISTE - LES ANIMAUX COMPTENT, VOTRE VOIX AUSSI",
          "PARTI PIRATE",
          "PARTI REVOLUTIONNAIRE COMMUNISTES",
          "POUR UN MONDE SANS FRONTIERES NI PATRONS, URGENCE REVOLUTION !",
          "POUR UNE AUTRE EUROPE",
          "POUR UNE DEMOCRATIE REELLE : DECIDONS NOUS-MEMES !",
          "POUR UNE HUMANITE SOUVERAINE",
          "RÉVEILLER L'EUROPE",
          "ÉCOLOGIE AU CENTRE",
          "ÉQUINOXE : ÉCOLOGIE PRATIQUE ET RENOUVEAU DÉMOCRATIQUE"
         ],
         "y": [
          3.7037037037037033,
          11.11111111111111,
          6.172839506172839,
          13.580246913580247,
          7.4074074074074066,
          2.4691358024691357,
          17.28395061728395,
          34.5679012345679,
          3.7037037037037033,
          4.938271604938271,
          17.28395061728395,
          8.641975308641975,
          4.938271604938271,
          4.938271604938271,
          16.049382716049383,
          1.2345679012345678,
          4.938271604938271,
          4.938271604938271,
          0,
          4.938271604938271,
          3.7037037037037033,
          14.814814814814813,
          1.2345679012345678,
          13.580246913580247,
          13.580246913580247,
          12.345679012345679,
          20.98765432098765,
          13.580246913580247,
          7.4074074074074066,
          2.4691358024691357,
          23.456790123456788,
          3.7037037037037033,
          14.814814814814813,
          20.98765432098765,
          8.641975308641975,
          2.4691358024691357,
          11.11111111111111,
          1.2345679012345678
         ]
        }
       ],
       "layout": {
        "barmode": "stack",
        "height": 1000,
        "legend": {
         "orientation": "h",
         "y": 1.2
        },
        "plot_bgcolor": "white",
        "template": {
         "data": {
          "bar": [
           {
            "error_x": {
             "color": "#2a3f5f"
            },
            "error_y": {
             "color": "#2a3f5f"
            },
            "marker": {
             "line": {
              "color": "#E5ECF6",
              "width": 0.5
             },
             "pattern": {
              "fillmode": "overlay",
              "size": 10,
              "solidity": 0.2
             }
            },
            "type": "bar"
           }
          ],
          "barpolar": [
           {
            "marker": {
             "line": {
              "color": "#E5ECF6",
              "width": 0.5
             },
             "pattern": {
              "fillmode": "overlay",
              "size": 10,
              "solidity": 0.2
             }
            },
            "type": "barpolar"
           }
          ],
          "carpet": [
           {
            "aaxis": {
             "endlinecolor": "#2a3f5f",
             "gridcolor": "white",
             "linecolor": "white",
             "minorgridcolor": "white",
             "startlinecolor": "#2a3f5f"
            },
            "baxis": {
             "endlinecolor": "#2a3f5f",
             "gridcolor": "white",
             "linecolor": "white",
             "minorgridcolor": "white",
             "startlinecolor": "#2a3f5f"
            },
            "type": "carpet"
           }
          ],
          "choropleth": [
           {
            "colorbar": {
             "outlinewidth": 0,
             "ticks": ""
            },
            "type": "choropleth"
           }
          ],
          "contour": [
           {
            "colorbar": {
             "outlinewidth": 0,
             "ticks": ""
            },
            "colorscale": [
             [
              0,
              "#0d0887"
             ],
             [
              0.1111111111111111,
              "#46039f"
             ],
             [
              0.2222222222222222,
              "#7201a8"
             ],
             [
              0.3333333333333333,
              "#9c179e"
             ],
             [
              0.4444444444444444,
              "#bd3786"
             ],
             [
              0.5555555555555556,
              "#d8576b"
             ],
             [
              0.6666666666666666,
              "#ed7953"
             ],
             [
              0.7777777777777778,
              "#fb9f3a"
             ],
             [
              0.8888888888888888,
              "#fdca26"
             ],
             [
              1,
              "#f0f921"
             ]
            ],
            "type": "contour"
           }
          ],
          "contourcarpet": [
           {
            "colorbar": {
             "outlinewidth": 0,
             "ticks": ""
            },
            "type": "contourcarpet"
           }
          ],
          "heatmap": [
           {
            "colorbar": {
             "outlinewidth": 0,
             "ticks": ""
            },
            "colorscale": [
             [
              0,
              "#0d0887"
             ],
             [
              0.1111111111111111,
              "#46039f"
             ],
             [
              0.2222222222222222,
              "#7201a8"
             ],
             [
              0.3333333333333333,
              "#9c179e"
             ],
             [
              0.4444444444444444,
              "#bd3786"
             ],
             [
              0.5555555555555556,
              "#d8576b"
             ],
             [
              0.6666666666666666,
              "#ed7953"
             ],
             [
              0.7777777777777778,
              "#fb9f3a"
             ],
             [
              0.8888888888888888,
              "#fdca26"
             ],
             [
              1,
              "#f0f921"
             ]
            ],
            "type": "heatmap"
           }
          ],
          "heatmapgl": [
           {
            "colorbar": {
             "outlinewidth": 0,
             "ticks": ""
            },
            "colorscale": [
             [
              0,
              "#0d0887"
             ],
             [
              0.1111111111111111,
              "#46039f"
             ],
             [
              0.2222222222222222,
              "#7201a8"
             ],
             [
              0.3333333333333333,
              "#9c179e"
             ],
             [
              0.4444444444444444,
              "#bd3786"
             ],
             [
              0.5555555555555556,
              "#d8576b"
             ],
             [
              0.6666666666666666,
              "#ed7953"
             ],
             [
              0.7777777777777778,
              "#fb9f3a"
             ],
             [
              0.8888888888888888,
              "#fdca26"
             ],
             [
              1,
              "#f0f921"
             ]
            ],
            "type": "heatmapgl"
           }
          ],
          "histogram": [
           {
            "marker": {
             "pattern": {
              "fillmode": "overlay",
              "size": 10,
              "solidity": 0.2
             }
            },
            "type": "histogram"
           }
          ],
          "histogram2d": [
           {
            "colorbar": {
             "outlinewidth": 0,
             "ticks": ""
            },
            "colorscale": [
             [
              0,
              "#0d0887"
             ],
             [
              0.1111111111111111,
              "#46039f"
             ],
             [
              0.2222222222222222,
              "#7201a8"
             ],
             [
              0.3333333333333333,
              "#9c179e"
             ],
             [
              0.4444444444444444,
              "#bd3786"
             ],
             [
              0.5555555555555556,
              "#d8576b"
             ],
             [
              0.6666666666666666,
              "#ed7953"
             ],
             [
              0.7777777777777778,
              "#fb9f3a"
             ],
             [
              0.8888888888888888,
              "#fdca26"
             ],
             [
              1,
              "#f0f921"
             ]
            ],
            "type": "histogram2d"
           }
          ],
          "histogram2dcontour": [
           {
            "colorbar": {
             "outlinewidth": 0,
             "ticks": ""
            },
            "colorscale": [
             [
              0,
              "#0d0887"
             ],
             [
              0.1111111111111111,
              "#46039f"
             ],
             [
              0.2222222222222222,
              "#7201a8"
             ],
             [
              0.3333333333333333,
              "#9c179e"
             ],
             [
              0.4444444444444444,
              "#bd3786"
             ],
             [
              0.5555555555555556,
              "#d8576b"
             ],
             [
              0.6666666666666666,
              "#ed7953"
             ],
             [
              0.7777777777777778,
              "#fb9f3a"
             ],
             [
              0.8888888888888888,
              "#fdca26"
             ],
             [
              1,
              "#f0f921"
             ]
            ],
            "type": "histogram2dcontour"
           }
          ],
          "mesh3d": [
           {
            "colorbar": {
             "outlinewidth": 0,
             "ticks": ""
            },
            "type": "mesh3d"
           }
          ],
          "parcoords": [
           {
            "line": {
             "colorbar": {
              "outlinewidth": 0,
              "ticks": ""
             }
            },
            "type": "parcoords"
           }
          ],
          "pie": [
           {
            "automargin": true,
            "type": "pie"
           }
          ],
          "scatter": [
           {
            "fillpattern": {
             "fillmode": "overlay",
             "size": 10,
             "solidity": 0.2
            },
            "type": "scatter"
           }
          ],
          "scatter3d": [
           {
            "line": {
             "colorbar": {
              "outlinewidth": 0,
              "ticks": ""
             }
            },
            "marker": {
             "colorbar": {
              "outlinewidth": 0,
              "ticks": ""
             }
            },
            "type": "scatter3d"
           }
          ],
          "scattercarpet": [
           {
            "marker": {
             "colorbar": {
              "outlinewidth": 0,
              "ticks": ""
             }
            },
            "type": "scattercarpet"
           }
          ],
          "scattergeo": [
           {
            "marker": {
             "colorbar": {
              "outlinewidth": 0,
              "ticks": ""
             }
            },
            "type": "scattergeo"
           }
          ],
          "scattergl": [
           {
            "marker": {
             "colorbar": {
              "outlinewidth": 0,
              "ticks": ""
             }
            },
            "type": "scattergl"
           }
          ],
          "scattermapbox": [
           {
            "marker": {
             "colorbar": {
              "outlinewidth": 0,
              "ticks": ""
             }
            },
            "type": "scattermapbox"
           }
          ],
          "scatterpolar": [
           {
            "marker": {
             "colorbar": {
              "outlinewidth": 0,
              "ticks": ""
             }
            },
            "type": "scatterpolar"
           }
          ],
          "scatterpolargl": [
           {
            "marker": {
             "colorbar": {
              "outlinewidth": 0,
              "ticks": ""
             }
            },
            "type": "scatterpolargl"
           }
          ],
          "scatterternary": [
           {
            "marker": {
             "colorbar": {
              "outlinewidth": 0,
              "ticks": ""
             }
            },
            "type": "scatterternary"
           }
          ],
          "surface": [
           {
            "colorbar": {
             "outlinewidth": 0,
             "ticks": ""
            },
            "colorscale": [
             [
              0,
              "#0d0887"
             ],
             [
              0.1111111111111111,
              "#46039f"
             ],
             [
              0.2222222222222222,
              "#7201a8"
             ],
             [
              0.3333333333333333,
              "#9c179e"
             ],
             [
              0.4444444444444444,
              "#bd3786"
             ],
             [
              0.5555555555555556,
              "#d8576b"
             ],
             [
              0.6666666666666666,
              "#ed7953"
             ],
             [
              0.7777777777777778,
              "#fb9f3a"
             ],
             [
              0.8888888888888888,
              "#fdca26"
             ],
             [
              1,
              "#f0f921"
             ]
            ],
            "type": "surface"
           }
          ],
          "table": [
           {
            "cells": {
             "fill": {
              "color": "#EBF0F8"
             },
             "line": {
              "color": "white"
             }
            },
            "header": {
             "fill": {
              "color": "#C8D4E3"
             },
             "line": {
              "color": "white"
             }
            },
            "type": "table"
           }
          ]
         },
         "layout": {
          "annotationdefaults": {
           "arrowcolor": "#2a3f5f",
           "arrowhead": 0,
           "arrowwidth": 1
          },
          "autotypenumbers": "strict",
          "coloraxis": {
           "colorbar": {
            "outlinewidth": 0,
            "ticks": ""
           }
          },
          "colorscale": {
           "diverging": [
            [
             0,
             "#8e0152"
            ],
            [
             0.1,
             "#c51b7d"
            ],
            [
             0.2,
             "#de77ae"
            ],
            [
             0.3,
             "#f1b6da"
            ],
            [
             0.4,
             "#fde0ef"
            ],
            [
             0.5,
             "#f7f7f7"
            ],
            [
             0.6,
             "#e6f5d0"
            ],
            [
             0.7,
             "#b8e186"
            ],
            [
             0.8,
             "#7fbc41"
            ],
            [
             0.9,
             "#4d9221"
            ],
            [
             1,
             "#276419"
            ]
           ],
           "sequential": [
            [
             0,
             "#0d0887"
            ],
            [
             0.1111111111111111,
             "#46039f"
            ],
            [
             0.2222222222222222,
             "#7201a8"
            ],
            [
             0.3333333333333333,
             "#9c179e"
            ],
            [
             0.4444444444444444,
             "#bd3786"
            ],
            [
             0.5555555555555556,
             "#d8576b"
            ],
            [
             0.6666666666666666,
             "#ed7953"
            ],
            [
             0.7777777777777778,
             "#fb9f3a"
            ],
            [
             0.8888888888888888,
             "#fdca26"
            ],
            [
             1,
             "#f0f921"
            ]
           ],
           "sequentialminus": [
            [
             0,
             "#0d0887"
            ],
            [
             0.1111111111111111,
             "#46039f"
            ],
            [
             0.2222222222222222,
             "#7201a8"
            ],
            [
             0.3333333333333333,
             "#9c179e"
            ],
            [
             0.4444444444444444,
             "#bd3786"
            ],
            [
             0.5555555555555556,
             "#d8576b"
            ],
            [
             0.6666666666666666,
             "#ed7953"
            ],
            [
             0.7777777777777778,
             "#fb9f3a"
            ],
            [
             0.8888888888888888,
             "#fdca26"
            ],
            [
             1,
             "#f0f921"
            ]
           ]
          },
          "colorway": [
           "#636efa",
           "#EF553B",
           "#00cc96",
           "#ab63fa",
           "#FFA15A",
           "#19d3f3",
           "#FF6692",
           "#B6E880",
           "#FF97FF",
           "#FECB52"
          ],
          "font": {
           "color": "#2a3f5f"
          },
          "geo": {
           "bgcolor": "white",
           "lakecolor": "white",
           "landcolor": "#E5ECF6",
           "showlakes": true,
           "showland": true,
           "subunitcolor": "white"
          },
          "hoverlabel": {
           "align": "left"
          },
          "hovermode": "closest",
          "mapbox": {
           "style": "light"
          },
          "paper_bgcolor": "white",
          "plot_bgcolor": "#E5ECF6",
          "polar": {
           "angularaxis": {
            "gridcolor": "white",
            "linecolor": "white",
            "ticks": ""
           },
           "bgcolor": "#E5ECF6",
           "radialaxis": {
            "gridcolor": "white",
            "linecolor": "white",
            "ticks": ""
           }
          },
          "scene": {
           "xaxis": {
            "backgroundcolor": "#E5ECF6",
            "gridcolor": "white",
            "gridwidth": 2,
            "linecolor": "white",
            "showbackground": true,
            "ticks": "",
            "zerolinecolor": "white"
           },
           "yaxis": {
            "backgroundcolor": "#E5ECF6",
            "gridcolor": "white",
            "gridwidth": 2,
            "linecolor": "white",
            "showbackground": true,
            "ticks": "",
            "zerolinecolor": "white"
           },
           "zaxis": {
            "backgroundcolor": "#E5ECF6",
            "gridcolor": "white",
            "gridwidth": 2,
            "linecolor": "white",
            "showbackground": true,
            "ticks": "",
            "zerolinecolor": "white"
           }
          },
          "shapedefaults": {
           "line": {
            "color": "#2a3f5f"
           }
          },
          "ternary": {
           "aaxis": {
            "gridcolor": "white",
            "linecolor": "white",
            "ticks": ""
           },
           "baxis": {
            "gridcolor": "white",
            "linecolor": "white",
            "ticks": ""
           },
           "bgcolor": "#E5ECF6",
           "caxis": {
            "gridcolor": "white",
            "linecolor": "white",
            "ticks": ""
           }
          },
          "title": {
           "x": 0.05
          },
          "xaxis": {
           "automargin": true,
           "gridcolor": "white",
           "linecolor": "white",
           "ticks": "",
           "title": {
            "standoff": 15
           },
           "zerolinecolor": "white",
           "zerolinewidth": 2
          },
          "yaxis": {
           "automargin": true,
           "gridcolor": "white",
           "linecolor": "white",
           "ticks": "",
           "title": {
            "standoff": 15
           },
           "zerolinecolor": "white",
           "zerolinewidth": 2
          }
         }
        },
        "title": {
         "font": {
          "family": "Segoe UI"
         },
         "text": "Distribution das ages",
         "x": 0.5,
         "xanchor": "center"
        },
        "yaxis": {
         "ticksuffix": "%"
        }
       }
      }
     },
     "metadata": {},
     "output_type": "display_data"
    }
   ],
   "source": [
    "traces = []\n",
    "for data_config in [\n",
    "    {\"cat\": \"18-29\", \"color\": \"#ee5a45\", \"name\": \"18-29 ans\"},\n",
    "    {\"cat\": \"30-39\", \"color\": \"#1e8f89\", \"name\": \"30-39 ans\"},\n",
    "    {\"cat\": \"40-49\", \"color\": \"#1e8f89\", \"name\": \"40-49 ans\"},\n",
    "    {\"cat\": \"50-59\", \"color\": \"#1e8f89\", \"name\": \"50-59 ans\"},\n",
    "    {\"cat\": \"60-69\", \"color\": \"#1e8f89\", \"name\": \"60-69 ans\"},\n",
    "    {\"cat\": \"70+\", \"color\": \"#1e8f89\", \"name\": \"70 ans et plus\"},\n",
    "]:\n",
    "    data = df_age_by_list[:, data_config[\"cat\"]].sort_index() * 100\n",
    "    trace = go.Bar(\n",
    "        x=data.index,\n",
    "        y=data,\n",
    "        name=data_config[\"name\"],\n",
    "    )\n",
    "    traces.append(trace)\n",
    "fig = go.Figure(traces)\n",
    "fig.update_layout(\n",
    "    barmode=\"stack\",\n",
    "    plot_bgcolor=\"white\",\n",
    "    height=1000,\n",
    "    title=\"Distribution das ages\",\n",
    "    title_font_family=\"Segoe UI\",\n",
    "    title_x=0.5,\n",
    "    title_xanchor=\"center\",\n",
    "    legend_orientation=\"h\",\n",
    "    legend_y=1.2,\n",
    ")\n",
    "fig.update_yaxes(ticksuffix=\"%\")\n",
    "fig.show()"
   ]
  },
  {
   "cell_type": "code",
   "execution_count": null,
   "metadata": {},
   "outputs": [],
   "source": []
  }
 ],
 "metadata": {
  "kernelspec": {
   "display_name": "europeennes",
   "language": "python",
   "name": "python3"
  },
  "language_info": {
   "codemirror_mode": {
    "name": "ipython",
    "version": 3
   },
   "file_extension": ".py",
   "mimetype": "text/x-python",
   "name": "python",
   "nbconvert_exporter": "python",
   "pygments_lexer": "ipython3",
   "version": "3.10.14"
  }
 },
 "nbformat": 4,
 "nbformat_minor": 2
}
